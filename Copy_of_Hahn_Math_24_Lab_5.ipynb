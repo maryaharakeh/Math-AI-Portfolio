{
  "nbformat": 4,
  "nbformat_minor": 0,
  "metadata": {
    "colab": {
      "provenance": []
    },
    "kernelspec": {
      "name": "python3",
      "display_name": "Python 3"
    },
    "language_info": {
      "name": "python"
    }
  },
  "cells": [
    {
      "cell_type": "code",
      "metadata": {
        "id": "xOGTsXv1WHP9"
      },
      "source": [
        "import matplotlib.pyplot as plt\n",
        "#Matplotlib is a powerful Python library for creating visualizations, charts, and plots. It provides a flexible and customizable interface for generating 2D graphics.\n",
        "from PIL import Image\n",
        "#The Python Imaging Library (PIL) is a library for opening, manipulating, and saving various image file formats. It provides functions for basic image processing tasks, such as resizing, cropping, rotating, and applying filters.\n",
        "import imageio.v2 as imageio\n",
        "#Imageio is a Python library for reading and writing image data. It supports various image formats and provides a simple interface for working with images."
      ],
      "execution_count": null,
      "outputs": []
    },
    {
      "cell_type": "code",
      "metadata": {
        "id": "CXSqNoaoWHQB"
      },
      "source": [
        "def plot(x):\n",
        "    fig, ax = plt.subplots()\n",
        "    im = ax.imshow(x,cmap='gray')\n",
        "    ax.axis('off')\n",
        "    fig.set_size_inches(20, 20)\n",
        "    plt.show()\n",
        "#the plot() function takes an image represented by a 2D array (x),\n",
        "#displays it without axis ticks or labels, and sets the figure size before showing the plot."
      ],
      "execution_count": null,
      "outputs": []
    },
    {
      "cell_type": "code",
      "metadata": {
        "id": "I4N7peO5WHQD"
      },
      "source": [
        "im = imageio.imread('https://lospec.com/palette-list/st-64-natural-1x.png')\n",
        "# reads an image using the imageio library\n",
        "#The resulting array represents the pixel values of the image, which can be further processed or displayed."
      ],
      "execution_count": null,
      "outputs": []
    },
    {
      "cell_type": "code",
      "metadata": {
        "id": "6rfeaoMLWHQG"
      },
      "source": [
        "plot(im)\n",
        "#plots the image"
      ],
      "execution_count": null,
      "outputs": []
    },
    {
      "cell_type": "code",
      "source": [
        "im.shape\n",
        "#the shape of an image array represents its dimensions\n",
        "#it indicates the number of rows (height) and columns (width) in the image\n",
        "#the shape includes an additional dimension for the color channels (usually red, green, and blue), so it is represented as (height, width, channels)."
      ],
      "metadata": {
        "colab": {
          "base_uri": "https://localhost:8080/"
        },
        "id": "xoSZEpbBvIFm",
        "outputId": "f0d74532-6acc-4bc2-e03a-c76a0459751a"
      },
      "execution_count": null,
      "outputs": [
        {
          "output_type": "execute_result",
          "data": {
            "text/plain": [
              "(1, 64, 3)"
            ]
          },
          "metadata": {},
          "execution_count": 67
        }
      ]
    },
    {
      "cell_type": "code",
      "source": [
        "plot(im[:,40:41,:])\n",
        "#This displays a vertical line extracted from an image, spanning from row 0 to the last row and covering only column 40.\n",
        "#The line’s appearance depends on the pixel values in that column."
      ],
      "metadata": {
        "id": "Rx_dgOyOvRUK"
      },
      "execution_count": null,
      "outputs": []
    },
    {
      "cell_type": "code",
      "source": [
        "im[:,40:41,:]\n",
        "#gives the array without plotting"
      ],
      "metadata": {
        "id": "RvYEiukLvYhY",
        "colab": {
          "base_uri": "https://localhost:8080/"
        },
        "outputId": "7f5c11f5-0ca1-4c2d-a902-c59ae06146c3"
      },
      "execution_count": null,
      "outputs": [
        {
          "output_type": "execute_result",
          "data": {
            "text/plain": [
              "array([[[ 34, 122,  46]]], dtype=uint8)"
            ]
          },
          "metadata": {},
          "execution_count": 71
        }
      ]
    },
    {
      "cell_type": "code",
      "metadata": {
        "id": "wizRF0UvyACu"
      },
      "source": [
        "im = imageio.imread('https://lospec.com/palette-list/waverator-1x.png')\n",
        "#reads another image"
      ],
      "execution_count": null,
      "outputs": []
    },
    {
      "cell_type": "code",
      "metadata": {
        "id": "jUNaa3CAyADC"
      },
      "source": [
        "plot(im)\n",
        "#plots image"
      ],
      "execution_count": null,
      "outputs": []
    },
    {
      "cell_type": "code",
      "source": [
        "im\n",
        "#shows image array"
      ],
      "metadata": {
        "colab": {
          "base_uri": "https://localhost:8080/"
        },
        "id": "xFAsfqJeyB_L",
        "outputId": "dbf4a5ba-e1f6-4fc1-b98d-8d0140de6887"
      },
      "execution_count": null,
      "outputs": [
        {
          "output_type": "execute_result",
          "data": {
            "text/plain": [
              "array([[[ 12,  13,  20],\n",
              "        [ 24,  28,  40],\n",
              "        [ 35,  49,  61],\n",
              "        [ 51,  80,  93],\n",
              "        [ 78, 127, 125],\n",
              "        [ 83, 167, 136],\n",
              "        [112, 211, 139],\n",
              "        [203, 255, 216]]], dtype=uint8)"
            ]
          },
          "metadata": {},
          "execution_count": 74
        }
      ]
    },
    {
      "cell_type": "code",
      "source": [
        "import numpy as np\n",
        "import matplotlib.pyplot as plt"
      ],
      "metadata": {
        "id": "ozA3ReViYiw8"
      },
      "execution_count": null,
      "outputs": []
    },
    {
      "cell_type": "code",
      "source": [
        "# Binary image\n",
        "binary_image = np.array([\n",
        "    [0, 1, 0],\n",
        "    [1, 1, 1],\n",
        "    [0, 1, 0]\n",
        "])\n",
        "#The provided code snippet defines a binary image represented by a 3x3 NumPy array,\n",
        "#where the value 1 indicates the presence of an object (foreground), and 0 represents the background."
      ],
      "metadata": {
        "id": "SLb3jQfn5n_e"
      },
      "execution_count": null,
      "outputs": []
    },
    {
      "cell_type": "code",
      "source": [
        "binary_image\n",
        "#displays array"
      ],
      "metadata": {
        "id": "tkoQNj5K9qvB",
        "colab": {
          "base_uri": "https://localhost:8080/"
        },
        "outputId": "10fcd438-9935-45d9-c1ea-205d50f15856"
      },
      "execution_count": null,
      "outputs": [
        {
          "output_type": "execute_result",
          "data": {
            "text/plain": [
              "array([[0, 1, 0],\n",
              "       [1, 1, 1],\n",
              "       [0, 1, 0]])"
            ]
          },
          "metadata": {},
          "execution_count": 77
        }
      ]
    },
    {
      "cell_type": "code",
      "source": [
        "plt.imshow(binary_image, cmap='gray')\n",
        "# The provided code snippet displays a binary image using a grayscale colormap. In the image, the value 1 represents the presence of an object (foreground), and 0 represents the background."
      ],
      "metadata": {
        "id": "So9oakbf5L-O"
      },
      "execution_count": null,
      "outputs": []
    },
    {
      "cell_type": "code",
      "source": [
        "# Grayscale image\n",
        "grayscale_image = np.array([\n",
        "    [50, 100, 150],\n",
        "    [200, 255, 200],\n",
        "    [150, 100, 50]\n",
        "])\n",
        "plt.imshow(grayscale_image, cmap='gray', vmin=0, vmax=255)\n",
        "#The provided code snippet displays a grayscale image using a grayscale colormap.\n",
        "#In the image, pixel values ranging from 0 to 255 are represented by different shades of gray."
      ],
      "metadata": {
        "id": "6oy7Grh25mMQ"
      },
      "execution_count": null,
      "outputs": []
    },
    {
      "cell_type": "code",
      "source": [
        "# Grayscale image\n",
        "grayscale_image = np.array([\n",
        "    [0.2, 0.4, 0.6],\n",
        "    [0.8, 1.0, 0.8],\n",
        "    [0.6, 0.4, 0.2]\n",
        "])\n",
        "plt.imshow(grayscale_image, cmap='gray')\n",
        "#This displays a grayscale image using a grayscale colormap.\n",
        "#In the image, pixel values ranging from 0 to 1 are represented by different shades of gray."
      ],
      "metadata": {
        "id": "oWuqeR1t_mkk"
      },
      "execution_count": null,
      "outputs": []
    },
    {
      "cell_type": "code",
      "source": [
        "# RGB image\n",
        "rgb_image = np.array([\n",
        "    [[255, 0, 0], [0, 255, 0], [0, 0, 255]],\n",
        "    [[255, 255, 0], [0, 255, 255], [255, 0, 255]],\n",
        "    [[128, 128, 128], [255, 255, 255], [0, 0, 0]]\n",
        "])\n",
        "#This defines an RGB image represented by a 3x3x3 NumPy array.\n",
        "#Each element in the array corresponds to the red, green, and blue color channels of a pixel.\n",
        "#For example, the first pixel has RGB values (255, 0, 0) representing pure red."
      ],
      "metadata": {
        "id": "yA_f7pwk5mgD"
      },
      "execution_count": null,
      "outputs": []
    },
    {
      "cell_type": "code",
      "source": [
        "rgb_image\n",
        "#displays array"
      ],
      "metadata": {
        "id": "KltPutRz5N3n",
        "colab": {
          "base_uri": "https://localhost:8080/"
        },
        "outputId": "82715332-2610-4af3-cb1b-3d643e714ce5"
      },
      "execution_count": null,
      "outputs": [
        {
          "output_type": "execute_result",
          "data": {
            "text/plain": [
              "array([[[255,   0,   0],\n",
              "        [  0, 255,   0],\n",
              "        [  0,   0, 255]],\n",
              "\n",
              "       [[255, 255,   0],\n",
              "        [  0, 255, 255],\n",
              "        [255,   0, 255]],\n",
              "\n",
              "       [[128, 128, 128],\n",
              "        [255, 255, 255],\n",
              "        [  0,   0,   0]]])"
            ]
          },
          "metadata": {},
          "execution_count": 18
        }
      ]
    },
    {
      "cell_type": "code",
      "source": [
        "plt.imshow(rgb_image)\n",
        "#plots image"
      ],
      "metadata": {
        "id": "p_us3Y1u5dcp"
      },
      "execution_count": null,
      "outputs": []
    },
    {
      "cell_type": "code",
      "source": [
        "# RGB image\n",
        "rgb_image = np.array([\n",
        "    [[1, 0, 0], [0, 1, 0], [0, 0, 1]],\n",
        "    [[1, 1, 0], [0, 1, 1], [1, 0, 1]],\n",
        "    [[0.5, 0.5, 0.5], [1, 1, 1], [0, 0, 0]]\n",
        "])\n",
        "#defines an RGB image represented by a 3x3x3 NumPy array.\n",
        "#Each element in the array corresponds to the red, green, and blue color channels of a pixel. For example, the first pixel has RGB values (1, 0, 0), representing pure red."
      ],
      "metadata": {
        "id": "CqaM0e5S5yeL"
      },
      "execution_count": null,
      "outputs": []
    },
    {
      "cell_type": "code",
      "source": [
        "# RGB image\n",
        "rgb_image = np.array([\n",
        "    [[1, 0, 0], [0, 1, 0], [0, 0, 1]],\n",
        "    [[1, 1, 0], [0, 1, 1], [1, 0, 1]],\n",
        "\n",
        "])\n",
        "#defines an RGB image represented by a 3x3x3 NumPy array. Each element in the array corresponds to the red, green, and blue color channels of a pixel. For example, the first pixel has RGB values (1, 0, 0), representing pure red."
      ],
      "metadata": {
        "id": "uiBsECTu-cEp"
      },
      "execution_count": null,
      "outputs": []
    },
    {
      "cell_type": "code",
      "source": [
        "rgb_image\n",
        "#displays array"
      ],
      "metadata": {
        "id": "kiZGrkym5yeM",
        "colab": {
          "base_uri": "https://localhost:8080/"
        },
        "outputId": "18e756c6-31f1-4aa5-892e-51f3aa14cade"
      },
      "execution_count": null,
      "outputs": [
        {
          "output_type": "execute_result",
          "data": {
            "text/plain": [
              "array([[[1, 0, 0],\n",
              "        [0, 1, 0],\n",
              "        [0, 0, 1]],\n",
              "\n",
              "       [[1, 1, 0],\n",
              "        [0, 1, 1],\n",
              "        [1, 0, 1]]])"
            ]
          },
          "metadata": {},
          "execution_count": 82
        }
      ]
    },
    {
      "cell_type": "code",
      "source": [
        "plt.imshow(rgb_image*255)\n",
        "#displays an RGB image (represented by the rgb_image array) after scaling its\n",
        "#pixel values by 255.\n",
        "#This scaling effectively maps the original pixel values (ranging from 0 to 1) to the full 8-bit range (0 to 255) for display."
      ],
      "metadata": {
        "id": "1ZdxKDfU5yeN"
      },
      "execution_count": null,
      "outputs": []
    },
    {
      "cell_type": "code",
      "source": [],
      "metadata": {
        "id": "4orjEX4u5khN"
      },
      "execution_count": null,
      "outputs": []
    },
    {
      "cell_type": "code",
      "source": [
        "x = np.zeros((2,2,3))\n",
        "x[:,:,0] = 1\n",
        "plt.imshow(x)\n",
        "#The provided code snippet creates a 2x2 RGB image where the red channel (first channel) is set to 1 for all pixels, resulting in a red square."
      ],
      "metadata": {
        "id": "Uiws1qxK6jBh"
      },
      "execution_count": null,
      "outputs": []
    },
    {
      "cell_type": "code",
      "source": [
        "x = np.zeros((2,2,3))\n",
        "x[:,:,1] = 1\n",
        "plt.imshow(x)\n",
        "# creates a 2x2 RGB image where the green channel (second channel) is set to 1 for all pixels, resulting in a green square."
      ],
      "metadata": {
        "id": "4fO6fR3x6Nnr"
      },
      "execution_count": null,
      "outputs": []
    },
    {
      "cell_type": "code",
      "source": [
        "x = np.zeros((2,2,3))\n",
        "x[:,:,2] = 1\n",
        "plt.imshow(x)\n",
        "#creates a 2x2 RGB image where the blue channel (third channel) is set to 1 for all pixels, resulting in a blue square."
      ],
      "metadata": {
        "id": "OykuOX3p6NsV"
      },
      "execution_count": null,
      "outputs": []
    },
    {
      "cell_type": "code",
      "source": [
        "x = np.zeros((2,2,3))\n",
        "x[:,:,0] = 1\n",
        "x[:,:,1] = 1\n",
        "plt.imshow(x)\n",
        "#creates a 2x2 RGB image where the first and second channels (red and green) are set to 1 for all pixels, resulting in a yellow square."
      ],
      "metadata": {
        "id": "2kDsLE886NwB"
      },
      "execution_count": null,
      "outputs": []
    },
    {
      "cell_type": "code",
      "source": [
        "x = np.zeros((2,2,3))\n",
        "x[:,:,1] = 1\n",
        "x[:,:,2] = 1\n",
        "plt.imshow(x)\n",
        "#creates a 2x2 RGB image where the green and blue channels are set to 1 for all pixels, resulting in a cyan color."
      ],
      "metadata": {
        "id": "Nb2t0vLv6zsl"
      },
      "execution_count": null,
      "outputs": []
    },
    {
      "cell_type": "code",
      "source": [
        "x = np.zeros((2,2,3))\n",
        "x[:,:,0] = 1\n",
        "x[:,:,2] = 1\n",
        "plt.imshow(x)\n",
        "#creates a 2x2 RGB image where the red and blue channels are set to 1 for all pixels, resulting in a purple square."
      ],
      "metadata": {
        "id": "nLZV243L6vex"
      },
      "execution_count": null,
      "outputs": []
    },
    {
      "cell_type": "code",
      "source": [
        "x = np.zeros((2,2,3))\n",
        "x[:,:,0] = 0.5\n",
        "x[:,:,1] = 0.5\n",
        "x[:,:,2] = 0.5\n",
        "plt.imshow(x)\n",
        "#The provided code snippet creates a 2x2 gray RGB image where all color channels have a value of 0.5 (gray), resulting in a uniform gray square."
      ],
      "metadata": {
        "id": "55sJlmMw7DRv"
      },
      "execution_count": null,
      "outputs": []
    },
    {
      "cell_type": "code",
      "source": [
        "x = np.zeros((2,2,3))\n",
        "x[:,:,0] = 1\n",
        "x[:,:,1] = 1\n",
        "x[:,:,2] = 1\n",
        "plt.imshow(x)\n",
        "#creates a 2x2 white RGB image where all color channels (red, green, and blue) are set to 1, resulting in a white square."
      ],
      "metadata": {
        "id": "o5-hvRId7Amb"
      },
      "execution_count": null,
      "outputs": []
    },
    {
      "cell_type": "code",
      "source": [
        "x = np.zeros((2,2,3))\n",
        "x[:,:,0] = 0\n",
        "x[:,:,1] = 0\n",
        "x[:,:,2] = 0\n",
        "plt.imshow(x)\n",
        "#creates a 2x2 black RGB image where all color channels (red, green, and blue) are set to 0, resulting in a black square."
      ],
      "metadata": {
        "id": "wGQYd7mj7GlL"
      },
      "execution_count": null,
      "outputs": []
    },
    {
      "cell_type": "code",
      "source": [],
      "metadata": {
        "id": "TICbGm40869M"
      },
      "execution_count": null,
      "outputs": []
    },
    {
      "cell_type": "code",
      "source": [
        "r = np.random.rand()\n",
        "#generates a random number between 0 and 1 and assigns it to r"
      ],
      "metadata": {
        "id": "ARJJQWHm87FV"
      },
      "execution_count": null,
      "outputs": []
    },
    {
      "cell_type": "code",
      "source": [
        "r"
      ],
      "metadata": {
        "id": "dlGTmIRK87Ie",
        "colab": {
          "base_uri": "https://localhost:8080/"
        },
        "outputId": "ba39bae1-f0cb-4470-8fda-362e6a57b10f"
      },
      "execution_count": null,
      "outputs": [
        {
          "output_type": "execute_result",
          "data": {
            "text/plain": [
              "0.6258627097027869"
            ]
          },
          "metadata": {},
          "execution_count": 87
        }
      ]
    },
    {
      "cell_type": "code",
      "source": [],
      "metadata": {
        "id": "RsRdXfIB6vhd"
      },
      "execution_count": null,
      "outputs": []
    },
    {
      "cell_type": "code",
      "source": [
        "r = np.random.rand()\n",
        "g = np.random.rand()\n",
        "b = np.random.rand()\n",
        "\n",
        "\n",
        "x = np.zeros((2,2,3))\n",
        "\n",
        "x[:,:,0] = r\n",
        "x[:,:,1] = g\n",
        "x[:,:,2] = b\n",
        "\n",
        "\n",
        "plt.imshow(x)\n",
        "#generates a 2x2 RGB image with random colors for each pixel.\n",
        "#The red, green, and blue channels are assigned random values between 0 and 1, resulting in a colorful display."
      ],
      "metadata": {
        "id": "eaawQxKX8-_L"
      },
      "execution_count": null,
      "outputs": []
    },
    {
      "cell_type": "code",
      "source": [
        "for i in range(5):\n",
        "\n",
        "    z = np.ones((10,10,3))\n",
        "\n",
        "    r = np.random.rand()\n",
        "    g = np.random.rand()\n",
        "    b = np.random.rand()\n",
        "\n",
        "    print(r,g,b)\n",
        "\n",
        "    z[:,:,0] = r\n",
        "    z[:,:,1] = g\n",
        "    z[:,:,2] = b\n",
        "\n",
        "    plt.imshow(z);\n",
        "    plt.show()\n",
        "#This generates five random RGB images, each with a different color.\n",
        "#The red, green, and blue channels are assigned random values between 0 and 1 for each image.\n",
        "#The images are displayed one after the other."
      ],
      "metadata": {
        "id": "mcnFf8iWVmFq"
      },
      "execution_count": null,
      "outputs": []
    },
    {
      "cell_type": "code",
      "source": [],
      "metadata": {
        "id": "aMpu4a-yqZ8K"
      },
      "execution_count": null,
      "outputs": []
    },
    {
      "cell_type": "code",
      "source": [
        "for i in range(5):\n",
        "\n",
        "    z1 = np.ones((10,10,3))\n",
        "    z2 = np.ones((10,10,3))\n",
        "\n",
        "    r = np.random.rand()\n",
        "    g = np.random.rand()\n",
        "    b = np.random.rand()\n",
        "\n",
        "    z1[:,:,0] = r\n",
        "    z1[:,:,1] = g\n",
        "    z1[:,:,2] = b\n",
        "\n",
        "    z2[:,:,0] = 1-r\n",
        "    z2[:,:,1] = 1-g\n",
        "    z2[:,:,2] = 1-b\n",
        "\n",
        "    z3 = np.hstack((z1,z2))\n",
        "\n",
        "    plt.imshow(z3);\n",
        "    plt.show()\n",
        "#This generates five pairs of random RGB images, each with complementary colors.\n",
        "#The left image in each pair has random RGB values, while the right image has inverted RGB values (1 minus the original value).\n",
        "#The resulting images are displayed side by side."
      ],
      "metadata": {
        "id": "1Y0s21HPbNBg"
      },
      "execution_count": null,
      "outputs": []
    },
    {
      "cell_type": "code",
      "source": [],
      "metadata": {
        "id": "FYLvFtobqaAE"
      },
      "execution_count": null,
      "outputs": []
    },
    {
      "cell_type": "code",
      "source": [
        "z1 = np.ones((10,10,3))\n",
        "z1[:,:,0] = np.random.rand()\n",
        "z1[:,:,1] = np.random.rand()\n",
        "z1[:,:,2] = np.random.rand()\n",
        "\n",
        "z2 = np.ones((10,10,3))\n",
        "z2[:,:,0] = np.random.rand()\n",
        "z2[:,:,1] = np.random.rand()\n",
        "z2[:,:,2] = np.random.rand()\n",
        "\n",
        "zavg = (z1+z2)/2\n",
        "\n",
        "z3 = np.hstack((z1,zavg,z2))\n",
        "\n",
        "plt.imshow(z3);\n",
        "plt.show()\n",
        "# It creates two 10x10x3 arrays, z1 and z2, filled with ones.\n",
        "#It then assigns random values to each channel of z1 and z2.\n",
        "#The average of z1 and z2 is calculated and stored in zavg.\n",
        "#Finally, the three arrays are horizontally stacked to create a new array z3, which is displayed as an image"
      ],
      "metadata": {
        "id": "3PHUvtCKqaJY"
      },
      "execution_count": null,
      "outputs": []
    },
    {
      "cell_type": "code",
      "source": [],
      "metadata": {
        "id": "qLMRfLYLqaMS"
      },
      "execution_count": null,
      "outputs": []
    },
    {
      "cell_type": "code",
      "source": [
        "z1 = np.ones((10,10,3))\n",
        "z1[:,:,0] = np.random.rand()\n",
        "z1[:,:,1] = np.random.rand()\n",
        "z1[:,:,2] = np.random.rand()\n",
        "\n",
        "z2 = np.ones((10,10,3))\n",
        "z2[:,:,0] = np.random.rand()\n",
        "z2[:,:,1] = np.random.rand()\n",
        "z2[:,:,2] = np.random.rand()\n",
        "\n",
        "zavg = (z1+z2)/2\n",
        "\n",
        "z1a = (z1+zavg)/2\n",
        "z2a = (z2+zavg)/2\n",
        "\n",
        "z3 = np.hstack((z1,z1a,zavg,z2a,z2))\n",
        "\n",
        "plt.imshow(z3);\n",
        "plt.show()\n",
        "#The code snippet creates and manipulates arrays z1, z2, and zavg,\n",
        "#and then horizontally stacks them to form a new array z3, which is displayed as an image"
      ],
      "metadata": {
        "id": "mX-00vpRaWgy"
      },
      "execution_count": null,
      "outputs": []
    },
    {
      "cell_type": "code",
      "source": [],
      "metadata": {
        "id": "z3JqvgXCay1a"
      },
      "execution_count": null,
      "outputs": []
    },
    {
      "cell_type": "code",
      "source": [
        "for i in range(100):\n",
        "\n",
        "    z1 = np.ones((10,10,3))\n",
        "    z1[:,:,0] = np.random.rand()\n",
        "    z1[:,:,1] = np.random.rand()\n",
        "    z1[:,:,2] = np.random.rand()\n",
        "\n",
        "    z2 = np.ones((10,10,3))\n",
        "    z2[:,:,0] = np.random.rand()\n",
        "    z2[:,:,1] = np.random.rand()\n",
        "    z2[:,:,2] = np.random.rand()\n",
        "\n",
        "    zavg = (z1+z2)/2\n",
        "\n",
        "    z1a = (z1+zavg)/2\n",
        "    z2a = (z2+zavg)/2\n",
        "\n",
        "    z3 = np.hstack((z1,z1a,zavg,z2a,z2))\n",
        "\n",
        "    plt.imshow(z3);\n",
        "    plt.show()\n",
        "#generates a 10x50 image with random color patterns\n",
        "#and displays it using matplotlib."
      ],
      "metadata": {
        "id": "UOXsNSkoay3y"
      },
      "execution_count": null,
      "outputs": []
    },
    {
      "cell_type": "code",
      "source": [],
      "metadata": {
        "id": "eJ2Ea9HBbM_X"
      },
      "execution_count": null,
      "outputs": []
    },
    {
      "cell_type": "code",
      "source": [
        "import numpy as np\n",
        "import matplotlib.pyplot as plt\n",
        "#This line imports the NumPy library, which provides support for numerical operations and array manipulation.\n",
        "#This line imports the pyplot module from the Matplotlib library, which is used for creating visualizations and plots.\n",
        "def recursive_average(colors):\n",
        "#defines a function that computes the recursive average of a given list of colors.\n",
        "    \"\"\"\n",
        "    Compute the recursive average of the given list of colors.\n",
        "\n",
        "    Parameters:\n",
        "    - colors: List of color arrays\n",
        "\n",
        "    Returns:\n",
        "    - A new list of color arrays containing the recursive averages.\n",
        "    \"\"\"\n",
        "#A list of color arrays (each representing an RGB color).\n",
        "#A new list of color arrays containing the recursive averages.\n",
        "\n",
        "    new_colors = [colors[0]]\n",
        "    for i in range(1, len(colors)):\n",
        "        avg_color = (colors[i] + new_colors[-1]) / 2.0\n",
        "        new_colors.extend([avg_color, colors[i]])\n",
        "    return new_colors\n",
        "\n",
        "def generate_recursive_colors_v2(passes):\n",
        "#This function generates a visualization of two random colors and their recursive averages for a specified number of passes.\n",
        "    \"\"\"\n",
        "    Generate a visualization of 2 random colors and their recursive averages for a number of passes.\n",
        "\n",
        "    Parameters:\n",
        "    - passes: Number of times to apply the recursive averaging process\n",
        "\n",
        "    Returns:\n",
        "    - An image showing the 2 endpoint colors and their recursive averages.\n",
        "    \"\"\"\n",
        "    # Start with 2 random colors (each with dimensions 10x10x3)\n",
        "    colors = [np.ones((10,10,3)) for _ in range(2)]\n",
        "    for color in colors:\n",
        "        color[:,:,0] = np.random.rand()\n",
        "        color[:,:,1] = np.random.rand()\n",
        "        color[:,:,2] = np.random.rand()\n",
        "\n",
        "    # Apply the recursive averaging for the specified number of passes\n",
        "    for _ in range(passes):\n",
        "        colors = recursive_average(colors)\n",
        "\n",
        "    # Horizontally stack the colors\n",
        "    result = np.hstack(colors)\n",
        "\n",
        "    return result\n",
        "#creates an image that visually demonstrates the recursive averaging process\n",
        "#for two random colors. The resulting image will show the original colors, their intermediate averages, and the final average color."
      ],
      "metadata": {
        "id": "xSZRdPcrsoKW"
      },
      "execution_count": null,
      "outputs": []
    },
    {
      "cell_type": "code",
      "source": [
        "for i in range(5):\n",
        "    img = generate_recursive_colors_v2(i)\n",
        "    plt.imshow(img)\n",
        "    plt.axis('off')\n",
        "    plt.tight_layout()\n",
        "    plt.show()\n",
        "#generates and displays a series of images showing the recursive averages of two random colors for different numbers of passes."
      ],
      "metadata": {
        "id": "7KmJdnRI_aXj"
      },
      "execution_count": null,
      "outputs": []
    },
    {
      "cell_type": "code",
      "source": [
        "import numpy as np\n",
        "import matplotlib.pyplot as plt\n",
        "\n",
        "def recursive_average(colors):\n",
        "#This function computes the recursive average of a given list of colors.\n",
        "    new_colors = [colors[0]]\n",
        "#The function initializes a new list called new_colors with the first color from the input list.\n",
        "    for i in range(1, len(colors)):\n",
        "        avg_color = (colors[i] + new_colors[-1]) / 2.0\n",
        "#It then iterates through the remaining colors and computes the average color between each consecutive pair of colors.\n",
        "        new_colors.extend([avg_color, colors[i]])\n",
        "#The computed average color is added to new_colors, along with the original color.\n",
        "    return new_colors\n",
        "\n",
        "def generate_recursive_colors_v2(passes, initial_colors):\n",
        "#This function generates a visualization of two random colors and their recursive averages for a specified number of passes.\n",
        "    colors = initial_colors.copy()\n",
        "\n",
        "    for _ in range(passes):\n",
        "        colors = recursive_average(colors)\n",
        "\n",
        "    result = np.hstack(colors)\n",
        "\n",
        "    return result\n",
        "#An image (represented as an array) showing the two endpoint colors and their recursive averages.\n",
        "\n",
        "initial_colors = [np.ones((10, 10, 3)) for _ in range(2)]\n",
        "for color in initial_colors:\n",
        "    color[:,:,0] = np.random.rand()\n",
        "    color[:,:,1] = np.random.rand()\n",
        "    color[:,:,2] = np.random.rand()\n",
        "#Each color array in initial_colors is initialized with random RGB values.\n",
        "\n",
        "passes_values = [0,1,2,3,4]\n",
        "imgs = [generate_recursive_colors_v2(p, initial_colors) for p in passes_values]\n",
        "#The recursive averaging process is then applied passes times using the recursive_average function.\n",
        "\n",
        "fig, axs = plt.subplots(1, len(passes_values), figsize=(15, 5))\n",
        "#Finally, the resulting colors are horizontally stacked to create the final image.\n",
        "\n",
        "for ax, img, p in zip(axs, imgs, passes_values):\n",
        "    ax.imshow(img)\n",
        "    ax.axis('off')\n",
        "    ax.set_title(f'Passes={p}')\n",
        "#The code initializes initial_colors with two random color arrays.\n",
        "#It defines a list of passes_values representing the number of passes for the recursive averaging process.\n",
        "#For each value of passes, it generates an image using generate_recursive_colors_v2.\n",
        "\n",
        "plt.tight_layout()\n",
        "plt.show()\n",
        "#The resulting images are displayed side by side in a row using Matplotlib.\n",
        "#The purpose of this code is to create a visual representation of the recursive averaging process for two random colors, showcasing how the colors evolve over multiple passes."
      ],
      "metadata": {
        "id": "RLxEEcFB_v_8"
      },
      "execution_count": null,
      "outputs": []
    },
    {
      "cell_type": "markdown",
      "source": [
        "https://lospec.com/palette-list"
      ],
      "metadata": {
        "id": "ShxAALmgM1uv"
      }
    },
    {
      "cell_type": "code",
      "source": [
        "import numpy as np\n",
        "import matplotlib.pyplot as plt\n",
        "import matplotlib.colors as mcolors\n",
        "import matplotlib\n",
        "import imageio.v2 as imageio\n",
        "from PIL import Image\n",
        "#imports libraries\n",
        "\n",
        "def get_colors_lospec(url):\n",
        "    im = imageio.imread(url)\n",
        "    rgb_list = (im/255)[0,:,0:3]\n",
        "    float_list = list(np.linspace(0,1,len(rgb_list)))\n",
        "    cdict = dict()\n",
        "    for num, col in enumerate(['red', 'green', 'blue']):\n",
        "        col_list = [[float_list[i], rgb_list[i][num], rgb_list[i][num]] for i in range(len(float_list))]\n",
        "        cdict[col] = col_list\n",
        "    cmp = mcolors.LinearSegmentedColormap('my_cmp', segmentdata=cdict, N=256)\n",
        "    return cmp\n",
        "#code defines a function called get_colors_lospec that retrieves a custom\n",
        "#colormap (color map) from a specified URL using Lospec image data.\n",
        "#The colormap is created based on the RGB values extracted from the image,\n",
        "#and it can be used for visualizations."
      ],
      "metadata": {
        "id": "CRKnDKcrWGA0"
      },
      "execution_count": null,
      "outputs": []
    },
    {
      "cell_type": "code",
      "source": [
        "url = 'https://lospec.com/palette-list/agb-32x.png'\n",
        "im = imageio.imread(url)\n",
        "plt.imshow(im);\n",
        "#reads, loads, and stores image"
      ],
      "metadata": {
        "id": "d4zuPhl7S0hM"
      },
      "execution_count": null,
      "outputs": []
    },
    {
      "cell_type": "code",
      "source": [
        "url = 'https://lospec.com/palette-list/agb-1x.png'\n",
        "im = imageio.imread(url)\n",
        "plt.imshow(im);\n",
        "#reads, loads, and stores image"
      ],
      "metadata": {
        "id": "N6slVKqSXSSd"
      },
      "execution_count": null,
      "outputs": []
    },
    {
      "cell_type": "code",
      "source": [
        "url = 'https://lospec.com/palette-list/moondrom-1x.png'\n",
        "im = imageio.imread(url)\n",
        "plt.imshow(im);\n",
        "#reads, loads, and stores image"
      ],
      "metadata": {
        "id": "E9x4ENWMRtIZ"
      },
      "execution_count": null,
      "outputs": []
    },
    {
      "cell_type": "code",
      "source": [
        "z = np.random.randint(0,255,size=(10,10))\n",
        "#generates a 10x10 array filled with random integers between 0 and 255.\n",
        "#Each element in the array represents a random value within this range."
      ],
      "metadata": {
        "id": "eLq5CnVtTD3d"
      },
      "execution_count": null,
      "outputs": []
    },
    {
      "cell_type": "code",
      "source": [
        "z\n",
        "#displays array"
      ],
      "metadata": {
        "colab": {
          "base_uri": "https://localhost:8080/"
        },
        "id": "Musz_cq7Rm-2",
        "outputId": "62fc7ee7-1ebc-4a3b-f731-96dd1d1b1670"
      },
      "execution_count": null,
      "outputs": [
        {
          "output_type": "execute_result",
          "data": {
            "text/plain": [
              "array([[178,  47,  69,   7, 102, 102,  20,  10,  41,  76],\n",
              "       [ 12,  44,  78, 166, 159,  27,  98, 129, 182, 137],\n",
              "       [ 12, 203, 101,  43,   9, 134, 119, 115, 156,  84],\n",
              "       [191,   0,  10,  95, 194, 183, 161,  52, 165, 180],\n",
              "       [127, 235,  22,  53,  13, 235,  46, 198,  34, 254],\n",
              "       [170,  11, 115, 141, 252, 180,  11,  23,  72, 222],\n",
              "       [206, 195, 124, 103,  23,  42,   0,  69,  46, 135],\n",
              "       [132, 223, 185, 160,  51,   5,  12,   8,  94, 137],\n",
              "       [131,  66,  11, 105,  10, 171,  15, 199,  10, 100],\n",
              "       [132, 152, 177, 202, 170,  60, 171,  83, 107,  18]])"
            ]
          },
          "metadata": {},
          "execution_count": 102
        }
      ]
    },
    {
      "cell_type": "code",
      "source": [
        "plt.imshow(z,cmap='jet')\n",
        "# displays the 10x10 array z as an image using the ‘jet’ colormap.\n",
        "# The resulting image will show variations in color intensity based on the values in the array."
      ],
      "metadata": {
        "id": "zgNv7sSoRshg"
      },
      "execution_count": null,
      "outputs": []
    },
    {
      "cell_type": "code",
      "source": [
        "plt.imshow(z, cmap=get_colors_lospec(url))\n",
        "plt.colorbar();\n",
        "#displays an image using a custom colormap obtained from Lospec image data.\n",
        "#The color intensity in the image corresponds to the values in the 10x10 array z.\n",
        "#Additionally, a colorbar is included to indicate the mapping of colors to values."
      ],
      "metadata": {
        "id": "OZ34VY76RtIa"
      },
      "execution_count": null,
      "outputs": []
    },
    {
      "cell_type": "code",
      "source": [
        "x, y = np.mgrid[-5:5:0.05, -5:5:0.05]\n",
        "z = np.sqrt(x**2 + y**2)\n",
        "#creates a grid of points in the x-y plane with coordinates ranging from -5 to 5 (with a step size of 0.05).\n",
        "#It then calculates the value of z for each point using the formula\n",
        "#The resulting z values form a surface that represents the distance from the origin (0,0) to each point in the grid.\n",
        "#This surface resembles a circular pattern centered at the origin."
      ],
      "metadata": {
        "id": "uaZ4Le1FRsIr"
      },
      "execution_count": null,
      "outputs": []
    },
    {
      "cell_type": "code",
      "source": [
        "x\n",
        "#displays array"
      ],
      "metadata": {
        "id": "tomfOioMAZqs"
      },
      "execution_count": null,
      "outputs": []
    },
    {
      "cell_type": "code",
      "source": [
        "y\n",
        "#displays array"
      ],
      "metadata": {
        "id": "kAYvN5DJAf6R"
      },
      "execution_count": null,
      "outputs": []
    },
    {
      "cell_type": "code",
      "source": [
        "z = np.sqrt(x**2 + y**2)\n",
        "#calculates the Euclidean distance from the origin (0,0) to each point in a grid defined by the variables x and y.\n",
        "# The resulting z values form a circular pattern centered at the origin."
      ],
      "metadata": {
        "id": "1GCPit2jAkl6"
      },
      "execution_count": null,
      "outputs": []
    },
    {
      "cell_type": "code",
      "source": [
        "z.shape\n",
        "#gives array dimensions"
      ],
      "metadata": {
        "id": "5WnrBNlAA-oA"
      },
      "execution_count": null,
      "outputs": []
    },
    {
      "cell_type": "code",
      "source": [
        "plt.imshow(x)\n",
        "#displays array as an image"
      ],
      "metadata": {
        "id": "jNOs-AwwAzfy"
      },
      "execution_count": null,
      "outputs": []
    },
    {
      "cell_type": "code",
      "source": [
        "plt.imshow(y)\n",
        "#displays array as an image"
      ],
      "metadata": {
        "id": "glMvWHJmA2mb"
      },
      "execution_count": null,
      "outputs": []
    },
    {
      "cell_type": "code",
      "source": [
        "z\n",
        "#displays array"
      ],
      "metadata": {
        "id": "XfxqQfLHAlrD"
      },
      "execution_count": null,
      "outputs": []
    },
    {
      "cell_type": "code",
      "source": [
        "plt.imshow(z, cmap=get_colors_lospec(url));\n",
        "plt.show()\n",
        "#display an image using a custom colormap obtained from Lospec image data.\n",
        "#The color intensity in the image corresponds to the values in the 10x10 array z.\n",
        "#Additionally, a colorbar is included to indicate the mapping of colors to values."
      ],
      "metadata": {
        "id": "SUQnFHxOAYqA"
      },
      "execution_count": null,
      "outputs": []
    },
    {
      "cell_type": "code",
      "source": [],
      "metadata": {
        "id": "-IMCG6S7tP2K"
      },
      "execution_count": null,
      "outputs": []
    },
    {
      "cell_type": "code",
      "source": [
        "x, y = np.mgrid[-5:5:0.05, -5:5:0.05]\n",
        "\n",
        "z = np.sin(3*y)\n",
        "\n",
        "plt.imshow(z, cmap=get_colors_lospec(url));\n",
        "plt.show()\n",
        "#generates a 2D grid of points in the x-y plane with coordinates ranging from -5 to 5 (with a step size of 0.05).\n",
        "#It then calculates the value of z for each point using the function\n",
        "#The resulting z values create a pattern that oscillates along the y-axis.\n",
        "#When visualized using the custom colormap obtained from Lospec image data, the image will exhibit color variations corresponding to these values."
      ],
      "metadata": {
        "id": "70-fD1hyegyl"
      },
      "execution_count": null,
      "outputs": []
    },
    {
      "cell_type": "code",
      "source": [
        "x, y = np.mgrid[-5:5:0.05, -5:5:0.05]\n",
        "\n",
        "z = np.sin(3*x)\n",
        "#calculates z in terms of x instead of y\n",
        "\n",
        "plt.imshow(z, cmap=get_colors_lospec(url));\n",
        "plt.show()\n",
        "#In both cases, the resulting z values exhibit oscillations,\n",
        "#but the orientation of the pattern differs based on whether it is along the x-axis or y-axis."
      ],
      "metadata": {
        "id": "LVoMUtwOyfuY"
      },
      "execution_count": null,
      "outputs": []
    },
    {
      "cell_type": "code",
      "source": [
        "x, y = np.mgrid[-5:5:0.05, -5:5:0.05]\n",
        "\n",
        "z = np.sin(3*y)*np.sin(3*x)\n",
        "\n",
        "plt.imshow(z, cmap=get_colors_lospec(url));\n",
        "plt.show()\n",
        "#it multiplies the sine values of both x and y.\n",
        "#The resulting pattern will exhibit more complex variations due to the multiplication of sine functions."
      ],
      "metadata": {
        "id": "DMRAq0NUAyk2"
      },
      "execution_count": null,
      "outputs": []
    },
    {
      "cell_type": "code",
      "source": [],
      "metadata": {
        "id": "NCgWMg1vA6iv"
      },
      "execution_count": null,
      "outputs": []
    },
    {
      "cell_type": "code",
      "metadata": {
        "id": "hkgtabDUS86J"
      },
      "source": [
        "import matplotlib.pyplot as plt\n",
        "import imageio\n",
        "from PIL import Image\n",
        "from skimage.io import imread\n",
        "#imports libraries"
      ],
      "execution_count": null,
      "outputs": []
    },
    {
      "cell_type": "code",
      "metadata": {
        "id": "4xojQ86PS86O"
      },
      "source": [
        "def plot(x):\n",
        "    fig, ax = plt.subplots()\n",
        "    im = ax.imshow(x,cmap='gray')\n",
        "    ax.axis('off')\n",
        "    fig.set_size_inches(20, 20)\n",
        "    plt.show()\n",
        "#Creates a figure and an axis using plt.subplots().\n",
        "#Displays the image represented by the input array x using a grayscale colormap.\n",
        "#Removes the axis labels using ax.axis('off').\n",
        "#Sets the figure size to 20x20 inches using fig.set_size_inches(20, 20).\n",
        "#Displays the plot"
      ],
      "execution_count": null,
      "outputs": []
    },
    {
      "cell_type": "code",
      "metadata": {
        "id": "Tx9EtmEwS86Q"
      },
      "source": [
        "im = imread('https://raw.githubusercontent.com/imageio/imageio-binaries/master/images/imageio_banner.png')\n",
        "#assigns image to variable"
      ],
      "execution_count": null,
      "outputs": []
    },
    {
      "cell_type": "code",
      "metadata": {
        "id": "mqC8W7qkS86S"
      },
      "source": [
        "plot(im)\n",
        "#displays image"
      ],
      "execution_count": null,
      "outputs": []
    },
    {
      "cell_type": "code",
      "source": [
        "url = \"https://upload.wikimedia.org/wikipedia/commons/thumb/5/57/Octopus2.jpg/800px-Octopus2.jpg\"\n",
        "#assigns image to variable"
      ],
      "metadata": {
        "id": "wvZVr6tzTJJD"
      },
      "execution_count": null,
      "outputs": []
    },
    {
      "cell_type": "code",
      "metadata": {
        "id": "AktjsqAuTjYX"
      },
      "source": [
        "im = imread(url)\n",
        "#reads and stores image"
      ],
      "execution_count": null,
      "outputs": []
    },
    {
      "cell_type": "code",
      "metadata": {
        "id": "_D-j1InKTjYY"
      },
      "source": [
        "plot(im)\n",
        "#displays image"
      ],
      "execution_count": null,
      "outputs": []
    },
    {
      "cell_type": "code",
      "source": [
        "im.shape\n",
        "#gives image dimensions with channels"
      ],
      "metadata": {
        "colab": {
          "base_uri": "https://localhost:8080/"
        },
        "id": "rIH0MseETm1r",
        "outputId": "ef0a850b-2662-48ed-85c5-a8982eed08c7"
      },
      "execution_count": null,
      "outputs": [
        {
          "output_type": "execute_result",
          "data": {
            "text/plain": [
              "(609, 800, 3)"
            ]
          },
          "metadata": {},
          "execution_count": 127
        }
      ]
    },
    {
      "cell_type": "code",
      "source": [
        "plt.imshow(im[:,:,0],cmap=\"gray\")\n",
        "#This attempts to display the red channel of the image using a grayscale colormap.\n",
        "#The resulting image will show variations in shades of gray based on the intensity of the red channel values."
      ],
      "metadata": {
        "id": "d8YhFaiLTrt3"
      },
      "execution_count": null,
      "outputs": []
    },
    {
      "cell_type": "code",
      "source": [
        "plt.imshow(im[:,:,1],cmap=\"gray\")\n",
        "##This attempts to display the green channel of the image using a grayscale colormap.\n",
        "#The resulting image will show variations in shades of gray based on the intensity of the green channel values."
      ],
      "metadata": {
        "id": "c3SCGlhVTyzl"
      },
      "execution_count": null,
      "outputs": []
    },
    {
      "cell_type": "code",
      "source": [
        "plt.imshow(im[:,:,2],cmap=\"gray\")\n",
        "##This attempts to display the blue channel of the image using a grayscale colormap.\n",
        "#The resulting image will show variations in shades of gray based on the intensity of the blue channel values."
      ],
      "metadata": {
        "id": "sHb2PsGlT7RS"
      },
      "execution_count": null,
      "outputs": []
    },
    {
      "cell_type": "code",
      "source": [
        "r = im[:,:,0] #The resulting array r contains the intensity of red color for each pixel in the image.\n",
        "g = im[:,:,1] #The array g represents the intensity of green color for each pixel.\n",
        "b = im[:,:,2] #The array b contains the intensity of blue color for each pixel."
      ],
      "metadata": {
        "id": "quWbYq29T-Oh"
      },
      "execution_count": null,
      "outputs": []
    },
    {
      "cell_type": "code",
      "source": [
        "combo = np.hstack([r,g,b])\n",
        "#horizontally stacks three arrays r, g, and b into a single array called combo."
      ],
      "metadata": {
        "id": "3v4p3yZHUHSu"
      },
      "execution_count": null,
      "outputs": []
    },
    {
      "cell_type": "code",
      "source": [
        "plt.imshow(combo,cmap=\"gray\")\n",
        "#displays an image using the grayscale colormap.\n",
        "#The image is represented by the array combo, which likely contains the combined red, green, and blue color channels.\n",
        "#When visualized with the grayscale colormap, the resulting image will show variations in shades of gray based on the intensity of the color channels."
      ],
      "metadata": {
        "id": "bpe6amD0UKAF"
      },
      "execution_count": null,
      "outputs": []
    }
  ]
}