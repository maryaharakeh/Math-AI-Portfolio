{
  "nbformat": 4,
  "nbformat_minor": 0,
  "metadata": {
    "colab": {
      "provenance": []
    },
    "kernelspec": {
      "name": "python3",
      "display_name": "Python 3"
    },
    "language_info": {
      "name": "python"
    },
    "accelerator": "GPU",
    "widgets": {
      "application/vnd.jupyter.widget-state+json": {
        "2e4ee3ead8234edcaa41d2447b306541": {
          "model_module": "@jupyter-widgets/controls",
          "model_name": "VBoxModel",
          "model_module_version": "1.5.0",
          "state": {
            "_dom_classes": [],
            "_model_module": "@jupyter-widgets/controls",
            "_model_module_version": "1.5.0",
            "_model_name": "VBoxModel",
            "_view_count": null,
            "_view_module": "@jupyter-widgets/controls",
            "_view_module_version": "1.5.0",
            "_view_name": "VBoxView",
            "box_style": "",
            "children": [
              "IPY_MODEL_29fc8054b0a14929a545f666e0edd045",
              "IPY_MODEL_6baf1fd35a254378a25008d4955debbb"
            ],
            "layout": "IPY_MODEL_7e18d8fbca1d42b4a78e54e72a120df1"
          }
        },
        "29fc8054b0a14929a545f666e0edd045": {
          "model_module": "@jupyter-widgets/controls",
          "model_name": "LabelModel",
          "model_module_version": "1.5.0",
          "state": {
            "_dom_classes": [],
            "_model_module": "@jupyter-widgets/controls",
            "_model_module_version": "1.5.0",
            "_model_name": "LabelModel",
            "_view_count": null,
            "_view_module": "@jupyter-widgets/controls",
            "_view_module_version": "1.5.0",
            "_view_name": "LabelView",
            "description": "",
            "description_tooltip": null,
            "layout": "IPY_MODEL_88ad0f274fd84b598d91d2718e2650ca",
            "placeholder": "​",
            "style": "IPY_MODEL_8f6117d265624adc89ca3ba7ff4b13df",
            "value": "0.011 MB of 0.011 MB uploaded\r"
          }
        },
        "6baf1fd35a254378a25008d4955debbb": {
          "model_module": "@jupyter-widgets/controls",
          "model_name": "FloatProgressModel",
          "model_module_version": "1.5.0",
          "state": {
            "_dom_classes": [],
            "_model_module": "@jupyter-widgets/controls",
            "_model_module_version": "1.5.0",
            "_model_name": "FloatProgressModel",
            "_view_count": null,
            "_view_module": "@jupyter-widgets/controls",
            "_view_module_version": "1.5.0",
            "_view_name": "ProgressView",
            "bar_style": "",
            "description": "",
            "description_tooltip": null,
            "layout": "IPY_MODEL_6a7720a79e8a44c3859fb18e956303e4",
            "max": 1,
            "min": 0,
            "orientation": "horizontal",
            "style": "IPY_MODEL_79a177b3b92b4785a5cb329c94fe093d",
            "value": 1
          }
        },
        "7e18d8fbca1d42b4a78e54e72a120df1": {
          "model_module": "@jupyter-widgets/base",
          "model_name": "LayoutModel",
          "model_module_version": "1.2.0",
          "state": {
            "_model_module": "@jupyter-widgets/base",
            "_model_module_version": "1.2.0",
            "_model_name": "LayoutModel",
            "_view_count": null,
            "_view_module": "@jupyter-widgets/base",
            "_view_module_version": "1.2.0",
            "_view_name": "LayoutView",
            "align_content": null,
            "align_items": null,
            "align_self": null,
            "border": null,
            "bottom": null,
            "display": null,
            "flex": null,
            "flex_flow": null,
            "grid_area": null,
            "grid_auto_columns": null,
            "grid_auto_flow": null,
            "grid_auto_rows": null,
            "grid_column": null,
            "grid_gap": null,
            "grid_row": null,
            "grid_template_areas": null,
            "grid_template_columns": null,
            "grid_template_rows": null,
            "height": null,
            "justify_content": null,
            "justify_items": null,
            "left": null,
            "margin": null,
            "max_height": null,
            "max_width": null,
            "min_height": null,
            "min_width": null,
            "object_fit": null,
            "object_position": null,
            "order": null,
            "overflow": null,
            "overflow_x": null,
            "overflow_y": null,
            "padding": null,
            "right": null,
            "top": null,
            "visibility": null,
            "width": null
          }
        },
        "88ad0f274fd84b598d91d2718e2650ca": {
          "model_module": "@jupyter-widgets/base",
          "model_name": "LayoutModel",
          "model_module_version": "1.2.0",
          "state": {
            "_model_module": "@jupyter-widgets/base",
            "_model_module_version": "1.2.0",
            "_model_name": "LayoutModel",
            "_view_count": null,
            "_view_module": "@jupyter-widgets/base",
            "_view_module_version": "1.2.0",
            "_view_name": "LayoutView",
            "align_content": null,
            "align_items": null,
            "align_self": null,
            "border": null,
            "bottom": null,
            "display": null,
            "flex": null,
            "flex_flow": null,
            "grid_area": null,
            "grid_auto_columns": null,
            "grid_auto_flow": null,
            "grid_auto_rows": null,
            "grid_column": null,
            "grid_gap": null,
            "grid_row": null,
            "grid_template_areas": null,
            "grid_template_columns": null,
            "grid_template_rows": null,
            "height": null,
            "justify_content": null,
            "justify_items": null,
            "left": null,
            "margin": null,
            "max_height": null,
            "max_width": null,
            "min_height": null,
            "min_width": null,
            "object_fit": null,
            "object_position": null,
            "order": null,
            "overflow": null,
            "overflow_x": null,
            "overflow_y": null,
            "padding": null,
            "right": null,
            "top": null,
            "visibility": null,
            "width": null
          }
        },
        "8f6117d265624adc89ca3ba7ff4b13df": {
          "model_module": "@jupyter-widgets/controls",
          "model_name": "DescriptionStyleModel",
          "model_module_version": "1.5.0",
          "state": {
            "_model_module": "@jupyter-widgets/controls",
            "_model_module_version": "1.5.0",
            "_model_name": "DescriptionStyleModel",
            "_view_count": null,
            "_view_module": "@jupyter-widgets/base",
            "_view_module_version": "1.2.0",
            "_view_name": "StyleView",
            "description_width": ""
          }
        },
        "6a7720a79e8a44c3859fb18e956303e4": {
          "model_module": "@jupyter-widgets/base",
          "model_name": "LayoutModel",
          "model_module_version": "1.2.0",
          "state": {
            "_model_module": "@jupyter-widgets/base",
            "_model_module_version": "1.2.0",
            "_model_name": "LayoutModel",
            "_view_count": null,
            "_view_module": "@jupyter-widgets/base",
            "_view_module_version": "1.2.0",
            "_view_name": "LayoutView",
            "align_content": null,
            "align_items": null,
            "align_self": null,
            "border": null,
            "bottom": null,
            "display": null,
            "flex": null,
            "flex_flow": null,
            "grid_area": null,
            "grid_auto_columns": null,
            "grid_auto_flow": null,
            "grid_auto_rows": null,
            "grid_column": null,
            "grid_gap": null,
            "grid_row": null,
            "grid_template_areas": null,
            "grid_template_columns": null,
            "grid_template_rows": null,
            "height": null,
            "justify_content": null,
            "justify_items": null,
            "left": null,
            "margin": null,
            "max_height": null,
            "max_width": null,
            "min_height": null,
            "min_width": null,
            "object_fit": null,
            "object_position": null,
            "order": null,
            "overflow": null,
            "overflow_x": null,
            "overflow_y": null,
            "padding": null,
            "right": null,
            "top": null,
            "visibility": null,
            "width": null
          }
        },
        "79a177b3b92b4785a5cb329c94fe093d": {
          "model_module": "@jupyter-widgets/controls",
          "model_name": "ProgressStyleModel",
          "model_module_version": "1.5.0",
          "state": {
            "_model_module": "@jupyter-widgets/controls",
            "_model_module_version": "1.5.0",
            "_model_name": "ProgressStyleModel",
            "_view_count": null,
            "_view_module": "@jupyter-widgets/base",
            "_view_module_version": "1.2.0",
            "_view_name": "StyleView",
            "bar_color": null,
            "description_width": ""
          }
        },
        "9ef95bcddae84efbb3fa7f7dad3bc3b7": {
          "model_module": "@jupyter-widgets/controls",
          "model_name": "VBoxModel",
          "model_module_version": "1.5.0",
          "state": {
            "_dom_classes": [],
            "_model_module": "@jupyter-widgets/controls",
            "_model_module_version": "1.5.0",
            "_model_name": "VBoxModel",
            "_view_count": null,
            "_view_module": "@jupyter-widgets/controls",
            "_view_module_version": "1.5.0",
            "_view_name": "VBoxView",
            "box_style": "",
            "children": [
              "IPY_MODEL_3f1c360db8e248858ef3a8975fbabfc5",
              "IPY_MODEL_d7a07270217d45b7989b5fff643803e5"
            ],
            "layout": "IPY_MODEL_52a1865ac45c499c93249dc42fad9596"
          }
        },
        "3f1c360db8e248858ef3a8975fbabfc5": {
          "model_module": "@jupyter-widgets/controls",
          "model_name": "LabelModel",
          "model_module_version": "1.5.0",
          "state": {
            "_dom_classes": [],
            "_model_module": "@jupyter-widgets/controls",
            "_model_module_version": "1.5.0",
            "_model_name": "LabelModel",
            "_view_count": null,
            "_view_module": "@jupyter-widgets/controls",
            "_view_module_version": "1.5.0",
            "_view_name": "LabelView",
            "description": "",
            "description_tooltip": null,
            "layout": "IPY_MODEL_8e2f6eec7a554a7483fe111163d402dd",
            "placeholder": "​",
            "style": "IPY_MODEL_a253394992cd4cb1b0d4a1e224ac360d",
            "value": "0.010 MB of 0.010 MB uploaded\r"
          }
        },
        "d7a07270217d45b7989b5fff643803e5": {
          "model_module": "@jupyter-widgets/controls",
          "model_name": "FloatProgressModel",
          "model_module_version": "1.5.0",
          "state": {
            "_dom_classes": [],
            "_model_module": "@jupyter-widgets/controls",
            "_model_module_version": "1.5.0",
            "_model_name": "FloatProgressModel",
            "_view_count": null,
            "_view_module": "@jupyter-widgets/controls",
            "_view_module_version": "1.5.0",
            "_view_name": "ProgressView",
            "bar_style": "",
            "description": "",
            "description_tooltip": null,
            "layout": "IPY_MODEL_3032dd883aca43df8f3ac1b02d9d5ea2",
            "max": 1,
            "min": 0,
            "orientation": "horizontal",
            "style": "IPY_MODEL_0e283749be1f470bb7a704d3432c5250",
            "value": 1
          }
        },
        "52a1865ac45c499c93249dc42fad9596": {
          "model_module": "@jupyter-widgets/base",
          "model_name": "LayoutModel",
          "model_module_version": "1.2.0",
          "state": {
            "_model_module": "@jupyter-widgets/base",
            "_model_module_version": "1.2.0",
            "_model_name": "LayoutModel",
            "_view_count": null,
            "_view_module": "@jupyter-widgets/base",
            "_view_module_version": "1.2.0",
            "_view_name": "LayoutView",
            "align_content": null,
            "align_items": null,
            "align_self": null,
            "border": null,
            "bottom": null,
            "display": null,
            "flex": null,
            "flex_flow": null,
            "grid_area": null,
            "grid_auto_columns": null,
            "grid_auto_flow": null,
            "grid_auto_rows": null,
            "grid_column": null,
            "grid_gap": null,
            "grid_row": null,
            "grid_template_areas": null,
            "grid_template_columns": null,
            "grid_template_rows": null,
            "height": null,
            "justify_content": null,
            "justify_items": null,
            "left": null,
            "margin": null,
            "max_height": null,
            "max_width": null,
            "min_height": null,
            "min_width": null,
            "object_fit": null,
            "object_position": null,
            "order": null,
            "overflow": null,
            "overflow_x": null,
            "overflow_y": null,
            "padding": null,
            "right": null,
            "top": null,
            "visibility": null,
            "width": null
          }
        },
        "8e2f6eec7a554a7483fe111163d402dd": {
          "model_module": "@jupyter-widgets/base",
          "model_name": "LayoutModel",
          "model_module_version": "1.2.0",
          "state": {
            "_model_module": "@jupyter-widgets/base",
            "_model_module_version": "1.2.0",
            "_model_name": "LayoutModel",
            "_view_count": null,
            "_view_module": "@jupyter-widgets/base",
            "_view_module_version": "1.2.0",
            "_view_name": "LayoutView",
            "align_content": null,
            "align_items": null,
            "align_self": null,
            "border": null,
            "bottom": null,
            "display": null,
            "flex": null,
            "flex_flow": null,
            "grid_area": null,
            "grid_auto_columns": null,
            "grid_auto_flow": null,
            "grid_auto_rows": null,
            "grid_column": null,
            "grid_gap": null,
            "grid_row": null,
            "grid_template_areas": null,
            "grid_template_columns": null,
            "grid_template_rows": null,
            "height": null,
            "justify_content": null,
            "justify_items": null,
            "left": null,
            "margin": null,
            "max_height": null,
            "max_width": null,
            "min_height": null,
            "min_width": null,
            "object_fit": null,
            "object_position": null,
            "order": null,
            "overflow": null,
            "overflow_x": null,
            "overflow_y": null,
            "padding": null,
            "right": null,
            "top": null,
            "visibility": null,
            "width": null
          }
        },
        "a253394992cd4cb1b0d4a1e224ac360d": {
          "model_module": "@jupyter-widgets/controls",
          "model_name": "DescriptionStyleModel",
          "model_module_version": "1.5.0",
          "state": {
            "_model_module": "@jupyter-widgets/controls",
            "_model_module_version": "1.5.0",
            "_model_name": "DescriptionStyleModel",
            "_view_count": null,
            "_view_module": "@jupyter-widgets/base",
            "_view_module_version": "1.2.0",
            "_view_name": "StyleView",
            "description_width": ""
          }
        },
        "3032dd883aca43df8f3ac1b02d9d5ea2": {
          "model_module": "@jupyter-widgets/base",
          "model_name": "LayoutModel",
          "model_module_version": "1.2.0",
          "state": {
            "_model_module": "@jupyter-widgets/base",
            "_model_module_version": "1.2.0",
            "_model_name": "LayoutModel",
            "_view_count": null,
            "_view_module": "@jupyter-widgets/base",
            "_view_module_version": "1.2.0",
            "_view_name": "LayoutView",
            "align_content": null,
            "align_items": null,
            "align_self": null,
            "border": null,
            "bottom": null,
            "display": null,
            "flex": null,
            "flex_flow": null,
            "grid_area": null,
            "grid_auto_columns": null,
            "grid_auto_flow": null,
            "grid_auto_rows": null,
            "grid_column": null,
            "grid_gap": null,
            "grid_row": null,
            "grid_template_areas": null,
            "grid_template_columns": null,
            "grid_template_rows": null,
            "height": null,
            "justify_content": null,
            "justify_items": null,
            "left": null,
            "margin": null,
            "max_height": null,
            "max_width": null,
            "min_height": null,
            "min_width": null,
            "object_fit": null,
            "object_position": null,
            "order": null,
            "overflow": null,
            "overflow_x": null,
            "overflow_y": null,
            "padding": null,
            "right": null,
            "top": null,
            "visibility": null,
            "width": null
          }
        },
        "0e283749be1f470bb7a704d3432c5250": {
          "model_module": "@jupyter-widgets/controls",
          "model_name": "ProgressStyleModel",
          "model_module_version": "1.5.0",
          "state": {
            "_model_module": "@jupyter-widgets/controls",
            "_model_module_version": "1.5.0",
            "_model_name": "ProgressStyleModel",
            "_view_count": null,
            "_view_module": "@jupyter-widgets/base",
            "_view_module_version": "1.2.0",
            "_view_name": "StyleView",
            "bar_color": null,
            "description_width": ""
          }
        }
      }
    }
  },
  "cells": [
    {
      "cell_type": "markdown",
      "source": [
        "## Setup"
      ],
      "metadata": {
        "id": "PQsLStfxfRrO"
      }
    },
    {
      "cell_type": "markdown",
      "source": [
        "### Imports"
      ],
      "metadata": {
        "id": "X2noEVRFmHTi"
      }
    },
    {
      "cell_type": "code",
      "source": [
        "import numpy as np\n",
        "import matplotlib.pyplot as plt\n",
        "import urllib.request\n",
        "from PIL import Image\n",
        "from imageio import *\n",
        "import torch\n",
        "from skimage.transform import resize\n",
        "from mpl_toolkits.axes_grid1.axes_rgb import make_rgb_axes, RGBAxes\n",
        "from torchvision.models import *\n",
        "from torchvision.datasets import MNIST,KMNIST,FashionMNIST\n",
        "from skimage.util import montage\n",
        "#This code imports several libraries such as NumPy, Matplotlib, PIL, and\n",
        "#PyTorch, as well as specific functions and modules for image processing and\n",
        "#visualization. It also imports predefined datasets from torchvision."
      ],
      "metadata": {
        "id": "aGu2hYn5VgKS"
      },
      "execution_count": null,
      "outputs": []
    },
    {
      "cell_type": "code",
      "source": [
        "!pip install wandb\n",
        "import wandb as wb\n",
        "#This code installs the Weights & Biases (wandb) library using pip, and then\n",
        "#imports it with the alias 'wb' for use in the code.\n",
        "#Weights & Biases is commonly used for experiment tracking, visualization, and\n",
        "#collaboration in machine learning projects."
      ],
      "metadata": {
        "id": "O1xRGxv7AfoZ"
      },
      "execution_count": null,
      "outputs": []
    },
    {
      "cell_type": "code",
      "metadata": {
        "id": "6DQxxGNl1E1o"
      },
      "source": [
        "def plot(x):\n",
        "    if type(x) == torch.Tensor :\n",
        "        x = x.cpu().detach().numpy()\n",
        "\n",
        "    fig, ax = plt.subplots()\n",
        "    im = ax.imshow(x, cmap = 'gray')\n",
        "    ax.axis('off')\n",
        "    fig.set_size_inches(5, 5)\n",
        "    plt.show()\n",
        "#This function `plot(x)` takes an input `x`, which could be either a PyTorch\n",
        "#tensor or a NumPy array. If `x` is a PyTorch tensor, it converts it to a NumPy\n",
        "#array first. Then, it plots the array as an image using Matplotlib with a\n",
        "#grayscale colormap, hides the axis, sets the figure size to 5x5 inches, and displays the plot."
      ],
      "execution_count": null,
      "outputs": []
    },
    {
      "cell_type": "code",
      "metadata": {
        "id": "wLcWTt76COK2"
      },
      "source": [
        "def montage_plot(x):\n",
        "    x = np.pad(x, pad_width=((0, 0), (1, 1), (1, 1)), mode='constant', constant_values=0)\n",
        "    plot(montage(x))\n",
        "#This function `montage_plot(x)` pads the input array `x` with zeros along its\n",
        "#second and third dimensions, then creates a montage (tiled) visualization of the resulting array using the `montage` function.\n",
        "#Finally, it plots the montage using the `plot` function."
      ],
      "execution_count": null,
      "outputs": []
    },
    {
      "cell_type": "code",
      "source": [
        "b = 1000\n",
        "#This sets the batch size to 1000. A batch is a subset of your dataset that is used in one iteration of model training.\n",
        "def get_batch(mode):\n",
        "#The function get_batch(mode) is used to generate a batch of data for training or testing a machine learning model.\n",
        "#The mode parameter determines whether the function should return a batch from the training set (X, Y) or the test set (X_test, Y_test).\n",
        "    if mode == \"train\":\n",
        "#If mode is \"train\", the function generates a random index r between 0 and the number of training examples minus the batch size. It then returns a batch of input data x and corresponding labels y from the training set, starting from index r and of size b.\n",
        "        r = np.random.randint(X.shape[0]-b)\n",
        "        x = X[r:r+b,:]\n",
        "        y = Y[r:r+b]\n",
        "    elif mode == \"test\":\n",
        "#If mode is \"test\", the function does the same but with the test set.\n",
        "        r = np.random.randint(X_test.shape[0]-b)\n",
        "        x = X_test[r:r+b,:]\n",
        "        y = Y_test[r:r+b]\n",
        "    return x,y\n",
        "#This function is typically used in the training loop of a machine learning\n",
        "#model, where it’s important to use different batches of data in each iteration\n",
        "#to ensure that the model generalizes well to unseen data. The randomness in\n",
        "#selecting batches helps introduce variability in the training process, which can help prevent overfitting."
      ],
      "metadata": {
        "id": "NZaGcRW6Igar"
      },
      "execution_count": null,
      "outputs": []
    },
    {
      "cell_type": "markdown",
      "source": [
        "\n",
        "## MNIST\n",
        "    "
      ],
      "metadata": {
        "id": "gkw9kmV4NyRo"
      }
    },
    {
      "cell_type": "markdown",
      "source": [
        "### Load Data"
      ],
      "metadata": {
        "id": "Dc8TF76WPY1e"
      }
    },
    {
      "cell_type": "code",
      "metadata": {
        "id": "mm7ZMYrVEdMX"
      },
      "source": [
        "# #MNIST\n",
        "train_set = MNIST('./data', train=True, download=True)\n",
        "#This line is downloading the MNIST training set and saving it in a directory named ‘data’. If the dataset is already downloaded, it will not be downloaded again due to download=True.\n",
        "test_set  = MNIST('./data', train=False, download=True)\n",
        "#This line is doing the same but for the MNIST test set. The train=False argument specifies that we want to download the test set.\n",
        "\n",
        "#After these lines of code are executed, train_set and test_set will be dataset objects that you can use to create data loaders for training and testing a model.\n",
        "\n",
        "\n",
        "#KMNIST\n",
        "# train_set = KMNIST('./data', train=True, download=True)\n",
        "# test_set =  KMNIST('./data', train=False, download=True)\n",
        "\n",
        "# Fashion MNIST\n",
        "# train_set = FashionMNIST('./data', train=True, download=True)\n",
        "# test_set =  FashionMNIST('./data', train=False, download=True)"
      ],
      "execution_count": null,
      "outputs": []
    },
    {
      "cell_type": "code",
      "metadata": {
        "id": "Ols0HivADS6a"
      },
      "source": [
        "X = train_set.data.numpy()\n",
        "#This line converts the image data from the training set into a NumPy array and assigns it to X.\n",
        "X_test = test_set.data.numpy()\n",
        "#This line does the same for the image data from the test set and assigns it to X_test.\n",
        "Y = train_set.targets.numpy()\n",
        "#This line converts the labels (targets) from the training set into a NumPy array and assigns it to Y.\n",
        "Y_test = test_set.targets.numpy()\n",
        "# This line does the same for the labels from the test set and assigns it to Y_test.\n",
        "X = X[:,None,:,:]/255\n",
        "X_test = X_test[:,None,:,:]/255\n",
        "#These lines normalize the image data in X and X_test.\n",
        "#The [:,None,:,:] part is used to add an extra dimension to the data, which is often required by machine learning libraries.\n",
        "#The division by 255 scales the pixel values (which are originally between 0 and 255) to be between 0 and 1"
      ],
      "execution_count": null,
      "outputs": []
    },
    {
      "cell_type": "code",
      "metadata": {
        "colab": {
          "base_uri": "https://localhost:8080/"
        },
        "id": "gfAjr0UBjgfs",
        "outputId": "2fa75303-d401-4875-e70d-c3941d0abe37"
      },
      "source": [
        "X.shape #gives a tuple for dimensions in terms of number of images, of color channels, height and width"
      ],
      "execution_count": null,
      "outputs": [
        {
          "output_type": "execute_result",
          "data": {
            "text/plain": [
              "(60000, 1, 28, 28)"
            ]
          },
          "metadata": {},
          "execution_count": 27
        }
      ]
    },
    {
      "cell_type": "code",
      "source": [
        "Y[50000] #indexing into the Y array to retrieve the label of the 50,001st image in the training set."
      ],
      "metadata": {
        "colab": {
          "base_uri": "https://localhost:8080/"
        },
        "id": "PZ0TWqL3zjGP",
        "outputId": "25920c20-eed9-433e-e5f0-bbbf38866032"
      },
      "execution_count": null,
      "outputs": [
        {
          "output_type": "execute_result",
          "data": {
            "text/plain": [
              "3"
            ]
          },
          "metadata": {},
          "execution_count": 28
        }
      ]
    },
    {
      "cell_type": "code",
      "metadata": {
        "id": "Ye809_jCAAxr"
      },
      "source": [
        "plot(X[50000,0,:,:]) #used to display the 50,001st image in grayscale"
      ],
      "execution_count": null,
      "outputs": []
    },
    {
      "cell_type": "code",
      "metadata": {
        "id": "evX7gb0YBzpe",
        "colab": {
          "base_uri": "https://localhost:8080/"
        },
        "outputId": "7818fd3e-7266-436f-8716-94a95fb5d34b"
      },
      "source": [
        "Y[100] #indexing 101st element"
      ],
      "execution_count": null,
      "outputs": [
        {
          "output_type": "execute_result",
          "data": {
            "text/plain": [
              "5"
            ]
          },
          "metadata": {},
          "execution_count": 30
        }
      ]
    },
    {
      "cell_type": "code",
      "source": [
        "X.shape #gives dimensions"
      ],
      "metadata": {
        "colab": {
          "base_uri": "https://localhost:8080/"
        },
        "id": "ZvRm1DjXzI91",
        "outputId": "d83c797f-849f-46f8-c38e-1fe93fd567c7"
      },
      "execution_count": null,
      "outputs": [
        {
          "output_type": "execute_result",
          "data": {
            "text/plain": [
              "(60000, 1, 28, 28)"
            ]
          },
          "metadata": {},
          "execution_count": 31
        }
      ]
    },
    {
      "cell_type": "code",
      "metadata": {
        "id": "b1ExpQONSaC_",
        "colab": {
          "base_uri": "https://localhost:8080/"
        },
        "outputId": "7f55ab90-053a-4956-fb46-ed4d2c0c6a29"
      },
      "source": [
        "X[0:25,0,:,:].shape #gives dimensions"
      ],
      "execution_count": null,
      "outputs": [
        {
          "output_type": "execute_result",
          "data": {
            "text/plain": [
              "(25, 28, 28)"
            ]
          },
          "metadata": {},
          "execution_count": 32
        }
      ]
    },
    {
      "cell_type": "code",
      "metadata": {
        "id": "CHoMXjA6pWoa"
      },
      "source": [
        "montage_plot(X[125:150,0,:,:]) #display a montage plot of images 126 to 150 in the training set."
      ],
      "execution_count": null,
      "outputs": []
    },
    {
      "cell_type": "code",
      "metadata": {
        "id": "fQPM_KQpD7Qd",
        "colab": {
          "base_uri": "https://localhost:8080/"
        },
        "outputId": "2201a812-9649-4be0-d9df-18f47d69fef2"
      },
      "source": [
        "X.shape[0] #gives 1st element in the dimensions"
      ],
      "execution_count": null,
      "outputs": [
        {
          "output_type": "execute_result",
          "data": {
            "text/plain": [
              "60000"
            ]
          },
          "metadata": {},
          "execution_count": 34
        }
      ]
    },
    {
      "cell_type": "code",
      "metadata": {
        "id": "QFqBciL5EPgM",
        "colab": {
          "base_uri": "https://localhost:8080/"
        },
        "outputId": "d8e101fd-ea90-4882-85db-63427ce56090"
      },
      "source": [
        "X_test.shape #gives dimensions"
      ],
      "execution_count": null,
      "outputs": [
        {
          "output_type": "execute_result",
          "data": {
            "text/plain": [
              "(10000, 1, 28, 28)"
            ]
          },
          "metadata": {},
          "execution_count": 35
        }
      ]
    },
    {
      "cell_type": "code",
      "metadata": {
        "id": "_eAq9FpWES_1",
        "colab": {
          "base_uri": "https://localhost:8080/"
        },
        "outputId": "f1e0b8eb-67ee-4e01-a3f4-927c62838cb3"
      },
      "source": [
        "X.shape[0] #gives 1st element of dimensions"
      ],
      "execution_count": null,
      "outputs": [
        {
          "output_type": "execute_result",
          "data": {
            "text/plain": [
              "60000"
            ]
          },
          "metadata": {},
          "execution_count": 36
        }
      ]
    },
    {
      "cell_type": "code",
      "metadata": {
        "id": "zjqCYVv7EX1d",
        "colab": {
          "base_uri": "https://localhost:8080/"
        },
        "outputId": "358c8b5f-efaa-4710-90c7-507df9211f46"
      },
      "source": [
        "X_test.shape[0] #gives 1st element of dimensions which is number of images"
      ],
      "execution_count": null,
      "outputs": [
        {
          "output_type": "execute_result",
          "data": {
            "text/plain": [
              "10000"
            ]
          },
          "metadata": {},
          "execution_count": 37
        }
      ]
    },
    {
      "cell_type": "code",
      "source": [
        "def GPU(data):\n",
        "    return torch.tensor(data, requires_grad=True, dtype=torch.float, device=torch.device('cuda'))\n",
        "\n",
        "def GPU_data(data):\n",
        "    return torch.tensor(data, requires_grad=False, dtype=torch.float, device=torch.device('cuda'))\n",
        "#The `GPU(data)` function converts the input data into a PyTorch tensor with\n",
        "#gradients enabled, of type float, and moves it to the GPU.\n",
        "#The `GPU_data(data)` function does the same but with gradients disabled."
      ],
      "metadata": {
        "id": "PyV8c4cyPAWp"
      },
      "execution_count": null,
      "outputs": []
    },
    {
      "cell_type": "code",
      "metadata": {
        "id": "zBt4rsdIefV_"
      },
      "source": [
        "X = GPU_data(X)\n",
        "Y = GPU_data(Y)\n",
        "X_test = GPU_data(X_test)\n",
        "Y_test = GPU_data(Y_test)\n",
        "#These lines of code convert the datasets `X`, `Y`, `X_test`, and `Y_test` into\n",
        "# PyTorch tensors of type float on the GPU, with gradients disabled."
      ],
      "execution_count": null,
      "outputs": []
    },
    {
      "cell_type": "code",
      "source": [
        "X = X.reshape(X.shape[0],784)\n",
        "X_test = X_test.reshape(X_test.shape[0],784)\n",
        "#These lines of code reshape the `X` and `X_test` tensors to have 784 columns, keeping the number of rows the same.\n",
        "#This is typically done when flattening images for a machine learning model."
      ],
      "metadata": {
        "id": "qd6QY2wJ3DPk"
      },
      "execution_count": null,
      "outputs": []
    },
    {
      "cell_type": "code",
      "source": [
        "X.shape #gives dimensions of tensor as numbers of rows and columns"
      ],
      "metadata": {
        "id": "MKUw3_YO39T5",
        "colab": {
          "base_uri": "https://localhost:8080/"
        },
        "outputId": "c1960508-f4a6-437b-f735-b5ddb33e8ffb"
      },
      "execution_count": null,
      "outputs": [
        {
          "output_type": "execute_result",
          "data": {
            "text/plain": [
              "torch.Size([60000, 784])"
            ]
          },
          "metadata": {},
          "execution_count": 41
        }
      ]
    },
    {
      "cell_type": "markdown",
      "source": [
        "\n",
        "### Classifier\n"
      ],
      "metadata": {
        "id": "aqdMV6v-2o3h"
      }
    },
    {
      "cell_type": "code",
      "metadata": {
        "id": "OqMKS4LqeBzy"
      },
      "source": [
        "x,y = get_batch('train')\n",
        "#The line `x,y = get_batch('train')` fetches a batch of training data and labels, assigning them to `x` and `y` respectively."
      ],
      "execution_count": null,
      "outputs": []
    },
    {
      "cell_type": "code",
      "metadata": {
        "id": "NvewlRZCeB20",
        "colab": {
          "base_uri": "https://localhost:8080/"
        },
        "outputId": "503f2583-35cd-44f6-d0ca-9acda5c24d6f"
      },
      "source": [
        "x.shape #gies dimensions of tensor"
      ],
      "execution_count": null,
      "outputs": [
        {
          "output_type": "execute_result",
          "data": {
            "text/plain": [
              "torch.Size([1000, 784])"
            ]
          },
          "metadata": {},
          "execution_count": 44
        }
      ]
    },
    {
      "cell_type": "code",
      "metadata": {
        "id": "Dfywj66KFh8Y"
      },
      "source": [
        "plot(x[0].reshape(28,28)) #The line `plot(x[0].reshape(28,28))` visualizes the first instance of the batch `x` reshaped to a 28x28 grid, typically used to display an image in a machine learning context."
      ],
      "execution_count": null,
      "outputs": []
    },
    {
      "cell_type": "code",
      "metadata": {
        "id": "ZsAhw-64HNJX"
      },
      "source": [
        "plot(x[1].reshape(28,28)) #The line `plot(x[1].reshape(28,28))` visualizes the second instance of the batch `x` reshaped to a 28x28 grid, typically used to display an image in a machine learning context."
      ],
      "execution_count": null,
      "outputs": []
    },
    {
      "cell_type": "code",
      "metadata": {
        "id": "JfIkv97VHRaH"
      },
      "source": [
        "plot(x[2].reshape(28,28)) #The line `plot(x[2].reshape(28,28))` visualizes the third instance of the batch `x` reshaped to a 28x28 grid, typically used to display an image in a machine learning context."
      ],
      "execution_count": null,
      "outputs": []
    },
    {
      "cell_type": "code",
      "metadata": {
        "id": "hTYYsbmzGZzq",
        "colab": {
          "base_uri": "https://localhost:8080/"
        },
        "outputId": "43622f3a-5ab5-455c-aca1-d8511d9d469b"
      },
      "source": [
        "y[:10] #The command `y[:10]` retrieves the first 10 elements from the tensor `y`, typically representing the labels or targets for the first 10 instances in a machine learning context."
      ],
      "execution_count": null,
      "outputs": [
        {
          "output_type": "execute_result",
          "data": {
            "text/plain": [
              "tensor([4., 7., 1., 5., 1., 9., 2., 6., 0., 9.], device='cuda:0')"
            ]
          },
          "metadata": {},
          "execution_count": 47
        }
      ]
    },
    {
      "cell_type": "code",
      "source": [
        "W = GPU(np.random.randn(784,10)) #The line `W = GPU(np.random.randn(784,10))` creates a 784x10 matrix of random numbers using the numpy function `np.random.randn`, converts it into a PyTorch tensor with gradients enabled, of type float, and moves it to the GPU.\n",
        "# This is typically done to initialize the weights of a machine learning model."
      ],
      "metadata": {
        "id": "G1MmJuRKC20Q"
      },
      "execution_count": null,
      "outputs": []
    },
    {
      "cell_type": "code",
      "source": [],
      "metadata": {
        "id": "lwMdXtr_4R0q"
      },
      "execution_count": null,
      "outputs": []
    },
    {
      "cell_type": "code",
      "metadata": {
        "id": "xNugjEScFiCC",
        "colab": {
          "base_uri": "https://localhost:8080/"
        },
        "outputId": "7235c14d-e6da-4535-95bc-6c1ccf832297"
      },
      "source": [
        "x.shape, W.shape #gives tensor dimensions"
      ],
      "execution_count": null,
      "outputs": [
        {
          "output_type": "execute_result",
          "data": {
            "text/plain": [
              "(torch.Size([1000, 784]), torch.Size([784, 10]))"
            ]
          },
          "metadata": {},
          "execution_count": 49
        }
      ]
    },
    {
      "cell_type": "code",
      "metadata": {
        "id": "2fKhesUrFrYo",
        "colab": {
          "base_uri": "https://localhost:8080/"
        },
        "outputId": "09cff01b-bdec-46f6-bd7a-122b59cd4084"
      },
      "source": [
        "torch.matmul(x,W).shape #The command `torch.matmul(x,W).shape` returns the shape of the result of the matrix multiplication of `x` and `W` using PyTorch's `matmul` function.\n",
        "#This is typically used to verify the dimensions of the output in a machine learning context."
      ],
      "execution_count": null,
      "outputs": [
        {
          "output_type": "execute_result",
          "data": {
            "text/plain": [
              "torch.Size([1000, 10])"
            ]
          },
          "metadata": {},
          "execution_count": 50
        }
      ]
    },
    {
      "cell_type": "code",
      "metadata": {
        "id": "vXUJJil7VyS_",
        "colab": {
          "base_uri": "https://localhost:8080/"
        },
        "outputId": "7cce020d-cf49-4388-a241-1138764078a5"
      },
      "source": [
        "(x@W).shape #The expression (x@W).shape is used in Python, particularly with NumPy or PyTorch libraries, for matrix operations and shape manipulations."
      ],
      "execution_count": null,
      "outputs": [
        {
          "output_type": "execute_result",
          "data": {
            "text/plain": [
              "torch.Size([1000, 10])"
            ]
          },
          "metadata": {},
          "execution_count": 51
        }
      ]
    },
    {
      "cell_type": "code",
      "metadata": {
        "id": "CCUIYKR-Il3c",
        "colab": {
          "base_uri": "https://localhost:8080/"
        },
        "outputId": "dbe46e5a-8ed7-482b-8e66-0ca7c1ecd69d"
      },
      "source": [
        "%%timeit\n",
        "x@W\n",
        "#The `%%timeit x@W` command in Python measures and outputs the average time it takes to perform the matrix multiplication `x@W` over multiple runs.\n",
        "# It's a magic command in IPython environments used for timing code execution."
      ],
      "execution_count": null,
      "outputs": [
        {
          "output_type": "stream",
          "name": "stdout",
          "text": [
            "20.7 µs ± 127 ns per loop (mean ± std. dev. of 7 runs, 10000 loops each)\n"
          ]
        }
      ]
    },
    {
      "cell_type": "code",
      "metadata": {
        "id": "GlQwtdaSeB5S"
      },
      "source": [
        "x@W #This is a matrix multiplication operation. The @ operator is used to perform matrix multiplication between x and W. x and W are assumed to be matrices (or tensors) that are compatible for multiplication. That is, the number of columns in x should be equal to the number of rows in W."
      ],
      "execution_count": null,
      "outputs": []
    },
    {
      "cell_type": "code",
      "metadata": {
        "id": "E2hgdUkmeB8W"
      },
      "source": [
        "y2 = x@W #defining the variable"
      ],
      "execution_count": null,
      "outputs": []
    },
    {
      "cell_type": "code",
      "metadata": {
        "id": "ZdZImnZFGeT6"
      },
      "source": [
        "plot(y2[:50]) #plots the first 50 elements of y2."
      ],
      "execution_count": null,
      "outputs": []
    },
    {
      "cell_type": "code",
      "metadata": {
        "id": "eQSssyK-GoB2"
      },
      "source": [
        "y #displays"
      ],
      "execution_count": null,
      "outputs": []
    },
    {
      "cell_type": "code",
      "source": [
        "y.shape #gives tensor dimensions"
      ],
      "metadata": {
        "id": "asy5jw0oy_F7",
        "colab": {
          "base_uri": "https://localhost:8080/"
        },
        "outputId": "8e4196bf-dc46-47fd-89c1-ea8be9383922"
      },
      "execution_count": null,
      "outputs": [
        {
          "output_type": "execute_result",
          "data": {
            "text/plain": [
              "torch.Size([1000])"
            ]
          },
          "metadata": {},
          "execution_count": 57
        }
      ]
    },
    {
      "cell_type": "code",
      "source": [
        "def one_hot(y):\n",
        "    y2 = GPU_data(torch.zeros((y.shape[0],10)))\n",
        "    for i in range(y.shape[0]):\n",
        "        y2[i,int(y[i])] = 1\n",
        "    return y2\n",
        "#The function `one_hot(y)` converts a batch of class labels `y` into a one-hot\n",
        "#encoded tensor using GPU, where each label is represented as a 10-dimensional\n",
        "#vector with a single '1' at the index of the class and '0's elsewhere."
      ],
      "metadata": {
        "id": "BEgs4-skzhTC"
      },
      "execution_count": null,
      "outputs": []
    },
    {
      "cell_type": "code",
      "metadata": {
        "id": "EB2kNOUHGpIw",
        "colab": {
          "base_uri": "https://localhost:8080/"
        },
        "outputId": "6856b6c1-6bdd-4104-832c-42f09c7038ab"
      },
      "source": [
        "one_hot(y) #The `one_hot(y)` function call applies the `one_hot` function to the input `y`, converting the class labels in `y` into a one-hot encoded format."
      ],
      "execution_count": null,
      "outputs": [
        {
          "output_type": "stream",
          "name": "stderr",
          "text": [
            "<ipython-input-38-c3d856de2607>:5: UserWarning: To copy construct from a tensor, it is recommended to use sourceTensor.clone().detach() or sourceTensor.clone().detach().requires_grad_(True), rather than torch.tensor(sourceTensor).\n",
            "  return torch.tensor(data, requires_grad=False, dtype=torch.float, device=torch.device('cuda'))\n"
          ]
        },
        {
          "output_type": "execute_result",
          "data": {
            "text/plain": [
              "tensor([[0., 0., 0.,  ..., 0., 0., 0.],\n",
              "        [0., 0., 0.,  ..., 1., 0., 0.],\n",
              "        [0., 1., 0.,  ..., 0., 0., 0.],\n",
              "        ...,\n",
              "        [0., 0., 0.,  ..., 1., 0., 0.],\n",
              "        [0., 0., 1.,  ..., 0., 0., 0.],\n",
              "        [0., 1., 0.,  ..., 0., 0., 0.]], device='cuda:0')"
            ]
          },
          "metadata": {},
          "execution_count": 59
        }
      ]
    },
    {
      "cell_type": "code",
      "metadata": {
        "id": "v91JZyTQeCMp"
      },
      "source": [
        "torch.argmax(y2,1) #The `torch.argmax(y2,1)` function call in PyTorch returns the indices of the maximum values along dimension 1 (columns) of the tensor `y2`."
      ],
      "execution_count": null,
      "outputs": []
    },
    {
      "cell_type": "code",
      "metadata": {
        "id": "0hfl1lKrguTg",
        "colab": {
          "base_uri": "https://localhost:8080/"
        },
        "outputId": "adf44a0f-320c-4ed1-cdb3-d0a011fb4ae5"
      },
      "source": [
        "torch.sum(y == torch.argmax(y2,1))/b #The expression `torch.sum(y == torch.argmax(y2,1))/b` calculates the accuracy of predictions `y2` against true labels `y` in a batch of size `b`. It does this by comparing the predicted class (the index with the maximum value in `y2`) with the true class `y`, summing up the correct predictions, and then dividing by the batch size `b`.\n",
        "#This gives the proportion of correct predictions in the batch."
      ],
      "execution_count": null,
      "outputs": [
        {
          "output_type": "execute_result",
          "data": {
            "text/plain": [
              "tensor(0.0890, device='cuda:0')"
            ]
          },
          "metadata": {},
          "execution_count": 61
        }
      ]
    },
    {
      "cell_type": "code",
      "metadata": {
        "id": "xz7Ea13HwarC",
        "colab": {
          "base_uri": "https://localhost:8080/"
        },
        "outputId": "1480cf03-3809-46be-f676-3846e117f7bd"
      },
      "source": [
        "X.shape #gives tensor dimensions"
      ],
      "execution_count": null,
      "outputs": [
        {
          "output_type": "execute_result",
          "data": {
            "text/plain": [
              "torch.Size([60000, 784])"
            ]
          },
          "metadata": {},
          "execution_count": 62
        }
      ]
    },
    {
      "cell_type": "code",
      "metadata": {
        "id": "FNP2ahywwatJ",
        "colab": {
          "base_uri": "https://localhost:8080/"
        },
        "outputId": "1b3e7d9a-ee19-43e6-9417-23910e287100"
      },
      "source": [
        "X@W #matrix multiplication operation between compatible tensors"
      ],
      "execution_count": null,
      "outputs": [
        {
          "output_type": "execute_result",
          "data": {
            "text/plain": [
              "tensor([[  2.4150,  -9.3041,   2.2678,  ...,   2.2788,  -3.3525,  -2.1586],\n",
              "        [ -5.2223,   1.7370,  -0.4901,  ...,  22.6241,   0.6255, -17.3633],\n",
              "        [ 11.7900,   8.1169,   3.4437,  ...,   4.9776,   4.0090,  14.6905],\n",
              "        ...,\n",
              "        [  1.5532,   8.2267,  -9.3373,  ...,  -6.3725, -11.2003,   0.9299],\n",
              "        [  2.4485,   4.3288, -17.8427,  ...,   9.1859,   4.0388,  -9.0019],\n",
              "        [ -0.3791,   0.2381,  -0.8737,  ...,  14.9609,   4.8975, -10.4056]],\n",
              "       device='cuda:0', grad_fn=<MmBackward0>)"
            ]
          },
          "metadata": {},
          "execution_count": 63
        }
      ]
    },
    {
      "cell_type": "code",
      "metadata": {
        "id": "WbGDRj7BwavA",
        "colab": {
          "base_uri": "https://localhost:8080/"
        },
        "outputId": "867656c4-c83d-4dc1-e676-f3bea720fa8f"
      },
      "source": [
        "torch.argmax(X@W,1) #The `torch.argmax(X@W,1)` function call in PyTorch performs matrix multiplication of `X` and `W`, and then returns the indices of the maximum values along dimension 1 (columns) of the resulting tensor.\n",
        "#This is often used to get the predicted class labels in a classification task."
      ],
      "execution_count": null,
      "outputs": [
        {
          "output_type": "execute_result",
          "data": {
            "text/plain": [
              "tensor([3, 7, 9,  ..., 5, 5, 7], device='cuda:0')"
            ]
          },
          "metadata": {},
          "execution_count": 64
        }
      ]
    },
    {
      "cell_type": "code",
      "metadata": {
        "id": "EXTb4Y4ywaw3",
        "colab": {
          "base_uri": "https://localhost:8080/"
        },
        "outputId": "ac622fe7-65bb-4d26-a6ce-bd8335b9c5ab"
      },
      "source": [
        "Y #displays"
      ],
      "execution_count": null,
      "outputs": [
        {
          "output_type": "execute_result",
          "data": {
            "text/plain": [
              "tensor([5., 0., 4.,  ..., 5., 6., 8.], device='cuda:0')"
            ]
          },
          "metadata": {},
          "execution_count": 65
        }
      ]
    },
    {
      "cell_type": "code",
      "metadata": {
        "id": "h_w3ksHVjQwu",
        "colab": {
          "base_uri": "https://localhost:8080/"
        },
        "outputId": "b64a385f-468e-40a2-94f1-3468734be66f"
      },
      "source": [
        "torch.sum(torch.argmax(X@W,1) == Y)/60000 #This line calculates the accuracy of predictions by comparing the indices of maximum values in the tensor resulting from the matrix multiplication of `X` and `W` with the labels `Y`, and then dividing by the total number of samples (60,000)."
      ],
      "execution_count": null,
      "outputs": [
        {
          "output_type": "execute_result",
          "data": {
            "text/plain": [
              "tensor(0.0959, device='cuda:0')"
            ]
          },
          "metadata": {},
          "execution_count": 66
        }
      ]
    },
    {
      "cell_type": "code",
      "metadata": {
        "id": "n6RKfzVLnOTD",
        "colab": {
          "base_uri": "https://localhost:8080/"
        },
        "outputId": "f2b1ce2d-9b8d-40cc-b83c-8755272d0eb0"
      },
      "source": [
        "X@W #tensor multiplication"
      ],
      "execution_count": null,
      "outputs": [
        {
          "output_type": "execute_result",
          "data": {
            "text/plain": [
              "tensor([[  2.4150,  -9.3041,   2.2678,  ...,   2.2788,  -3.3525,  -2.1586],\n",
              "        [ -5.2223,   1.7370,  -0.4901,  ...,  22.6241,   0.6255, -17.3633],\n",
              "        [ 11.7900,   8.1169,   3.4437,  ...,   4.9776,   4.0090,  14.6905],\n",
              "        ...,\n",
              "        [  1.5532,   8.2267,  -9.3373,  ...,  -6.3725, -11.2003,   0.9299],\n",
              "        [  2.4485,   4.3288, -17.8427,  ...,   9.1859,   4.0388,  -9.0019],\n",
              "        [ -0.3791,   0.2381,  -0.8737,  ...,  14.9609,   4.8975, -10.4056]],\n",
              "       device='cuda:0', grad_fn=<MmBackward0>)"
            ]
          },
          "metadata": {},
          "execution_count": 68
        }
      ]
    },
    {
      "cell_type": "code",
      "metadata": {
        "id": "GpOVv7nInOUw",
        "colab": {
          "base_uri": "https://localhost:8080/"
        },
        "outputId": "eb67cd0f-7adf-41c5-f7cb-ba30a94d4a6c"
      },
      "source": [
        "W.shape #gives tensor dimensions"
      ],
      "execution_count": null,
      "outputs": [
        {
          "output_type": "execute_result",
          "data": {
            "text/plain": [
              "torch.Size([784, 10])"
            ]
          },
          "metadata": {},
          "execution_count": 69
        }
      ]
    },
    {
      "cell_type": "code",
      "metadata": {
        "id": "IRq_ouBUnOWx",
        "colab": {
          "base_uri": "https://localhost:8080/"
        },
        "outputId": "9f497c6e-ca65-4785-caaf-ad37b4afccea"
      },
      "source": [
        "W[:,0].shape #gives tensor dimensions"
      ],
      "execution_count": null,
      "outputs": [
        {
          "output_type": "execute_result",
          "data": {
            "text/plain": [
              "torch.Size([784])"
            ]
          },
          "metadata": {},
          "execution_count": 70
        }
      ]
    },
    {
      "cell_type": "code",
      "metadata": {
        "id": "uYWJulTHnOa1"
      },
      "source": [
        "plot(W[:,0].reshape(28,28)) #This line plots the first column of tensor `W` after reshaping it into a 28x28 image."
      ],
      "execution_count": null,
      "outputs": []
    },
    {
      "cell_type": "code",
      "metadata": {
        "id": "tupFwuSZnOk9"
      },
      "source": [
        "plot(W[:,2].reshape(28,28)) #This line plots the third column of tensor `W` after reshaping it into a 28x28 image."
      ],
      "execution_count": null,
      "outputs": []
    },
    {
      "cell_type": "code",
      "metadata": {
        "id": "Wvvy6MrAkC5Z",
        "colab": {
          "base_uri": "https://localhost:8080/"
        },
        "outputId": "b9ae083e-8a79-4881-dc27-49d253498169"
      },
      "source": [
        "W.shape #gives ternsor dimensions"
      ],
      "execution_count": null,
      "outputs": [
        {
          "output_type": "execute_result",
          "data": {
            "text/plain": [
              "torch.Size([784, 10])"
            ]
          },
          "metadata": {},
          "execution_count": 73
        }
      ]
    },
    {
      "cell_type": "code",
      "metadata": {
        "id": "MCrJ9cNPkC76",
        "colab": {
          "base_uri": "https://localhost:8080/"
        },
        "outputId": "8ebef9cc-7de3-4bea-f53b-d7096bcb829f"
      },
      "source": [
        "(W.T).shape #This retrieves the shape of the transpose of tensor `W`, swapping its dimensions."
      ],
      "execution_count": null,
      "outputs": [
        {
          "output_type": "execute_result",
          "data": {
            "text/plain": [
              "torch.Size([10, 784])"
            ]
          },
          "metadata": {},
          "execution_count": 74
        }
      ]
    },
    {
      "cell_type": "code",
      "metadata": {
        "id": "wAkEKB2_jQyy"
      },
      "source": [
        "montage_plot((W.T).reshape(10,28,28).cpu().detach().numpy()) #This line generates a montage plot of the transpose of tensor `W` after reshaping it into a 10x28x28 array, converting it to a NumPy array, and then plotting it."
      ],
      "execution_count": null,
      "outputs": []
    },
    {
      "cell_type": "code",
      "metadata": {
        "id": "m4BlYG-CgC2z"
      },
      "source": [
        "def softmax(x):\n",
        "    s1 = torch.exp(x - torch.max(x,1)[0][:,None])\n",
        "    s = s1 / s1.sum(1)[:,None]\n",
        "    return s\n",
        "#This function `softmax(x)` computes the softmax activation function for the\n",
        "#input tensor `x`. It first subtracts the maximum value of each row from the\n",
        "#corresponding elements in `x` to prevent overflow, then exponentiates the result.\n",
        "#Afterward, it normalizes each row by dividing by the sum of exponentiated values along each row.\n",
        "#Finally, it returns the resulting tensor."
      ],
      "execution_count": null,
      "outputs": []
    },
    {
      "cell_type": "code",
      "metadata": {
        "id": "XZ-UV8W_c_9o"
      },
      "source": [
        "def cross_entropy(outputs, labels):\n",
        "    return -torch.sum(softmax(outputs).log()[range(outputs.size()[0]), labels.long()])/outputs.size()[0]\n",
        "\n",
        "#This function `cross_entropy(outputs, labels)` computes the cross-entropy loss\n",
        "#given the predicted outputs and the true labels.\n",
        "#It first applies the softmax activation function to the outputs, then\n",
        "#calculates the negative log probabilities corresponding to the predicted class labels.\n",
        "#Finally, it returns the average cross-entropy loss across all samples."
      ],
      "execution_count": null,
      "outputs": []
    },
    {
      "cell_type": "code",
      "metadata": {
        "id": "LW3ttVcq1sI9"
      },
      "source": [
        "def acc(out,y):\n",
        "    return (torch.sum(torch.max(out,1)[1] == y).item())/y.shape[0]\n",
        "\n",
        "#This function `acc(out, y)` computes the accuracy of predictions given the\n",
        "#predicted outputs `out` and the true labels `y`. It compares the indices of\n",
        "#maximum values in the predicted outputs with the true labels, sums the correct\n",
        "#predictions, converts the result to a Python scalar, and finally divides by the\n",
        "#total number of samples `y.shape[0]` to obtain the accuracy."
      ],
      "execution_count": null,
      "outputs": []
    },
    {
      "cell_type": "code",
      "metadata": {
        "id": "x79Sie8XKPOC"
      },
      "source": [
        "def get_batch(mode):\n",
        "    b = c.b\n",
        "    if mode == \"train\":\n",
        "        r = np.random.randint(X.shape[0]-b)\n",
        "        x = X[r:r+b,:]\n",
        "        y = Y[r:r+b]\n",
        "    elif mode == \"test\":\n",
        "        r = np.random.randint(X_test.shape[0]-b)\n",
        "        x = X_test[r:r+b,:]\n",
        "        y = Y_test[r:r+b]\n",
        "    return x,y\n",
        "#This function `get_batch(mode)` retrieves a batch of data based on the\n",
        "#specified mode (\"train\" or \"test\"). If the mode is \"train\", it randomly selects\n",
        "#a batch of size `b` from the training data `X` and its corresponding labels `Y`\n",
        "#If the mode is \"test\", it randomly selects a batch of size `b` from the test\n",
        "#data `X_test` and its corresponding labels `Y_test`.\n",
        "#Finally, it returns the batch of input data `x` and its corresponding labels `y`."
      ],
      "execution_count": null,
      "outputs": []
    },
    {
      "cell_type": "code",
      "metadata": {
        "id": "vXOr9aM8A8P-"
      },
      "source": [
        "def model(x,w):\n",
        "\n",
        "    return x@w[0]\n",
        "#This function `model(x, w)` defines a simple linear model that performs matrix\n",
        "#multiplication between the input tensor `x` and the first element of tensor `w`."
      ],
      "execution_count": null,
      "outputs": []
    },
    {
      "cell_type": "code",
      "metadata": {
        "id": "-k6j0lacnYYk"
      },
      "source": [
        "def gradient_step(w):\n",
        "\n",
        "    w[0].data = w[0].data - c.L*w[0].grad.data\n",
        "\n",
        "    w[0].grad.data.zero_()\n",
        "#This function `gradient_step(w)` updates the weights `w` using gradient descent.\n",
        "#It subtracts the product of the learning rate `c.L` and the gradient of the weights from the weights themselves to perform the update.\n",
        "#Then, it zeros out the gradient to prepare for the next iteration."
      ],
      "execution_count": null,
      "outputs": []
    },
    {
      "cell_type": "code",
      "metadata": {
        "id": "uzRsuDek9Fve"
      },
      "source": [
        "def make_plots():\n",
        "\n",
        "    acc_train = acc(model(x,w),y)\n",
        "\n",
        "    xt,yt = get_batch('test')\n",
        "\n",
        "    acc_test = acc(model(xt,w),yt)\n",
        "\n",
        "    wb.log({\"acc_train\": acc_train, \"acc_test\": acc_test})\n",
        "\n",
        "#This function `make_plots()` generates plots and logs the training and testing accuracies using Weights & Biases.\n",
        "#It first computes the training accuracy by passing the training data `x` and its corresponding labels `y` through the model `model(x, w)` and calculating the accuracy using the `acc` function.\n",
        "#Then, it retrieves a batch of test data `xt` and its corresponding labels `yt` using `get_batch('test')`, and computes the testing accuracy in a similar manner.\n",
        "#Finally, it logs both training and testing accuracies using Weights & Biases."
      ],
      "execution_count": null,
      "outputs": []
    },
    {
      "cell_type": "code",
      "source": [
        "def Truncated_Normal(size):\n",
        "\n",
        "    u1 = torch.rand(size)*(1-np.exp(-2)) + np.exp(-2)\n",
        "    u2 = torch.rand(size)\n",
        "    z  = torch.sqrt(-2*torch.log(u1)) * torch.cos(2*np.pi*u2)\n",
        "\n",
        "    return z\n",
        "\n",
        "#This function `Truncated_Normal(size)` generates samples from a truncated normal distribution with mean 0 and standard deviation 1.\n",
        "#It first generates uniform random samples `u1` and `u2`, then applies a transformation to obtain samples from a standard normal distribution.\n",
        "#Finally, it scales and shifts these samples to match the desired mean and standard deviation, resulting in truncated normal samples."
      ],
      "metadata": {
        "id": "fx6a-FjX6bEN"
      },
      "execution_count": null,
      "outputs": []
    },
    {
      "cell_type": "code",
      "metadata": {
        "id": "v_6a6qnKA7zP",
        "colab": {
          "base_uri": "https://localhost:8080/",
          "height": 1000,
          "referenced_widgets": [
            "2e4ee3ead8234edcaa41d2447b306541",
            "29fc8054b0a14929a545f666e0edd045",
            "6baf1fd35a254378a25008d4955debbb",
            "7e18d8fbca1d42b4a78e54e72a120df1",
            "88ad0f274fd84b598d91d2718e2650ca",
            "8f6117d265624adc89ca3ba7ff4b13df",
            "6a7720a79e8a44c3859fb18e956303e4",
            "79a177b3b92b4785a5cb329c94fe093d",
            "9ef95bcddae84efbb3fa7f7dad3bc3b7",
            "3f1c360db8e248858ef3a8975fbabfc5",
            "d7a07270217d45b7989b5fff643803e5",
            "52a1865ac45c499c93249dc42fad9596",
            "8e2f6eec7a554a7483fe111163d402dd",
            "a253394992cd4cb1b0d4a1e224ac360d",
            "3032dd883aca43df8f3ac1b02d9d5ea2",
            "0e283749be1f470bb7a704d3432c5250"
          ]
        },
        "outputId": "661a6b3a-5d01-4ae3-fd0c-49fe3df2577c"
      },
      "source": [
        "for run in range(3):\n",
        "\n",
        "    wb.init(project=\"Simple_Linear_SGD_123\");\n",
        "#Initializes Weights & Biases for experiment tracking, specifying the project name.\n",
        "    c = wb.config\n",
        "#Sets up a configuration object to store experiment parameters.\n",
        "    c.L = 0.1\n",
        "    c.b = 1024\n",
        "    c.epochs = 10000\n",
        "#c.L = 0.1: Sets the learning rate to 0.1.\n",
        "#c.b = 1024: Sets the batch size to 1024.\n",
        "    w = [GPU(Truncated_Normal((784,10)))]\n",
        "#Initializes the weight parameter w as a list containing a tensor obtained from a truncated normal distribution of shape (784, 10). The GPU() function likely places this tensor on the GPU.\n",
        "    for i in range(c.epochs): #Iterates over c.epochs epochs.\n",
        "\n",
        "        x,y = get_batch('train')\n",
        "#Obtains a batch of training data and labels.\n",
        "        out = model(x,w)\n",
        "#Computes the output of the model for the given batch of data.\n",
        "        loss = cross_entropy(softmax(out),y)\n",
        "# Computes the cross-entropy loss between the model predictions and the true labels.\n",
        "        loss.backward()\n",
        "# Backpropagates the gradients through the computational graph.\n",
        "        gradient_step(w)\n",
        "#Updates the weights using gradient descent.\n",
        "        make_plots()\n",
        "# Generates and logs training and testing accuracies using Weights & Biases.\n",
        "        if (i+1) % 10000 == 0: montage_plot((w[0].T).reshape(10,28,28).cpu().detach().numpy())\n",
        "#Every 10,000 iterations, plots a montage of the transposed weights reshaped into 10 images of size 28x28 each."
      ],
      "execution_count": null,
      "outputs": [
        {
          "data": {
            "application/javascript": [
              "\n",
              "        window._wandbApiKey = new Promise((resolve, reject) => {\n",
              "            function loadScript(url) {\n",
              "            return new Promise(function(resolve, reject) {\n",
              "                let newScript = document.createElement(\"script\");\n",
              "                newScript.onerror = reject;\n",
              "                newScript.onload = resolve;\n",
              "                document.body.appendChild(newScript);\n",
              "                newScript.src = url;\n",
              "            });\n",
              "            }\n",
              "            loadScript(\"https://cdn.jsdelivr.net/npm/postmate/build/postmate.min.js\").then(() => {\n",
              "            const iframe = document.createElement('iframe')\n",
              "            iframe.style.cssText = \"width:0;height:0;border:none\"\n",
              "            document.body.appendChild(iframe)\n",
              "            const handshake = new Postmate({\n",
              "                container: iframe,\n",
              "                url: 'https://wandb.ai/authorize'\n",
              "            });\n",
              "            const timeout = setTimeout(() => reject(\"Couldn't auto authenticate\"), 5000)\n",
              "            handshake.then(function(child) {\n",
              "                child.on('authorize', data => {\n",
              "                    clearTimeout(timeout)\n",
              "                    resolve(data)\n",
              "                });\n",
              "            });\n",
              "            })\n",
              "        });\n",
              "    "
            ],
            "text/plain": [
              "<IPython.core.display.Javascript object>"
            ]
          },
          "metadata": {},
          "output_type": "display_data"
        },
        {
          "metadata": {
            "tags": null
          },
          "name": "stderr",
          "output_type": "stream",
          "text": [
            "\u001b[34m\u001b[1mwandb\u001b[0m: Logging into wandb.ai. (Learn how to deploy a W&B server locally: https://wandb.me/wandb-server)\n",
            "\u001b[34m\u001b[1mwandb\u001b[0m: You can find your API key in your browser here: https://wandb.ai/authorize\n",
            "wandb: Paste an API key from your profile and hit enter, or press ctrl+c to quit:\u001b[34m\u001b[1mwandb\u001b[0m: Appending key for api.wandb.ai to your netrc file: /root/.netrc\n"
          ]
        },
        {
          "data": {
            "text/html": [
              "Tracking run with wandb version 0.16.3"
            ],
            "text/plain": [
              "<IPython.core.display.HTML object>"
            ]
          },
          "metadata": {},
          "output_type": "display_data"
        },
        {
          "data": {
            "text/html": [
              "Run data is saved locally in <code>/content/wandb/run-20240219_193345-w60u6mcf</code>"
            ],
            "text/plain": [
              "<IPython.core.display.HTML object>"
            ]
          },
          "metadata": {},
          "output_type": "display_data"
        },
        {
          "data": {
            "text/html": [
              "Syncing run <strong><a href='https://wandb.ai/williamedwardhahn/Simple_Linear_SGD_123/runs/w60u6mcf' target=\"_blank\">abundant-fuse-4</a></strong> to <a href='https://wandb.ai/williamedwardhahn/Simple_Linear_SGD_123' target=\"_blank\">Weights & Biases</a> (<a href='https://wandb.me/run' target=\"_blank\">docs</a>)<br/>"
            ],
            "text/plain": [
              "<IPython.core.display.HTML object>"
            ]
          },
          "metadata": {},
          "output_type": "display_data"
        },
        {
          "data": {
            "text/html": [
              " View project at <a href='https://wandb.ai/williamedwardhahn/Simple_Linear_SGD_123' target=\"_blank\">https://wandb.ai/williamedwardhahn/Simple_Linear_SGD_123</a>"
            ],
            "text/plain": [
              "<IPython.core.display.HTML object>"
            ]
          },
          "metadata": {},
          "output_type": "display_data"
        },
        {
          "data": {
            "text/html": [
              " View run at <a href='https://wandb.ai/williamedwardhahn/Simple_Linear_SGD_123/runs/w60u6mcf' target=\"_blank\">https://wandb.ai/williamedwardhahn/Simple_Linear_SGD_123/runs/w60u6mcf</a>"
            ],
            "text/plain": [
              "<IPython.core.display.HTML object>"
            ]
          },
          "metadata": {},
          "output_type": "display_data"
        },
        {
          "metadata": {
            "tags": null
          },
          "name": "stderr",
          "output_type": "stream",
          "text": [
            "<ipython-input-38-c3d856de2607>:2: UserWarning: To copy construct from a tensor, it is recommended to use sourceTensor.clone().detach() or sourceTensor.clone().detach().requires_grad_(True), rather than torch.tensor(sourceTensor).\n",
            "  return torch.tensor(data, requires_grad=True, dtype=torch.float, device=torch.device('cuda'))\n"
          ]
        },
        {
          "data": {
            "image/png": "[encoded data removed]",
            "text/plain": [
              "<Figure size 500x500 with 1 Axes>"
            ]
          },
          "metadata": {},
          "output_type": "display_data"
        },
        {
          "data": {
            "text/html": [
              "Finishing last run (ID:w60u6mcf) before initializing another..."
            ],
            "text/plain": [
              "<IPython.core.display.HTML object>"
            ]
          },
          "metadata": {},
          "output_type": "display_data"
        },
        {
          "data": {
            "application/vnd.jupyter.widget-view+json": {
              "model_id": "2e4ee3ead8234edcaa41d2447b306541",
              "version_major": 2,
              "version_minor": 0
            },
            "text/plain": [
              "VBox(children=(Label(value='0.001 MB of 0.001 MB uploaded\\r'), FloatProgress(value=1.0, max=1.0)))"
            ]
          },
          "metadata": {},
          "output_type": "display_data"
        },
        {
          "data": {
            "text/html": [
              "<style>\n",
              "    table.wandb td:nth-child(1) { padding: 0 10px; text-align: left ; width: auto;} td:nth-child(2) {text-align: left ; width: 100%}\n",
              "    .wandb-row { display: flex; flex-direction: row; flex-wrap: wrap; justify-content: flex-start; width: 100% }\n",
              "    .wandb-col { display: flex; flex-direction: column; flex-basis: 100%; flex: 1; padding: 10px; }\n",
              "    </style>\n",
              "<div class=\"wandb-row\"><div class=\"wandb-col\"><h3>Run history:</h3><br/><table class=\"wandb\"><tr><td>acc_test</td><td>▁▁▂▃▂▃▅▄▅▅▄▅▆▆▆▆▆▆▇▇▇▇▇▇█▇▇▇██▇██▇█▇█▇██</td></tr><tr><td>acc_train</td><td>▁▁▂▂▃▃▃▄▅▅▅▅▅▆▇▆▇▇▆▇▇▇▇█▇▇██▇█▇███████▇█</td></tr></table><br/></div><div class=\"wandb-col\"><h3>Run summary:</h3><br/><table class=\"wandb\"><tr><td>acc_test</td><td>0.62695</td></tr><tr><td>acc_train</td><td>0.58984</td></tr></table><br/></div></div>"
            ],
            "text/plain": [
              "<IPython.core.display.HTML object>"
            ]
          },
          "metadata": {},
          "output_type": "display_data"
        },
        {
          "data": {
            "text/html": [
              " View run <strong style=\"color:#cdcd00\">abundant-fuse-4</strong> at: <a href='https://wandb.ai/williamedwardhahn/Simple_Linear_SGD_123/runs/w60u6mcf' target=\"_blank\">https://wandb.ai/williamedwardhahn/Simple_Linear_SGD_123/runs/w60u6mcf</a><br/>Synced 5 W&B file(s), 0 media file(s), 0 artifact file(s) and 0 other file(s)"
            ],
            "text/plain": [
              "<IPython.core.display.HTML object>"
            ]
          },
          "metadata": {},
          "output_type": "display_data"
        },
        {
          "data": {
            "text/html": [
              "Find logs at: <code>./wandb/run-20240219_193345-w60u6mcf/logs</code>"
            ],
            "text/plain": [
              "<IPython.core.display.HTML object>"
            ]
          },
          "metadata": {},
          "output_type": "display_data"
        },
        {
          "data": {
            "text/html": [
              "Successfully finished last run (ID:w60u6mcf). Initializing new run:<br/>"
            ],
            "text/plain": [
              "<IPython.core.display.HTML object>"
            ]
          },
          "metadata": {},
          "output_type": "display_data"
        },
        {
          "data": {
            "text/html": [
              "Tracking run with wandb version 0.16.3"
            ],
            "text/plain": [
              "<IPython.core.display.HTML object>"
            ]
          },
          "metadata": {},
          "output_type": "display_data"
        },
        {
          "data": {
            "text/html": [
              "Run data is saved locally in <code>/content/wandb/run-20240219_193425-xwt664x2</code>"
            ],
            "text/plain": [
              "<IPython.core.display.HTML object>"
            ]
          },
          "metadata": {},
          "output_type": "display_data"
        },
        {
          "data": {
            "text/html": [
              "Syncing run <strong><a href='https://wandb.ai/williamedwardhahn/Simple_Linear_SGD_123/runs/xwt664x2' target=\"_blank\">festive-rabbit-5</a></strong> to <a href='https://wandb.ai/williamedwardhahn/Simple_Linear_SGD_123' target=\"_blank\">Weights & Biases</a> (<a href='https://wandb.me/run' target=\"_blank\">docs</a>)<br/>"
            ],
            "text/plain": [
              "<IPython.core.display.HTML object>"
            ]
          },
          "metadata": {},
          "output_type": "display_data"
        },
        {
          "data": {
            "text/html": [
              " View project at <a href='https://wandb.ai/williamedwardhahn/Simple_Linear_SGD_123' target=\"_blank\">https://wandb.ai/williamedwardhahn/Simple_Linear_SGD_123</a>"
            ],
            "text/plain": [
              "<IPython.core.display.HTML object>"
            ]
          },
          "metadata": {},
          "output_type": "display_data"
        },
        {
          "data": {
            "text/html": [
              " View run at <a href='https://wandb.ai/williamedwardhahn/Simple_Linear_SGD_123/runs/xwt664x2' target=\"_blank\">https://wandb.ai/williamedwardhahn/Simple_Linear_SGD_123/runs/xwt664x2</a>"
            ],
            "text/plain": [
              "<IPython.core.display.HTML object>"
            ]
          },
          "metadata": {},
          "output_type": "display_data"
        },
        {
          "data": {
            "image/png": "[encoded data removed]",
            "text/plain": [
              "<Figure size 500x500 with 1 Axes>"
            ]
          },
          "metadata": {},
          "output_type": "display_data"
        },
        {
          "data": {
            "text/html": [
              "Finishing last run (ID:xwt664x2) before initializing another..."
            ],
            "text/plain": [
              "<IPython.core.display.HTML object>"
            ]
          },
          "metadata": {},
          "output_type": "display_data"
        },
        {
          "data": {
            "application/vnd.jupyter.widget-view+json": {
              "model_id": "9ef95bcddae84efbb3fa7f7dad3bc3b7",
              "version_major": 2,
              "version_minor": 0
            },
            "text/plain": [
              "VBox(children=(Label(value='0.010 MB of 0.010 MB uploaded\\r'), FloatProgress(value=1.0, max=1.0)))"
            ]
          },
          "metadata": {},
          "output_type": "display_data"
        },
        {
          "data": {
            "text/html": [
              "<style>\n",
              "    table.wandb td:nth-child(1) { padding: 0 10px; text-align: left ; width: auto;} td:nth-child(2) {text-align: left ; width: 100%}\n",
              "    .wandb-row { display: flex; flex-direction: row; flex-wrap: wrap; justify-content: flex-start; width: 100% }\n",
              "    .wandb-col { display: flex; flex-direction: column; flex-basis: 100%; flex: 1; padding: 10px; }\n",
              "    </style>\n",
              "<div class=\"wandb-row\"><div class=\"wandb-col\"><h3>Run history:</h3><br/><table class=\"wandb\"><tr><td>acc_test</td><td>▁▂▂▃▄▆▅▅▅▇▆▆▆▇▇▇▆█▇▇▇▇███████▇███▇█▇████</td></tr><tr><td>acc_train</td><td>▁▁▂▃▄▄▅▅▆▆▆▆▇▆▆▇▇▆▇▇▇▇██▇▇▇██▇▇▇█▇▇▇▇███</td></tr></table><br/></div><div class=\"wandb-col\"><h3>Run summary:</h3><br/><table class=\"wandb\"><tr><td>acc_test</td><td>0.44336</td></tr><tr><td>acc_train</td><td>0.4873</td></tr></table><br/></div></div>"
            ],
            "text/plain": [
              "<IPython.core.display.HTML object>"
            ]
          },
          "metadata": {},
          "output_type": "display_data"
        },
        {
          "data": {
            "text/html": [
              " View run <strong style=\"color:#cdcd00\">festive-rabbit-5</strong> at: <a href='https://wandb.ai/williamedwardhahn/Simple_Linear_SGD_123/runs/xwt664x2' target=\"_blank\">https://wandb.ai/williamedwardhahn/Simple_Linear_SGD_123/runs/xwt664x2</a><br/>Synced 4 W&B file(s), 0 media file(s), 0 artifact file(s) and 0 other file(s)"
            ],
            "text/plain": [
              "<IPython.core.display.HTML object>"
            ]
          },
          "metadata": {},
          "output_type": "display_data"
        },
        {
          "data": {
            "text/html": [
              "Find logs at: <code>./wandb/run-20240219_193425-xwt664x2/logs</code>"
            ],
            "text/plain": [
              "<IPython.core.display.HTML object>"
            ]
          },
          "metadata": {},
          "output_type": "display_data"
        },
        {
          "data": {
            "text/html": [
              "Successfully finished last run (ID:xwt664x2). Initializing new run:<br/>"
            ],
            "text/plain": [
              "<IPython.core.display.HTML object>"
            ]
          },
          "metadata": {},
          "output_type": "display_data"
        },
        {
          "output_type": "display_data",
          "data": {
            "text/plain": [
              "<IPython.core.display.HTML object>"
            ],
            "text/html": [
              "Tracking run with wandb version 0.16.3"
            ]
          },
          "metadata": {}
        },
        {
          "output_type": "display_data",
          "data": {
            "text/plain": [
              "<IPython.core.display.HTML object>"
            ],
            "text/html": [
              "Run data is saved locally in <code>/content/wandb/run-20240219_193508-oo4xxzf5</code>"
            ]
          },
          "metadata": {}
        },
        {
          "output_type": "display_data",
          "data": {
            "text/plain": [
              "<IPython.core.display.HTML object>"
            ],
            "text/html": [
              "Syncing run <strong><a href='https://wandb.ai/williamedwardhahn/Simple_Linear_SGD_123/runs/oo4xxzf5' target=\"_blank\">vermilion-monkey-6</a></strong> to <a href='https://wandb.ai/williamedwardhahn/Simple_Linear_SGD_123' target=\"_blank\">Weights & Biases</a> (<a href='https://wandb.me/run' target=\"_blank\">docs</a>)<br/>"
            ]
          },
          "metadata": {}
        },
        {
          "output_type": "display_data",
          "data": {
            "text/plain": [
              "<IPython.core.display.HTML object>"
            ],
            "text/html": [
              " View project at <a href='https://wandb.ai/williamedwardhahn/Simple_Linear_SGD_123' target=\"_blank\">https://wandb.ai/williamedwardhahn/Simple_Linear_SGD_123</a>"
            ]
          },
          "metadata": {}
        },
        {
          "output_type": "display_data",
          "data": {
            "text/plain": [
              "<IPython.core.display.HTML object>"
            ],
            "text/html": [
              " View run at <a href='https://wandb.ai/williamedwardhahn/Simple_Linear_SGD_123/runs/oo4xxzf5' target=\"_blank\">https://wandb.ai/williamedwardhahn/Simple_Linear_SGD_123/runs/oo4xxzf5</a>"
            ]
          },
          "metadata": {}
        },
        {
          "output_type": "display_data",
          "data": {
            "text/plain": [
              "<Figure size 500x500 with 1 Axes>"
            ],
            "image/png": "[encoded data removed]"
          },
          "metadata": {}
        }
      ]
    },
    {
      "cell_type": "code",
      "metadata": {
        "id": "WANJibeUNghZ"
      },
      "source": [
        "for run in range(100): #Iterates over 100 runs.\n",
        "\n",
        "    wb.init(project=\"Simple_Linear_Adam_2\"); # Initializes Weights & Biases for experiment tracking, specifying the project name.\n",
        "    c = wb.config #Sets up a configuration object to store experiment parameters.\n",
        "\n",
        "    c.L = 0.01\n",
        "    c.b = 1024\n",
        "    c.epochs = 100000\n",
        "#c.L = 0.01: Sets the learning rate to 0.01.\n",
        "#c.b = 1024: Sets the batch size to 1024.\n",
        "#c.epochs = 100000: Sets the number of epochs to 100,000.\n",
        "    w = [GPU(Truncated_Normal((784,10)))]\n",
        "#Initializes the weight parameter w as a list containing a tensor obtained from a truncated normal distribution of shape (784, 10). The GPU() function likely places this tensor on the GPU.\n",
        "    optimizer = torch.optim.Adam(w, lr=c.L)\n",
        "#Initializes the Adam optimizer with the specified learning rate.\n",
        "    for i in range(c.epochs): #Iterates over c.epochs epochs.\n",
        "\n",
        "        x,y = get_batch('train')\n",
        "#Obtains a batch of training data and labels.\n",
        "        loss = cross_entropy(softmax(model(x,w)),y)\n",
        "#Computes the cross-entropy loss between the model predictions and the true labels.\n",
        "        optimizer.zero_grad()\n",
        "#Clears the gradients of all optimized tensors.\n",
        "        loss.backward()\n",
        "#: Backpropagates the gradients through the computational graph.\n",
        "        optimizer.step()\n",
        "#Performs a single optimization step (parameter update).\n",
        "        wb.log({\"loss\": loss})\n",
        "#Logs the loss using Weights & Biases.\n",
        "        make_plots()\n",
        "#Generates and logs training and testing accuracies using Weights & Biases.\n",
        "        if i % 10000 == 0 : montage_plot((w[0].T).reshape(10,28,28).cpu().detach().numpy())\n",
        "#Every 10,000 iterations, plots a montage of the transposed weights reshaped into 10 images of size 28x28 each."
      ],
      "execution_count": null,
      "outputs": []
    },
    {
      "cell_type": "markdown",
      "source": [
        "\n",
        "### Autoencoder\n"
      ],
      "metadata": {
        "id": "MMkIx6bTNy8g"
      }
    },
    {
      "cell_type": "code",
      "source": [
        "def get_batch(mode):\n",
        "    b = 1024\n",
        "    if mode == \"train\":\n",
        "        r = np.random.randint(X.shape[0]-b)\n",
        "        x = X[r:r+b,:]\n",
        "        y = Y[r:r+b]\n",
        "    elif mode == \"test\":\n",
        "        r = np.random.randint(X_test.shape[0]-b)\n",
        "        x = X_test[r:r+b,:]\n",
        "        y = Y_test[r:r+b]\n",
        "    return x,y\n",
        "#This function `get_batch(mode)` retrieves a batch of data based on the specified mode (\"train\" or \"test\").\n",
        "#It randomly selects a batch of size 1024 from either the training data `X` or the test data `X_test`, along with their corresponding labels `Y` or `Y_test`, respectively, and returns them."
      ],
      "metadata": {
        "id": "7QaW3xn0-M-l"
      },
      "execution_count": null,
      "outputs": []
    },
    {
      "cell_type": "code",
      "source": [
        "X = X.reshape(X.shape[0],1,28,28)\n",
        "X_test = X_test.reshape(X_test.shape[0],1,28,28)\n",
        "#This code reshapes the training and test data arrays `X` and `X_test` into\n",
        "#4D tensors with dimensions representing batch size, number of channels, height, and width, where each image is now represented as a single-channel (grayscale) image with dimensions 28x28."
      ],
      "metadata": {
        "id": "WBQQOXS7XU-k"
      },
      "execution_count": null,
      "outputs": []
    },
    {
      "cell_type": "code",
      "source": [
        "import torchvision\n",
        "from torch.nn.functional import *\n",
        "#These lines import the torchvision package, which provides popular datasets,\n",
        "#model architectures, and image transformations for computer vision tasks.\n",
        "#Additionally, it imports the functional module from the PyTorch neural network package (`torch.nn.functional`), which contains a variety of functions commonly used in neural network operations such as activation functions, loss functions, and convolutional operations."
      ],
      "metadata": {
        "id": "Ieh4jE_laYn2"
      },
      "execution_count": null,
      "outputs": []
    },
    {
      "cell_type": "code",
      "source": [
        "X = torchvision.transforms.functional.normalize(X,0.5,0.5)\n",
        "X_test = torchvision.transforms.functional.normalize(X_test,0.5,0.5)\n",
        "#This code normalizes the pixel values of the training and test data arrays `X`\n",
        "#and `X_test`, shifting and scaling them so that they have a mean of 0.5 and a standard deviation of 0.5."
      ],
      "metadata": {
        "id": "N4StPT7VBG9O"
      },
      "execution_count": null,
      "outputs": []
    },
    {
      "cell_type": "code",
      "metadata": {
        "id": "UafuXvzKjSw7"
      },
      "source": [
        "def Encoder(x,w):\n",
        "    x = relu(conv2d(x,w[0], stride=(2, 2), padding=(1, 1)))\n",
        "    x = relu(conv2d(x,w[1], stride=(2, 2), padding=(1, 1)))\n",
        "    x = x.view(x.size(0), 6272)\n",
        "    x = linear(x,w[2])\n",
        "    return x\n",
        "#This function `Encoder(x, w)` performs encoding operations on the input tensor\n",
        "#`x` using convolutional and linear layers specified by the weights `w`.\n",
        "#It applies two convolutional layers with ReLU activation functions, followed by reshaping the output into a 1D tensor and applying a linear transformation."
      ],
      "execution_count": null,
      "outputs": []
    },
    {
      "cell_type": "code",
      "metadata": {
        "id": "ivvSdA3VjSw_"
      },
      "source": [
        "def Decoder(x,w):\n",
        "    x = linear(x,w[3])\n",
        "    x = x.view(x.size(0), 128, 7, 7)\n",
        "    x = relu(conv_transpose2d(x,w[4], stride=(2, 2), padding=(1, 1)))\n",
        "    x = torch.tanh(conv_transpose2d(x,w[5], stride=(2, 2), padding=(1, 1)))\n",
        "    return x\n",
        "#This function `Decoder(x, w)` performs decoding operations on the input tensor\n",
        "#`x` using linear and transposed convolutional layers specified by the weights `w`.\n",
        "#It applies a linear transformation followed by reshaping the output into a 4D tensor, then applies transposed convolutional layers with ReLU activation function and hyperbolic tangent (tanh) activation function, respectively."
      ],
      "execution_count": null,
      "outputs": []
    },
    {
      "cell_type": "code",
      "metadata": {
        "id": "R8TLNLTkjSxG"
      },
      "source": [
        "def Autoencoder(x,w):\n",
        "    return Decoder(Encoder(x,w),w)\n",
        "#This function `Autoencoder(x, w)` implements an autoencoder model by first\n",
        "#encoding the input tensor `x` using the `Encoder` function with weights `w`,\n",
        "#and then decoding the encoded representation using the `Decoder` function with the same weights `w`."
      ],
      "execution_count": null,
      "outputs": []
    },
    {
      "cell_type": "code",
      "metadata": {
        "id": "-iw6YTpBU8sr"
      },
      "source": [
        "num_steps = 1000\n",
        "batch_size = 512\n",
        "learning_rate = 1e-3\n",
        "#This code sets the number of optimization steps to 1000, the batch size to 512, and the learning rate to 0.001."
      ],
      "execution_count": null,
      "outputs": []
    },
    {
      "cell_type": "code",
      "source": [
        "from scipy import stats\n",
        "import numpy as np\n",
        "import matplotlib.pyplot as plt\n",
        "import urllib.request\n",
        "from PIL import Image\n",
        "from imageio import *\n",
        "import torch\n",
        "from skimage.transform import resize\n",
        "from mpl_toolkits.axes_grid1.axes_rgb import make_rgb_axes, RGBAxes\n",
        "from torchvision.models import *\n",
        "from torchvision.datasets import MNIST,KMNIST,FashionMNIST\n",
        "from skimage.util import montage\n",
        "#This code imports various libraries and modules including NumPy, Matplotlib,\n",
        "#PyTorch, and torchvision, as well as specific functions and classes for image processing, visualization, and machine learning tasks."
      ],
      "metadata": {
        "id": "wmj18jh0bJW8"
      },
      "execution_count": null,
      "outputs": []
    },
    {
      "cell_type": "code",
      "source": [
        "def randn_trunc(s): #Truncated Normal Random Numbers\n",
        "    mu = 0\n",
        "    sigma = 0.1\n",
        "    R = stats.truncnorm((-2*sigma - mu) / sigma, (2*sigma - mu) / sigma, loc=mu, scale=sigma)\n",
        "    return R.rvs(s)\n",
        "#This function `randn_trunc(s)` generates samples from a truncated normal distribution with mean 0 and standard deviation 0.1.\n",
        "#It uses the `truncnorm` function from the scipy.stats module to create a truncated normal distribution object `R` with the specified bounds and parameters, and then generates `s` random samples from this distribution."
      ],
      "metadata": {
        "id": "3t3l54lzbGSE"
      },
      "execution_count": null,
      "outputs": []
    },
    {
      "cell_type": "code",
      "metadata": {
        "scrolled": true,
        "id": "Au5YND2GU8sr"
      },
      "source": [
        "#Encode\n",
        "w0 = GPU(randn_trunc((64,1,4,4)))\n",
        "w1 = GPU(randn_trunc((128,64,4,4)))\n",
        "w2 = GPU(randn_trunc((10,6272)))\n",
        "#Decode\n",
        "w3 = GPU(randn_trunc((6272,10)))\n",
        "w4 = GPU(randn_trunc((128,64,4,4)))\n",
        "w5 = GPU(randn_trunc((64,1,4,4)))\n",
        "\n",
        "w = [w0,w1,w2,w3,w4,w5]\n",
        "#w0, w1, w2, w3, w4, and w5 are initialized as weights for the autoencoder model.\n",
        "#randn_trunc generates samples from a truncated normal distribution for weight initialization.\n",
        "#These weights are then placed on the GPU using GPU() function, likely to utilize GPU acceleration during training.\n",
        "\n",
        "optimizer = torch.optim.Adam(params=w, lr=learning_rate)\n",
        "#optimizer is initialized using the Adam optimizer with the parameters w (containing all the weights) and the specified learning rate learning_rate.\n",
        "\n",
        "for i in range(num_steps): #Iterates through a specified number of optimization steps\n",
        "\n",
        "    x_real,y = get_batch('train')\n",
        "#Obtains a batch of real data x_real and their corresponding labels y\n",
        "    x_fake = Autoencoder(x_real,w)\n",
        "#Generates fake data x_fake by passing x_real through the autoencoder model\n",
        "    loss = torch.mean((x_fake - x_real)**2)\n",
        "#Computes the mean squared error loss between the fake and real data.\n",
        "    optimizer.zero_grad()\n",
        "    loss.backward()\n",
        "    optimizer.step()\n",
        "#Performs backpropagation by calling loss.backward() and optimization step by calling optimizer.step() to update the weights.\n",
        "\n",
        "    if i % 100 == 0: print(loss.item())\n",
        "#Optionally prints the loss every 100 iterations"
      ],
      "execution_count": null,
      "outputs": []
    },
    {
      "cell_type": "code",
      "source": [
        "image_batch,y = get_batch('test') #This line retrieves a batch of test images (`image_batch`) and their corresponding labels (`y`) from the test dataset."
      ],
      "metadata": {
        "id": "9KtDnM_cXeJf"
      },
      "execution_count": null,
      "outputs": []
    },
    {
      "cell_type": "code",
      "source": [
        "image_batch_recon = Autoencoder(image_batch,w) #This line generates reconstructed images (`image_batch_recon`) using the autoencoder model (`Autoencoder`) applied to the input batch of images (`image_batch`) with the specified weights (`w`)."
      ],
      "metadata": {
        "id": "cUHiRtNJXeMM"
      },
      "execution_count": null,
      "outputs": []
    },
    {
      "cell_type": "code",
      "source": [
        "torch.mean((image_batch_recon - image_batch)**2) #This computes the mean squared error between the reconstructed images (`image_batch_recon`) and the original input images (`image_batch`)."
      ],
      "metadata": {
        "id": "kAvWP-HRXeYy"
      },
      "execution_count": null,
      "outputs": []
    },
    {
      "cell_type": "code",
      "source": [
        "montage_plot(image_batch[0:25,0,:,:].cpu().detach().numpy()) #This line generates and displays a montage plot of the first 25 images from a batch of images (`image_batch`) after selecting the first channel and converting them to NumPy arrays."
      ],
      "metadata": {
        "id": "j9GNtjyxTrLg"
      },
      "execution_count": null,
      "outputs": []
    },
    {
      "cell_type": "code",
      "source": [
        "montage_plot(image_batch_recon[0:25,0,:,:].cpu().detach().numpy()) #This line generates and displays a montage plot of the first 25 reconstructed images from a batch of images (`image_batch_recon`) after selecting the first channel and converting them to NumPy arrays."
      ],
      "metadata": {
        "id": "Mc87oPuJYFqx"
      },
      "execution_count": null,
      "outputs": []
    },
    {
      "cell_type": "markdown",
      "source": [
        "\n",
        "### Generator\n",
        "\n"
      ],
      "metadata": {
        "id": "x4_p3zNkNz85"
      }
    },
    {
      "cell_type": "code",
      "source": [],
      "metadata": {
        "id": "OndxZEOPbAv_"
      },
      "execution_count": null,
      "outputs": []
    },
    {
      "cell_type": "code",
      "metadata": {
        "id": "3KqMhS0SbBZW"
      },
      "source": [
        "latent_size = 64\n",
        "hidden_size = 256\n",
        "image_size = 784\n",
        "b = 1024\n",
        "#initializes values\n",
        "#This code defines constants for the latent size, hidden size, and image size, as well as the batch size."
      ],
      "execution_count": null,
      "outputs": []
    },
    {
      "cell_type": "code",
      "metadata": {
        "id": "bqUjdQl3bBZX"
      },
      "source": [
        "#MNIST\n",
        "# train_set = MNIST('./data', train=True, download=True)\n",
        "# test_set = MNIST('./data', train=False, download=True)\n",
        "\n",
        "#KMNIST\n",
        "#train_set = KMNIST('./data', train=True, download=True)\n",
        "#test_set = KMNIST('./data', train=False, download=True)\n",
        "\n",
        "#Fashion MNIST\n",
        "train_set = FashionMNIST('./data', train=True, download=True)\n",
        "test_set = FashionMNIST('./data', train=False, download=True)\n",
        "#it loads the Fashion MNIST dataset for both training and testing from the specified directory,\n",
        "# downloading the dataset if it's not already available locally."
      ],
      "execution_count": null,
      "outputs": []
    },
    {
      "cell_type": "code",
      "metadata": {
        "id": "zAjtvOD9bBZX"
      },
      "source": [
        "X = train_set.data.numpy()\n",
        "X_test = test_set.data.numpy()\n",
        "Y = train_set.targets.numpy()\n",
        "Y_test = test_set.targets.numpy()\n",
        "X = X[:,None,:,:]/255\n",
        "X_test = X_test[:,None,:,:]/255\n",
        "X = (X - 0.5)/0.5\n",
        "X_test = (X_test - 0.5)/0.5\n",
        "#This code preprocesses the Fashion MNIST dataset by converting the data and\n",
        "#labels to NumPy arrays, reshaping the data to have a single channel, scaling\n",
        "#pixel values to a range between -1 and 1, and finally standardizing the pixel\n",
        "#values to have a mean of 0 and a standard deviation of 1."
      ],
      "execution_count": null,
      "outputs": []
    },
    {
      "cell_type": "code",
      "metadata": {
        "id": "MFT0i09GbBZX"
      },
      "source": [
        "n = 7\n",
        "\n",
        "index = np.where(Y == n)\n",
        "X = X[index]\n",
        "index = np.where(Y_test == n)\n",
        "X_test = X_test[index]\n",
        "#This code filters the training and test data (`X` and `X_test`, respectively)\n",
        "#to include only the samples corresponding to the class labeled `n` in the target labels (`Y` and `Y_test`, respectively)."
      ],
      "execution_count": null,
      "outputs": []
    },
    {
      "cell_type": "code",
      "metadata": {
        "colab": {
          "base_uri": "https://localhost:8080/"
        },
        "outputId": "a87475dc-97a3-4fbf-9798-cdf9cbe58b41",
        "id": "86_6wZZTbBZX"
      },
      "source": [
        "X.shape,Y.shape,X_test.shape,Y_test.shape #This code retrieves and displays the shapes of the training data (`X`), training labels (`Y`), test data (`X_test`), and test labels (`Y_test`)."
      ],
      "execution_count": null,
      "outputs": [
        {
          "output_type": "execute_result",
          "data": {
            "text/plain": [
              "((6000, 1, 28, 28), (60000,), (1000, 1, 28, 28), (10000,))"
            ]
          },
          "metadata": {},
          "execution_count": 255
        }
      ]
    },
    {
      "cell_type": "code",
      "metadata": {
        "id": "neg7qmgcbBZX"
      },
      "source": [
        "###################################################"
      ],
      "execution_count": null,
      "outputs": []
    },
    {
      "cell_type": "code",
      "metadata": {
        "id": "WfVSOFbebBZX"
      },
      "source": [
        "X = GPU_data(X)\n",
        "X_test = GPU_data(X_test)\n",
        "Y = GPU_data(Y)\n",
        "Y_test = GPU_data(Y_test)\n",
        "#This code moves the training and test data (`X` and `X_test`), as well as their\n",
        "#corresponding labels (`Y` and `Y_test`), to the GPU for processing, likely using a function called `GPU_data()`."
      ],
      "execution_count": null,
      "outputs": []
    },
    {
      "cell_type": "code",
      "metadata": {
        "id": "dJfJfXm-bBZX"
      },
      "source": [
        "x,y = get_batch('train') #This line obtains a batch of training data (`x`) and their corresponding labels (`y`) from the training dataset using the function `get_batch('train')`."
      ],
      "execution_count": null,
      "outputs": []
    },
    {
      "cell_type": "code",
      "source": [],
      "metadata": {
        "id": "XTKyOsnC_GYN"
      },
      "execution_count": null,
      "outputs": []
    },
    {
      "cell_type": "code",
      "source": [
        "x.shape #This line retrieves the shape of the tensor `x`, indicating its dimensions."
      ],
      "metadata": {
        "colab": {
          "base_uri": "https://localhost:8080/"
        },
        "id": "Q197FoFQ-yM9",
        "outputId": "a31eb72d-2bbf-4978-a440-2c6048afc7cb"
      },
      "execution_count": null,
      "outputs": [
        {
          "output_type": "execute_result",
          "data": {
            "text/plain": [
              "torch.Size([1024, 1, 28, 28])"
            ]
          },
          "metadata": {},
          "execution_count": 259
        }
      ]
    },
    {
      "cell_type": "code",
      "metadata": {
        "id": "V51COsfUbBZX"
      },
      "source": [
        "montage_plot(x[0:25,0,:,:].detach().cpu().numpy())\n",
        "#This line generates and displays a montage plot of the first 25 images from a\n",
        "#batch of images `x`, after selecting the first channel and converting them to NumPy arrays."
      ],
      "execution_count": null,
      "outputs": []
    },
    {
      "cell_type": "code",
      "metadata": {
        "id": "z7LYsL5_bBZX"
      },
      "source": [
        "#D\n",
        "w0 = GPU(randn_trunc((64,1,4,4)))\n",
        "w1 = GPU(randn_trunc((128,64,4,4)))\n",
        "w2 = GPU(randn_trunc((1,6272)))\n",
        "#G\n",
        "w3 = GPU(randn_trunc((6272,64)))\n",
        "w4 = GPU(randn_trunc((128,64,4,4)))\n",
        "w5 = GPU(randn_trunc((64,1,4,4)))\n",
        "\n",
        "w = [w0,w1,w2,w3,w4,w5]\n",
        "#This code initializes weights for a generator (G) and a discriminator (D) in a generative adversarial network (GAN) setup.\n",
        "#The weights for the discriminator are initialized to be used in the first few layers of the neural network architecture,\n",
        "#while the weights for the generator are initialized for the latter layers."
      ],
      "execution_count": null,
      "outputs": []
    },
    {
      "cell_type": "code",
      "metadata": {
        "id": "UbDVggMGbBZX"
      },
      "source": [
        "def D(x,w):\n",
        "    x = relu(conv2d(x,w[0], stride=(2, 2), padding=(1, 1)))\n",
        "    x = relu(conv2d(x,w[1], stride=(2, 2), padding=(1, 1)))\n",
        "    x = x.view(x.size(0), 6272)\n",
        "    x = linear(x,w[2])\n",
        "    x = torch.sigmoid(x)\n",
        "    return x\n",
        "#This function `D(x, w)` defines the forward pass of a discriminator neural network.\n",
        "#It applies two convolutional layers with ReLU activation functions, flattens the\n",
        "#output into a 1D tensor, applies a linear transformation, and finally, passes\n",
        "#it through a sigmoid activation function to obtain the probability of the input being real."
      ],
      "execution_count": null,
      "outputs": []
    },
    {
      "cell_type": "code",
      "metadata": {
        "id": "kcOOwwfqbBZX"
      },
      "source": [
        "def G(x,w):\n",
        "    x = linear(x,w[3])\n",
        "    x = x.view(x.size(0), 128, 7, 7)\n",
        "    x = relu(conv_transpose2d(x,w[4], stride=(2, 2), padding=(1, 1)))\n",
        "    x = torch.tanh(conv_transpose2d(x,w[5], stride=(2, 2), padding=(1, 1)))\n",
        "    return x\n",
        "#This function `G(x, w)` defines the forward pass of a generator neural network.\n",
        "#It applies a linear transformation followed by reshaping the output into a 4D\n",
        "#tensor, then applies transposed convolutional layers with ReLU activation\n",
        "#function and hyperbolic tangent (tanh) activation function, respectively, to generate synthetic data."
      ],
      "execution_count": null,
      "outputs": []
    },
    {
      "cell_type": "code",
      "source": [
        "b = 1024 #initializes costannt"
      ],
      "metadata": {
        "id": "nLHWIGrF-75j"
      },
      "execution_count": null,
      "outputs": []
    },
    {
      "cell_type": "code",
      "source": [
        "batch_size = b #sets the variable batch_size to the value of b and then assigns the tuple (b, batch_size) to b, effectively overwriting its original value."
      ],
      "metadata": {
        "id": "351S9-Hi-3dd"
      },
      "execution_count": null,
      "outputs": []
    },
    {
      "cell_type": "code",
      "source": [
        "batch_size #displays"
      ],
      "metadata": {
        "colab": {
          "base_uri": "https://localhost:8080/"
        },
        "id": "iJoxfGJG-5CN",
        "outputId": "eba532cb-1115-4615-ffcb-9fc9aa1b2ffb"
      },
      "execution_count": null,
      "outputs": [
        {
          "output_type": "execute_result",
          "data": {
            "text/plain": [
              "1024"
            ]
          },
          "metadata": {},
          "execution_count": 266
        }
      ]
    },
    {
      "cell_type": "code",
      "metadata": {
        "id": "Md0XK_V0bBZX"
      },
      "source": [
        "d_optimizer = torch.optim.Adam(w[0:3], lr=0.0002)\n",
        "g_optimizer = torch.optim.Adam(w[3:], lr=0.0002)\n",
        "\n",
        "real_labels = (torch.ones(batch_size, 1).cuda())\n",
        "fake_labels = (torch.zeros(batch_size, 1).cuda())\n",
        "#This code initializes Adam optimizers for the discriminator (`d_optimizer`) and the generator (`g_optimizer`) using separate sets of weights.\n",
        "#Additionally, it creates tensors for real labels (`real_labels`) and fake\n",
        "#labels (`fake_labels`) with the appropriate size and values (1 for real labels and 0 for fake labels), both moved to the GPU for computation."
      ],
      "execution_count": null,
      "outputs": []
    },
    {
      "cell_type": "code",
      "metadata": {
        "id": "1qIZIv7-bBZX"
      },
      "source": [
        "num_epochs = 500\n",
        "batches = X.shape[0]//batch_size\n",
        "steps = num_epochs*batches\n",
        "#This code sets the number of epochs to 500, computes the number of batches\n",
        "#per epoch based on the size of the dataset (`X`) and the batch size, and calculates the total number of optimization steps (`steps`) by multiplying the number of epochs by the number of batches."
      ],
      "execution_count": null,
      "outputs": []
    },
    {
      "cell_type": "code",
      "metadata": {
        "id": "x1da20dlbBZX"
      },
      "source": [
        "z1 = (torch.randn(steps,batch_size,latent_size).cuda())\n",
        "z2 = (torch.randn(steps,batch_size,latent_size).cuda())\n",
        "#These lines generate two sets of random tensors `z1` and `z2`, each of shape\n",
        "#`(steps, batch_size, latent_size)`, filled with samples drawn from a standard normal distribution.\n",
        "# These tensors are then moved to the GPU for computation."
      ],
      "execution_count": null,
      "outputs": []
    },
    {
      "cell_type": "code",
      "metadata": {
        "id": "Xfr-JmZqbBZX"
      },
      "source": [
        "for i in range(steps): #Iterates through each optimization step.\n",
        "\n",
        "    images,y = get_batch('train')\n",
        "# Obtains a batch of real images (images) and their corresponding labels (y) from the training dataset.\n",
        "    d_loss = binary_cross_entropy(D(images,w), real_labels) + binary_cross_entropy(D(G(z1[i],w),w), fake_labels)\n",
        "#Computes the discriminator loss (d_loss) as the sum of binary cross-entropy losses. The first term measures the difference between the discriminator's predictions on real images and the real labels, and the second term measures the difference between the discriminator's predictions on fake images generated by the generator and the fake labels.\n",
        "    d_optimizer.zero_grad()\n",
        "#Clears the gradients of all optimized tensors associated with the discriminator optimizer.\n",
        "    d_loss.backward()\n",
        "#Backpropagates the gradients of the discriminator loss.\n",
        "    d_optimizer.step()\n",
        "#Updates the discriminator's weights (w[0:3]) using the discriminator optimizer.\n",
        "\n",
        "    g_loss = binary_cross_entropy(D(G(z2[i],w),w), real_labels)\n",
        "#Computes the generator loss (g_loss) as the binary cross-entropy loss between the discriminator's predictions on fake images generated by the generator and the real labels.\n",
        "    g_optimizer.zero_grad()\n",
        "#Clears the gradients of all optimized tensors associated with the generator optimizer.\n",
        "    g_loss.backward()\n",
        "#Backpropagates the gradients of the generator loss.\n",
        "    g_optimizer.step()\n",
        "#Updates the generator's weights (w[3:]) using the generator optimizer.\n",
        "\n",
        "    if i % 200 == 0: #Checks if the current iteration is a multiple of 200.\n",
        "        out = G(z1[np.random.randint(steps)],w)\n",
        "#Generates a batch of fake images from a randomly selected latent vector using the generator.\n",
        "        montage_plot(out.view(batch_size,1,28,28).detach().cpu().numpy()[0:25,0,:,:])\n",
        "#Reshapes the generated images and plots a montage of the first 25 images."
      ],
      "execution_count": null,
      "outputs": []
    },
    {
      "cell_type": "code",
      "source": [
        "z1[np.random.randint(steps)].shape\n",
        "#This line retrieves a random latent vector (`z1`) from a set of latent vectors generated for each optimization step, then selects one randomly using `np.random.randint(steps)` and returns its shape."
      ],
      "metadata": {
        "id": "A_pN8FvYATEy"
      },
      "execution_count": null,
      "outputs": []
    },
    {
      "cell_type": "code",
      "source": [
        "noise = GPU_data(torch.randn(1,64))\n",
        "#This line generates a random noise vector of shape `(1, 64)` filled with samples drawn from a standard normal distribution and moves it to the GPU for computation."
      ],
      "metadata": {
        "id": "tQAacm6dAVFU"
      },
      "execution_count": null,
      "outputs": []
    },
    {
      "cell_type": "code",
      "metadata": {
        "id": "NBPhGo-mbBZY"
      },
      "source": [
        "output = G(noise,w)\n",
        "#This line generates an output tensor by passing a noise vector (`noise`) through the generator neural network (`G`) with the specified weights (`w`)."
      ],
      "execution_count": null,
      "outputs": []
    },
    {
      "cell_type": "code",
      "source": [
        "output.shape\n",
        "#This line retrieves the shape of the output tensor `output`, indicating its dimensions."
      ],
      "metadata": {
        "id": "J-Ci-ogDAcn0"
      },
      "execution_count": null,
      "outputs": []
    },
    {
      "cell_type": "code",
      "source": [
        "plot(output[0,0])\n",
        "#This line plots the first channel of the output tensor `output`, likely representing an image, using a plotting function named `plot()`."
      ],
      "metadata": {
        "id": "XekLNuxzAieQ"
      },
      "execution_count": null,
      "outputs": []
    }
  ]
}