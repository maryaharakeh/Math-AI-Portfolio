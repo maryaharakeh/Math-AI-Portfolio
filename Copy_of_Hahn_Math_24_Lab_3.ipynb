{
  "nbformat": 4,
  "nbformat_minor": 0,
  "metadata": {
    "colab": {
      "provenance": []
    },
    "kernelspec": {
      "name": "python3",
      "display_name": "Python 3"
    },
    "language_info": {
      "name": "python"
    }
  },
  "cells": [
    {
      "cell_type": "code",
      "execution_count": 7,
      "metadata": {
        "id": "mBTZa3LbmlCv"
      },
      "outputs": [],
      "source": [
        "import numpy as np\n",
        "import matplotlib.pyplot as plt"
      ]
    },
    {
      "cell_type": "markdown",
      "source": [
        "# Normal Random Number Generator"
      ],
      "metadata": {
        "id": "CwVhNQGvExWz"
      }
    },
    {
      "cell_type": "code",
      "metadata": {
        "id": "FQQe5WEEbw_0"
      },
      "source": [
        "#CDF PDF"
      ],
      "execution_count": 8,
      "outputs": []
    },
    {
      "cell_type": "code",
      "source": [
        "x = np.linspace(-10,10,1000)\n",
        "#It generates an array of 1000 equally spaced points between -10 and 10\n",
        "y = 2.71**(-x**2)\n",
        "#It calculates the corresponding y-values\n",
        "plt.plot(x,y)\n",
        "#plots the x and y values"
      ],
      "metadata": {
        "colab": {
          "base_uri": "https://localhost:8080/",
          "height": 448
        },
        "id": "oCyzB_zEqcSE",
        "outputId": "0629bef8-f33b-4de5-f273-de0b6c48d7f9"
      },
      "execution_count": 9,
      "outputs": [
        {
          "output_type": "execute_result",
          "data": {
            "text/plain": [
              "[<matplotlib.lines.Line2D at 0x7fef081a6dd0>]"
            ]
          },
          "metadata": {},
          "execution_count": 9
        },
        {
          "output_type": "display_data",
          "data": {
            "text/plain": [
              "<Figure size 640x480 with 1 Axes>"
            ],
            "image/png": "[encoded data removed]"
          },
          "metadata": {}
        }
      ]
    },
    {
      "cell_type": "markdown",
      "source": [
        "$e^{-x^2}$"
      ],
      "metadata": {
        "id": "UjleGPmUqdX0"
      }
    },
    {
      "cell_type": "markdown",
      "metadata": {
        "id": "yJ59vSNn1LEU"
      },
      "source": [
        "![alt text](https://wikimedia.org/api/rest_v1/media/math/render/svg/4abaca87a10ecfa77b5a205056523706fe6c9c3f)"
      ]
    },
    {
      "cell_type": "code",
      "metadata": {
        "id": "iyMyj1cd1LEV"
      },
      "source": [
        "def normal_pdf(x,mu,sigma):\n",
        "\n",
        "  return (1/(np.sqrt(2*np.pi*sigma**2)))*np.exp((-(x-mu)**2)/(2*sigma**2))\n",
        "#The given function calculates the probability density function (PDF) of a normal distribution (Gaussian distribution) at a given value (x), with mean (mu) and standard deviation (sigma)"
      ],
      "execution_count": 10,
      "outputs": []
    },
    {
      "cell_type": "code",
      "metadata": {
        "id": "CzBfKnfL1LEX"
      },
      "source": [
        "x = np.linspace(-6,6,1000)\n",
        "#generates an array of 1000 equally spaced values between -6 and 6"
      ],
      "execution_count": 11,
      "outputs": []
    },
    {
      "cell_type": "code",
      "source": [
        "x\n",
        "#displays the array"
      ],
      "metadata": {
        "colab": {
          "base_uri": "https://localhost:8080/"
        },
        "id": "4tfm5wC_lndU",
        "outputId": "16e7a48f-5710-414f-90dd-911aed656190"
      },
      "execution_count": 12,
      "outputs": [
        {
          "output_type": "execute_result",
          "data": {
            "text/plain": [
              "array([-6.        , -5.98798799, -5.97597598, -5.96396396, -5.95195195,\n",
              "       -5.93993994, -5.92792793, -5.91591592, -5.9039039 , -5.89189189,\n",
              "       -5.87987988, -5.86786787, -5.85585586, -5.84384384, -5.83183183,\n",
              "       -5.81981982, -5.80780781, -5.7957958 , -5.78378378, -5.77177177,\n",
              "       -5.75975976, -5.74774775, -5.73573574, -5.72372372, -5.71171171,\n",
              "       -5.6996997 , -5.68768769, -5.67567568, -5.66366366, -5.65165165,\n",
              "       -5.63963964, -5.62762763, -5.61561562, -5.6036036 , -5.59159159,\n",
              "       -5.57957958, -5.56756757, -5.55555556, -5.54354354, -5.53153153,\n",
              "       -5.51951952, -5.50750751, -5.4954955 , -5.48348348, -5.47147147,\n",
              "       -5.45945946, -5.44744745, -5.43543544, -5.42342342, -5.41141141,\n",
              "       -5.3993994 , -5.38738739, -5.37537538, -5.36336336, -5.35135135,\n",
              "       -5.33933934, -5.32732733, -5.31531532, -5.3033033 , -5.29129129,\n",
              "       -5.27927928, -5.26726727, -5.25525526, -5.24324324, -5.23123123,\n",
              "       -5.21921922, -5.20720721, -5.1951952 , -5.18318318, -5.17117117,\n",
              "       -5.15915916, -5.14714715, -5.13513514, -5.12312312, -5.11111111,\n",
              "       -5.0990991 , -5.08708709, -5.07507508, -5.06306306, -5.05105105,\n",
              "       -5.03903904, -5.02702703, -5.01501502, -5.003003  , -4.99099099,\n",
              "       -4.97897898, -4.96696697, -4.95495495, -4.94294294, -4.93093093,\n",
              "       -4.91891892, -4.90690691, -4.89489489, -4.88288288, -4.87087087,\n",
              "       -4.85885886, -4.84684685, -4.83483483, -4.82282282, -4.81081081,\n",
              "       -4.7987988 , -4.78678679, -4.77477477, -4.76276276, -4.75075075,\n",
              "       -4.73873874, -4.72672673, -4.71471471, -4.7027027 , -4.69069069,\n",
              "       -4.67867868, -4.66666667, -4.65465465, -4.64264264, -4.63063063,\n",
              "       -4.61861862, -4.60660661, -4.59459459, -4.58258258, -4.57057057,\n",
              "       -4.55855856, -4.54654655, -4.53453453, -4.52252252, -4.51051051,\n",
              "       -4.4984985 , -4.48648649, -4.47447447, -4.46246246, -4.45045045,\n",
              "       -4.43843844, -4.42642643, -4.41441441, -4.4024024 , -4.39039039,\n",
              "       -4.37837838, -4.36636637, -4.35435435, -4.34234234, -4.33033033,\n",
              "       -4.31831832, -4.30630631, -4.29429429, -4.28228228, -4.27027027,\n",
              "       -4.25825826, -4.24624625, -4.23423423, -4.22222222, -4.21021021,\n",
              "       -4.1981982 , -4.18618619, -4.17417417, -4.16216216, -4.15015015,\n",
              "       -4.13813814, -4.12612613, -4.11411411, -4.1021021 , -4.09009009,\n",
              "       -4.07807808, -4.06606607, -4.05405405, -4.04204204, -4.03003003,\n",
              "       -4.01801802, -4.00600601, -3.99399399, -3.98198198, -3.96996997,\n",
              "       -3.95795796, -3.94594595, -3.93393393, -3.92192192, -3.90990991,\n",
              "       -3.8978979 , -3.88588589, -3.87387387, -3.86186186, -3.84984985,\n",
              "       -3.83783784, -3.82582583, -3.81381381, -3.8018018 , -3.78978979,\n",
              "       -3.77777778, -3.76576577, -3.75375375, -3.74174174, -3.72972973,\n",
              "       -3.71771772, -3.70570571, -3.69369369, -3.68168168, -3.66966967,\n",
              "       -3.65765766, -3.64564565, -3.63363363, -3.62162162, -3.60960961,\n",
              "       -3.5975976 , -3.58558559, -3.57357357, -3.56156156, -3.54954955,\n",
              "       -3.53753754, -3.52552553, -3.51351351, -3.5015015 , -3.48948949,\n",
              "       -3.47747748, -3.46546547, -3.45345345, -3.44144144, -3.42942943,\n",
              "       -3.41741742, -3.40540541, -3.39339339, -3.38138138, -3.36936937,\n",
              "       -3.35735736, -3.34534535, -3.33333333, -3.32132132, -3.30930931,\n",
              "       -3.2972973 , -3.28528529, -3.27327327, -3.26126126, -3.24924925,\n",
              "       -3.23723724, -3.22522523, -3.21321321, -3.2012012 , -3.18918919,\n",
              "       -3.17717718, -3.16516517, -3.15315315, -3.14114114, -3.12912913,\n",
              "       -3.11711712, -3.10510511, -3.09309309, -3.08108108, -3.06906907,\n",
              "       -3.05705706, -3.04504505, -3.03303303, -3.02102102, -3.00900901,\n",
              "       -2.996997  , -2.98498498, -2.97297297, -2.96096096, -2.94894895,\n",
              "       -2.93693694, -2.92492492, -2.91291291, -2.9009009 , -2.88888889,\n",
              "       -2.87687688, -2.86486486, -2.85285285, -2.84084084, -2.82882883,\n",
              "       -2.81681682, -2.8048048 , -2.79279279, -2.78078078, -2.76876877,\n",
              "       -2.75675676, -2.74474474, -2.73273273, -2.72072072, -2.70870871,\n",
              "       -2.6966967 , -2.68468468, -2.67267267, -2.66066066, -2.64864865,\n",
              "       -2.63663664, -2.62462462, -2.61261261, -2.6006006 , -2.58858859,\n",
              "       -2.57657658, -2.56456456, -2.55255255, -2.54054054, -2.52852853,\n",
              "       -2.51651652, -2.5045045 , -2.49249249, -2.48048048, -2.46846847,\n",
              "       -2.45645646, -2.44444444, -2.43243243, -2.42042042, -2.40840841,\n",
              "       -2.3963964 , -2.38438438, -2.37237237, -2.36036036, -2.34834835,\n",
              "       -2.33633634, -2.32432432, -2.31231231, -2.3003003 , -2.28828829,\n",
              "       -2.27627628, -2.26426426, -2.25225225, -2.24024024, -2.22822823,\n",
              "       -2.21621622, -2.2042042 , -2.19219219, -2.18018018, -2.16816817,\n",
              "       -2.15615616, -2.14414414, -2.13213213, -2.12012012, -2.10810811,\n",
              "       -2.0960961 , -2.08408408, -2.07207207, -2.06006006, -2.04804805,\n",
              "       -2.03603604, -2.02402402, -2.01201201, -2.        , -1.98798799,\n",
              "       -1.97597598, -1.96396396, -1.95195195, -1.93993994, -1.92792793,\n",
              "       -1.91591592, -1.9039039 , -1.89189189, -1.87987988, -1.86786787,\n",
              "       -1.85585586, -1.84384384, -1.83183183, -1.81981982, -1.80780781,\n",
              "       -1.7957958 , -1.78378378, -1.77177177, -1.75975976, -1.74774775,\n",
              "       -1.73573574, -1.72372372, -1.71171171, -1.6996997 , -1.68768769,\n",
              "       -1.67567568, -1.66366366, -1.65165165, -1.63963964, -1.62762763,\n",
              "       -1.61561562, -1.6036036 , -1.59159159, -1.57957958, -1.56756757,\n",
              "       -1.55555556, -1.54354354, -1.53153153, -1.51951952, -1.50750751,\n",
              "       -1.4954955 , -1.48348348, -1.47147147, -1.45945946, -1.44744745,\n",
              "       -1.43543544, -1.42342342, -1.41141141, -1.3993994 , -1.38738739,\n",
              "       -1.37537538, -1.36336336, -1.35135135, -1.33933934, -1.32732733,\n",
              "       -1.31531532, -1.3033033 , -1.29129129, -1.27927928, -1.26726727,\n",
              "       -1.25525526, -1.24324324, -1.23123123, -1.21921922, -1.20720721,\n",
              "       -1.1951952 , -1.18318318, -1.17117117, -1.15915916, -1.14714715,\n",
              "       -1.13513514, -1.12312312, -1.11111111, -1.0990991 , -1.08708709,\n",
              "       -1.07507508, -1.06306306, -1.05105105, -1.03903904, -1.02702703,\n",
              "       -1.01501502, -1.003003  , -0.99099099, -0.97897898, -0.96696697,\n",
              "       -0.95495495, -0.94294294, -0.93093093, -0.91891892, -0.90690691,\n",
              "       -0.89489489, -0.88288288, -0.87087087, -0.85885886, -0.84684685,\n",
              "       -0.83483483, -0.82282282, -0.81081081, -0.7987988 , -0.78678679,\n",
              "       -0.77477477, -0.76276276, -0.75075075, -0.73873874, -0.72672673,\n",
              "       -0.71471471, -0.7027027 , -0.69069069, -0.67867868, -0.66666667,\n",
              "       -0.65465465, -0.64264264, -0.63063063, -0.61861862, -0.60660661,\n",
              "       -0.59459459, -0.58258258, -0.57057057, -0.55855856, -0.54654655,\n",
              "       -0.53453453, -0.52252252, -0.51051051, -0.4984985 , -0.48648649,\n",
              "       -0.47447447, -0.46246246, -0.45045045, -0.43843844, -0.42642643,\n",
              "       -0.41441441, -0.4024024 , -0.39039039, -0.37837838, -0.36636637,\n",
              "       -0.35435435, -0.34234234, -0.33033033, -0.31831832, -0.30630631,\n",
              "       -0.29429429, -0.28228228, -0.27027027, -0.25825826, -0.24624625,\n",
              "       -0.23423423, -0.22222222, -0.21021021, -0.1981982 , -0.18618619,\n",
              "       -0.17417417, -0.16216216, -0.15015015, -0.13813814, -0.12612613,\n",
              "       -0.11411411, -0.1021021 , -0.09009009, -0.07807808, -0.06606607,\n",
              "       -0.05405405, -0.04204204, -0.03003003, -0.01801802, -0.00600601,\n",
              "        0.00600601,  0.01801802,  0.03003003,  0.04204204,  0.05405405,\n",
              "        0.06606607,  0.07807808,  0.09009009,  0.1021021 ,  0.11411411,\n",
              "        0.12612613,  0.13813814,  0.15015015,  0.16216216,  0.17417417,\n",
              "        0.18618619,  0.1981982 ,  0.21021021,  0.22222222,  0.23423423,\n",
              "        0.24624625,  0.25825826,  0.27027027,  0.28228228,  0.29429429,\n",
              "        0.30630631,  0.31831832,  0.33033033,  0.34234234,  0.35435435,\n",
              "        0.36636637,  0.37837838,  0.39039039,  0.4024024 ,  0.41441441,\n",
              "        0.42642643,  0.43843844,  0.45045045,  0.46246246,  0.47447447,\n",
              "        0.48648649,  0.4984985 ,  0.51051051,  0.52252252,  0.53453453,\n",
              "        0.54654655,  0.55855856,  0.57057057,  0.58258258,  0.59459459,\n",
              "        0.60660661,  0.61861862,  0.63063063,  0.64264264,  0.65465465,\n",
              "        0.66666667,  0.67867868,  0.69069069,  0.7027027 ,  0.71471471,\n",
              "        0.72672673,  0.73873874,  0.75075075,  0.76276276,  0.77477477,\n",
              "        0.78678679,  0.7987988 ,  0.81081081,  0.82282282,  0.83483483,\n",
              "        0.84684685,  0.85885886,  0.87087087,  0.88288288,  0.89489489,\n",
              "        0.90690691,  0.91891892,  0.93093093,  0.94294294,  0.95495495,\n",
              "        0.96696697,  0.97897898,  0.99099099,  1.003003  ,  1.01501502,\n",
              "        1.02702703,  1.03903904,  1.05105105,  1.06306306,  1.07507508,\n",
              "        1.08708709,  1.0990991 ,  1.11111111,  1.12312312,  1.13513514,\n",
              "        1.14714715,  1.15915916,  1.17117117,  1.18318318,  1.1951952 ,\n",
              "        1.20720721,  1.21921922,  1.23123123,  1.24324324,  1.25525526,\n",
              "        1.26726727,  1.27927928,  1.29129129,  1.3033033 ,  1.31531532,\n",
              "        1.32732733,  1.33933934,  1.35135135,  1.36336336,  1.37537538,\n",
              "        1.38738739,  1.3993994 ,  1.41141141,  1.42342342,  1.43543544,\n",
              "        1.44744745,  1.45945946,  1.47147147,  1.48348348,  1.4954955 ,\n",
              "        1.50750751,  1.51951952,  1.53153153,  1.54354354,  1.55555556,\n",
              "        1.56756757,  1.57957958,  1.59159159,  1.6036036 ,  1.61561562,\n",
              "        1.62762763,  1.63963964,  1.65165165,  1.66366366,  1.67567568,\n",
              "        1.68768769,  1.6996997 ,  1.71171171,  1.72372372,  1.73573574,\n",
              "        1.74774775,  1.75975976,  1.77177177,  1.78378378,  1.7957958 ,\n",
              "        1.80780781,  1.81981982,  1.83183183,  1.84384384,  1.85585586,\n",
              "        1.86786787,  1.87987988,  1.89189189,  1.9039039 ,  1.91591592,\n",
              "        1.92792793,  1.93993994,  1.95195195,  1.96396396,  1.97597598,\n",
              "        1.98798799,  2.        ,  2.01201201,  2.02402402,  2.03603604,\n",
              "        2.04804805,  2.06006006,  2.07207207,  2.08408408,  2.0960961 ,\n",
              "        2.10810811,  2.12012012,  2.13213213,  2.14414414,  2.15615616,\n",
              "        2.16816817,  2.18018018,  2.19219219,  2.2042042 ,  2.21621622,\n",
              "        2.22822823,  2.24024024,  2.25225225,  2.26426426,  2.27627628,\n",
              "        2.28828829,  2.3003003 ,  2.31231231,  2.32432432,  2.33633634,\n",
              "        2.34834835,  2.36036036,  2.37237237,  2.38438438,  2.3963964 ,\n",
              "        2.40840841,  2.42042042,  2.43243243,  2.44444444,  2.45645646,\n",
              "        2.46846847,  2.48048048,  2.49249249,  2.5045045 ,  2.51651652,\n",
              "        2.52852853,  2.54054054,  2.55255255,  2.56456456,  2.57657658,\n",
              "        2.58858859,  2.6006006 ,  2.61261261,  2.62462462,  2.63663664,\n",
              "        2.64864865,  2.66066066,  2.67267267,  2.68468468,  2.6966967 ,\n",
              "        2.70870871,  2.72072072,  2.73273273,  2.74474474,  2.75675676,\n",
              "        2.76876877,  2.78078078,  2.79279279,  2.8048048 ,  2.81681682,\n",
              "        2.82882883,  2.84084084,  2.85285285,  2.86486486,  2.87687688,\n",
              "        2.88888889,  2.9009009 ,  2.91291291,  2.92492492,  2.93693694,\n",
              "        2.94894895,  2.96096096,  2.97297297,  2.98498498,  2.996997  ,\n",
              "        3.00900901,  3.02102102,  3.03303303,  3.04504505,  3.05705706,\n",
              "        3.06906907,  3.08108108,  3.09309309,  3.10510511,  3.11711712,\n",
              "        3.12912913,  3.14114114,  3.15315315,  3.16516517,  3.17717718,\n",
              "        3.18918919,  3.2012012 ,  3.21321321,  3.22522523,  3.23723724,\n",
              "        3.24924925,  3.26126126,  3.27327327,  3.28528529,  3.2972973 ,\n",
              "        3.30930931,  3.32132132,  3.33333333,  3.34534535,  3.35735736,\n",
              "        3.36936937,  3.38138138,  3.39339339,  3.40540541,  3.41741742,\n",
              "        3.42942943,  3.44144144,  3.45345345,  3.46546547,  3.47747748,\n",
              "        3.48948949,  3.5015015 ,  3.51351351,  3.52552553,  3.53753754,\n",
              "        3.54954955,  3.56156156,  3.57357357,  3.58558559,  3.5975976 ,\n",
              "        3.60960961,  3.62162162,  3.63363363,  3.64564565,  3.65765766,\n",
              "        3.66966967,  3.68168168,  3.69369369,  3.70570571,  3.71771772,\n",
              "        3.72972973,  3.74174174,  3.75375375,  3.76576577,  3.77777778,\n",
              "        3.78978979,  3.8018018 ,  3.81381381,  3.82582583,  3.83783784,\n",
              "        3.84984985,  3.86186186,  3.87387387,  3.88588589,  3.8978979 ,\n",
              "        3.90990991,  3.92192192,  3.93393393,  3.94594595,  3.95795796,\n",
              "        3.96996997,  3.98198198,  3.99399399,  4.00600601,  4.01801802,\n",
              "        4.03003003,  4.04204204,  4.05405405,  4.06606607,  4.07807808,\n",
              "        4.09009009,  4.1021021 ,  4.11411411,  4.12612613,  4.13813814,\n",
              "        4.15015015,  4.16216216,  4.17417417,  4.18618619,  4.1981982 ,\n",
              "        4.21021021,  4.22222222,  4.23423423,  4.24624625,  4.25825826,\n",
              "        4.27027027,  4.28228228,  4.29429429,  4.30630631,  4.31831832,\n",
              "        4.33033033,  4.34234234,  4.35435435,  4.36636637,  4.37837838,\n",
              "        4.39039039,  4.4024024 ,  4.41441441,  4.42642643,  4.43843844,\n",
              "        4.45045045,  4.46246246,  4.47447447,  4.48648649,  4.4984985 ,\n",
              "        4.51051051,  4.52252252,  4.53453453,  4.54654655,  4.55855856,\n",
              "        4.57057057,  4.58258258,  4.59459459,  4.60660661,  4.61861862,\n",
              "        4.63063063,  4.64264264,  4.65465465,  4.66666667,  4.67867868,\n",
              "        4.69069069,  4.7027027 ,  4.71471471,  4.72672673,  4.73873874,\n",
              "        4.75075075,  4.76276276,  4.77477477,  4.78678679,  4.7987988 ,\n",
              "        4.81081081,  4.82282282,  4.83483483,  4.84684685,  4.85885886,\n",
              "        4.87087087,  4.88288288,  4.89489489,  4.90690691,  4.91891892,\n",
              "        4.93093093,  4.94294294,  4.95495495,  4.96696697,  4.97897898,\n",
              "        4.99099099,  5.003003  ,  5.01501502,  5.02702703,  5.03903904,\n",
              "        5.05105105,  5.06306306,  5.07507508,  5.08708709,  5.0990991 ,\n",
              "        5.11111111,  5.12312312,  5.13513514,  5.14714715,  5.15915916,\n",
              "        5.17117117,  5.18318318,  5.1951952 ,  5.20720721,  5.21921922,\n",
              "        5.23123123,  5.24324324,  5.25525526,  5.26726727,  5.27927928,\n",
              "        5.29129129,  5.3033033 ,  5.31531532,  5.32732733,  5.33933934,\n",
              "        5.35135135,  5.36336336,  5.37537538,  5.38738739,  5.3993994 ,\n",
              "        5.41141141,  5.42342342,  5.43543544,  5.44744745,  5.45945946,\n",
              "        5.47147147,  5.48348348,  5.4954955 ,  5.50750751,  5.51951952,\n",
              "        5.53153153,  5.54354354,  5.55555556,  5.56756757,  5.57957958,\n",
              "        5.59159159,  5.6036036 ,  5.61561562,  5.62762763,  5.63963964,\n",
              "        5.65165165,  5.66366366,  5.67567568,  5.68768769,  5.6996997 ,\n",
              "        5.71171171,  5.72372372,  5.73573574,  5.74774775,  5.75975976,\n",
              "        5.77177177,  5.78378378,  5.7957958 ,  5.80780781,  5.81981982,\n",
              "        5.83183183,  5.84384384,  5.85585586,  5.86786787,  5.87987988,\n",
              "        5.89189189,  5.9039039 ,  5.91591592,  5.92792793,  5.93993994,\n",
              "        5.95195195,  5.96396396,  5.97597598,  5.98798799,  6.        ])"
            ]
          },
          "metadata": {},
          "execution_count": 12
        }
      ]
    },
    {
      "cell_type": "code",
      "metadata": {
        "id": "s407zu5G1LEY"
      },
      "source": [
        "mu = 0"
      ],
      "execution_count": 13,
      "outputs": []
    },
    {
      "cell_type": "code",
      "metadata": {
        "id": "VJunvHrJ1LEb"
      },
      "source": [
        "sigma = 1"
      ],
      "execution_count": 14,
      "outputs": []
    },
    {
      "cell_type": "code",
      "metadata": {
        "id": "xGi4RlmT1LEe"
      },
      "source": [
        "pdf = normal_pdf(x,mu,sigma)\n",
        "#calculates the probability density function (PDF) of a normal distribution at a specific value (x), with a given mean (mu) and standard deviation (sigma)"
      ],
      "execution_count": 15,
      "outputs": []
    },
    {
      "cell_type": "code",
      "metadata": {
        "outputId": "f1d796a9-6c04-4952-e3f9-6ff65ed33af2",
        "id": "N674Q86J1LEh",
        "colab": {
          "base_uri": "https://localhost:8080/",
          "height": 448
        }
      },
      "source": [
        "plt.plot(x,pdf,'.') #creates a scatter plot of the calculated PDF values (stored in the variable pdf) against the corresponding x values.\n",
        "#The ‘.’ specifies that each data point should be represented as a dot.\n",
        "# plt.plot(x,y,'g.')\n"
      ],
      "execution_count": 16,
      "outputs": [
        {
          "output_type": "execute_result",
          "data": {
            "text/plain": [
              "[<matplotlib.lines.Line2D at 0x7fef080f5300>]"
            ]
          },
          "metadata": {},
          "execution_count": 16
        },
        {
          "output_type": "display_data",
          "data": {
            "text/plain": [
              "<Figure size 640x480 with 1 Axes>"
            ],
            "image/png": "[encoded data removed]"
          },
          "metadata": {}
        }
      ]
    },
    {
      "cell_type": "code",
      "source": [
        "n= 5 #assigns the value 5 to the variable n.\n",
        "x[0:n] #extracts and creates a new array containing the first 5 elements of x.\n",
        "np.sum(x[0:n]) # calculates the sum of the elements in the x_subset array"
      ],
      "metadata": {
        "colab": {
          "base_uri": "https://localhost:8080/"
        },
        "id": "7YAhYcnbl6JU",
        "outputId": "b3aacf1e-a187-47bf-e48c-ec767c5a2ab8"
      },
      "execution_count": 17,
      "outputs": [
        {
          "output_type": "execute_result",
          "data": {
            "text/plain": [
              "-29.879879879879876"
            ]
          },
          "metadata": {},
          "execution_count": 17
        }
      ]
    },
    {
      "cell_type": "code",
      "metadata": {
        "id": "yDZg1FK41wtf"
      },
      "source": [
        "def cumulative_sum(x):\n",
        "\n",
        "  y = np.zeros(x.shape)\n",
        "\n",
        "  for n in range(x.shape[0]):\n",
        "\n",
        "    y[n] = np.sum(x[0:n])\n",
        "\n",
        "#   y = y / np.max(y)\n",
        "\n",
        "  return y\n",
        "#calculates the cumulative sum of an input array (x).\n",
        "#It initializes an array (y) with zeros, then iterates through the elements\n",
        "#of (x), adding up the values from the beginning to the current index.\n",
        "#The resulting array (y) contains the cumulative sum of (x) at each position."
      ],
      "execution_count": 18,
      "outputs": []
    },
    {
      "cell_type": "code",
      "source": [
        "z = np.array([1,2,3,4,5])\n",
        "#creates a NumPy array named z containing the values 1, 2, 3, 4, and 5"
      ],
      "metadata": {
        "id": "LMUN0-a1m7Gn"
      },
      "execution_count": 19,
      "outputs": []
    },
    {
      "cell_type": "code",
      "source": [
        "z\n",
        "#displays z"
      ],
      "metadata": {
        "colab": {
          "base_uri": "https://localhost:8080/"
        },
        "id": "fXFYDMh9nCT3",
        "outputId": "1b914076-bda8-4ff8-fd5d-51f48dbcaaa6"
      },
      "execution_count": 20,
      "outputs": [
        {
          "output_type": "execute_result",
          "data": {
            "text/plain": [
              "array([1, 2, 3, 4, 5])"
            ]
          },
          "metadata": {},
          "execution_count": 20
        }
      ]
    },
    {
      "cell_type": "code",
      "source": [
        "cumulative_sum(z)\n",
        "#calculates the cumulative sum of an input array z."
      ],
      "metadata": {
        "colab": {
          "base_uri": "https://localhost:8080/"
        },
        "id": "PibrAMwhnDz3",
        "outputId": "aa8f99e2-0c78-4a4f-b3e2-dd7bfba29e27"
      },
      "execution_count": 21,
      "outputs": [
        {
          "output_type": "execute_result",
          "data": {
            "text/plain": [
              "array([ 0.,  1.,  3.,  6., 10.])"
            ]
          },
          "metadata": {},
          "execution_count": 21
        }
      ]
    },
    {
      "cell_type": "code",
      "metadata": {
        "id": "merifRSe3vT1"
      },
      "source": [
        "cdf = cumulative_sum(pdf)\n",
        "#uses the previously defined function cumulative_sum to compute the cumulative sum of the PDF values stored in the variable pdf"
      ],
      "execution_count": null,
      "outputs": []
    },
    {
      "cell_type": "code",
      "metadata": {
        "id": "TIR6Tm2NYSlH",
        "colab": {
          "base_uri": "https://localhost:8080/",
          "height": 430
        },
        "outputId": "ad9bcfd6-5f1a-4f82-8ccc-31cab2e359ce"
      },
      "source": [
        "plt.plot(x,cdf,'.');\n",
        "#creates a scatter plot of the cumulative distribution function (CDF) values against the corresponding x values."
      ],
      "execution_count": null,
      "outputs": [
        {
          "output_type": "display_data",
          "data": {
            "text/plain": [
              "<Figure size 640x480 with 1 Axes>"
            ],
            "image/png": "[encoded data removed]"
          },
          "metadata": {}
        }
      ]
    },
    {
      "cell_type": "code",
      "metadata": {
        "id": "dxKQae6QEbQF"
      },
      "source": [
        "# d_cdf = cdf[1:] - cdf[0:-1] #Demo to show that the derivative of the cdf gives you back the pdf\n",
        "# plt.plot(x[1:],d_cdf,'.');  #Not required for sampling"
      ],
      "execution_count": null,
      "outputs": []
    },
    {
      "cell_type": "code",
      "metadata": {
        "id": "sikTuIG3c_y7",
        "colab": {
          "base_uri": "https://localhost:8080/",
          "height": 430
        },
        "outputId": "0edbfe9f-6d34-4e4a-e7a7-a01b01dcc45d"
      },
      "source": [
        "plt.plot(cdf,x,'.');\n",
        "#plots the inverse graph."
      ],
      "execution_count": null,
      "outputs": [
        {
          "output_type": "display_data",
          "data": {
            "text/plain": [
              "<Figure size 640x480 with 1 Axes>"
            ],
            "image/png": "[encoded data removed]"
          },
          "metadata": {}
        }
      ]
    },
    {
      "cell_type": "code",
      "metadata": {
        "id": "HsmcFWw26gZk"
      },
      "source": [
        "def find_nearest(array, value):\n",
        "\n",
        "  idx = np.argmin(np.abs(array - value))\n",
        "\n",
        "  return idx\n",
        "# calculates the index of the element in the input array that is closest to the specified value.\n",
        "#It achieves this by finding the element with the smallest absolute difference from the target value."
      ],
      "execution_count": null,
      "outputs": []
    },
    {
      "cell_type": "code",
      "source": [
        "z = np.array([11.2,32,63,4.3,5.67])\n",
        "#creates a NumPy array named z containing the specified values"
      ],
      "metadata": {
        "id": "vSPFJ4Vyojca"
      },
      "execution_count": null,
      "outputs": []
    },
    {
      "cell_type": "code",
      "source": [
        "find_nearest(z, 22.1)\n",
        "#This function calculates the index of the element in the array z that is closest to the specified value 22.1."
      ],
      "metadata": {
        "colab": {
          "base_uri": "https://localhost:8080/"
        },
        "id": "XmdnUaeUooQG",
        "outputId": "c0ee3cb0-384e-4426-d6d6-84cfa00631ea"
      },
      "execution_count": null,
      "outputs": [
        {
          "output_type": "execute_result",
          "data": {
            "text/plain": [
              "1"
            ]
          },
          "metadata": {},
          "execution_count": 22
        }
      ]
    },
    {
      "cell_type": "code",
      "source": [
        "z[1]\n",
        "#provides the value of the array in the first position after the zero position"
      ],
      "metadata": {
        "colab": {
          "base_uri": "https://localhost:8080/"
        },
        "id": "fwqtysOyo8Gx",
        "outputId": "bbf38a22-8f0f-4bcb-bd76-e0f8ed7a8125"
      },
      "execution_count": null,
      "outputs": [
        {
          "output_type": "execute_result",
          "data": {
            "text/plain": [
              "32.0"
            ]
          },
          "metadata": {},
          "execution_count": 23
        }
      ]
    },
    {
      "cell_type": "code",
      "metadata": {
        "id": "u-_tbmzBcrby",
        "colab": {
          "base_uri": "https://localhost:8080/"
        },
        "outputId": "1c99b169-7965-4b9a-afb8-b321d0cb9f04"
      },
      "source": [
        "find_nearest(cdf, 0.1)\n",
        "#This function calculates the index of the element in the CDF array that is closest to the specified value 0.1"
      ],
      "execution_count": null,
      "outputs": [
        {
          "output_type": "execute_result",
          "data": {
            "text/plain": [
              "247"
            ]
          },
          "metadata": {},
          "execution_count": 24
        }
      ]
    },
    {
      "cell_type": "code",
      "metadata": {
        "id": "Zf6KSUgmEt26",
        "colab": {
          "base_uri": "https://localhost:8080/"
        },
        "outputId": "911600fa-b2b3-455d-d583-e06e9644d3f9"
      },
      "source": [
        "x[393]"
      ],
      "execution_count": null,
      "outputs": [
        {
          "output_type": "execute_result",
          "data": {
            "text/plain": [
              "-1.2792792792792795"
            ]
          },
          "metadata": {},
          "execution_count": 25
        }
      ]
    },
    {
      "cell_type": "code",
      "metadata": {
        "id": "M0O7iLuj5Qu5"
      },
      "source": [
        "xr = np.random.random((10000,))\n",
        "#creates an array where each element in the array represents a random value sampled uniformly from the interval [0, 1)"
      ],
      "execution_count": null,
      "outputs": []
    },
    {
      "cell_type": "code",
      "source": [
        "r = np.random.random()\n",
        "#generates a random number between 0 (inclusive) and 1 (exclusive)"
      ],
      "metadata": {
        "id": "gv6ZK19lpon9"
      },
      "execution_count": null,
      "outputs": []
    },
    {
      "cell_type": "code",
      "source": [
        "r"
      ],
      "metadata": {
        "colab": {
          "base_uri": "https://localhost:8080/"
        },
        "id": "HMWCQfsmpsvF",
        "outputId": "be085934-af63-4504-9c48-46c007dedcff"
      },
      "execution_count": null,
      "outputs": [
        {
          "output_type": "execute_result",
          "data": {
            "text/plain": [
              "0.6031861565012969"
            ]
          },
          "metadata": {},
          "execution_count": 28
        }
      ]
    },
    {
      "cell_type": "code",
      "source": [
        "x[find_nearest(cdf, r)]\n",
        "#finding the index of the nearest cumulative probability in the cdf array\n",
        "#and then retrieving the corresponding value from x."
      ],
      "metadata": {
        "colab": {
          "base_uri": "https://localhost:8080/"
        },
        "id": "DdX5fnWBpuRN",
        "outputId": "ef752e77-9505-4fa4-bd4e-86782b9033f8"
      },
      "execution_count": null,
      "outputs": [
        {
          "output_type": "execute_result",
          "data": {
            "text/plain": [
              "0.47447447447447466"
            ]
          },
          "metadata": {},
          "execution_count": 52
        }
      ]
    },
    {
      "cell_type": "code",
      "metadata": {
        "id": "AxX76gZp6gVV"
      },
      "source": [
        "w = np.zeros(xr.shape[0])\n",
        "#initializes an array (w) with zeros, having the same length as the array (xr).\n",
        "for i in range(xr.shape[0]):\n",
        "#Iterates through each element in (xr).\n",
        "  w[i] = x[find_nearest(cdf, xr[i])]\n",
        "#Retrieves the corresponding value from the array (x) and assign it to the corresponding position in (w)."
      ],
      "execution_count": null,
      "outputs": []
    },
    {
      "cell_type": "code",
      "metadata": {
        "id": "0dBd_HybERUD",
        "colab": {
          "base_uri": "https://localhost:8080/"
        },
        "outputId": "ef85c818-b02e-49b4-e5d4-ebc770dcd881"
      },
      "source": [
        "w.shape\n",
        "#indicates the number of elements in the array w"
      ],
      "execution_count": null,
      "outputs": [
        {
          "output_type": "execute_result",
          "data": {
            "text/plain": [
              "(10000,)"
            ]
          },
          "metadata": {},
          "execution_count": 56
        }
      ]
    },
    {
      "cell_type": "code",
      "metadata": {
        "id": "t4YdgMnK8j6D",
        "colab": {
          "base_uri": "https://localhost:8080/",
          "height": 430
        },
        "outputId": "4cf9b3f4-df83-401d-9b6a-04c711bc7aba"
      },
      "source": [
        "plt.hist(w,50);\n",
        "#generates a histogram of the array w with 50 bins."
      ],
      "execution_count": null,
      "outputs": [
        {
          "output_type": "display_data",
          "data": {
            "text/plain": [
              "<Figure size 640x480 with 1 Axes>"
            ],
            "image/png": "[encoded data removed]"
          },
          "metadata": {}
        }
      ]
    },
    {
      "cell_type": "code",
      "source": [
        "num_bins = 50 #This line sets the number of bins for the histogram to 50.\n",
        "n,bins,patches = plt.hist(w, num_bins, density=1) #creates a histogram of the array w with 50 bins, normalized to form a probability density. The resulting arrays n and bins contain the histogram values and bin edges, respectively.\n",
        "y = ((1 / (np.sqrt(2 * np.pi) * sigma)) * np.exp(-0.5 * (1 / sigma * (bins - mu))**2)) #calculates the theoretical probability density function (PDF) for a normal distribution with given mean mu and standard deviation sigma\n",
        "plt.plot(bins,y) #overlays the theoretical PDF (normal distribution) on the histogram plot."
      ],
      "metadata": {
        "id": "T2tZnucPEtG4",
        "colab": {
          "base_uri": "https://localhost:8080/",
          "height": 447
        },
        "outputId": "29b2f578-1899-4831-cec2-1ce31dcb01eb"
      },
      "execution_count": null,
      "outputs": [
        {
          "output_type": "execute_result",
          "data": {
            "text/plain": [
              "[<matplotlib.lines.Line2D at 0x7d635c6d4550>]"
            ]
          },
          "metadata": {},
          "execution_count": 58
        },
        {
          "output_type": "display_data",
          "data": {
            "text/plain": [
              "<Figure size 640x480 with 1 Axes>"
            ],
            "image/png": "[encoded data removed]"
          },
          "metadata": {}
        }
      ]
    },
    {
      "cell_type": "code",
      "source": [],
      "metadata": {
        "id": "TvG2_-k-8U1M"
      },
      "execution_count": null,
      "outputs": []
    },
    {
      "cell_type": "code",
      "source": [],
      "metadata": {
        "id": "gT-OjSFcm4Uc"
      },
      "execution_count": null,
      "outputs": []
    },
    {
      "cell_type": "markdown",
      "source": [
        "# Homework"
      ],
      "metadata": {
        "id": "f6lSTMepm8qU"
      }
    },
    {
      "cell_type": "markdown",
      "source": [
        "# Birthday Paradox"
      ],
      "metadata": {
        "id": "iE625nJ2fVAa"
      }
    },
    {
      "cell_type": "code",
      "source": [
        "import random\n",
        "\n",
        "def simulate_birthday_paradox(people, simulations):\n",
        "    matches = 0\n",
        "#The function initializes a counter called matches to keep track of the number of simulations where there was a birthday collision.\n",
        "    for i in range(simulations):\n",
        "        birthdays = [random.randint(1, 365) for _ in range(people)]\n",
        "        if len(birthdays) != len(set(birthdays)):\n",
        "            matches += 1\n",
        "#For each iteration, it generates a list of (people) random birthdays (represented as integers from 1 to 365, inclusive).\n",
        "#If there are duplicate birthdays (i.e., the length of the list is not equal to the length of the set of unique birthdays), it increments the matches counter.\n",
        "    probability = matches / simulations\n",
        "    return probability\n",
        "#The function calculates the probability of a birthday collision by dividing the number of matches by the total number of simulations.\n",
        "\n",
        "# Number of people in the room\n",
        "people = 100\n",
        "\n",
        "# Number of simulations\n",
        "simulations = 10000\n",
        "\n",
        "# Calculate the probability\n",
        "probability = simulate_birthday_paradox(people, simulations)\n",
        "probability\n",
        "#with 100 people and 10,000 simulations, it returns the estimated probability."
      ],
      "metadata": {
        "colab": {
          "base_uri": "https://localhost:8080/"
        },
        "id": "uHDNfJ27fTLr",
        "outputId": "6d1924b5-c8a3-4bec-e7a5-f0bda629ade1"
      },
      "execution_count": null,
      "outputs": [
        {
          "output_type": "execute_result",
          "data": {
            "text/plain": [
              "1.0"
            ]
          },
          "metadata": {},
          "execution_count": 64
        }
      ]
    },
    {
      "cell_type": "code",
      "source": [],
      "metadata": {
        "id": "jJowCSRsnroR"
      },
      "execution_count": null,
      "outputs": []
    },
    {
      "cell_type": "markdown",
      "source": [
        "# Monty Hall"
      ],
      "metadata": {
        "id": "ZOjownaNntLY"
      }
    },
    {
      "cell_type": "code",
      "source": [
        "#This function simulates the Monty Hall problem.\n",
        "def simulate_monty_hall_final(simulations):\n",
        "    wins_switching = 0\n",
        "    wins_staying = 0\n",
        "\n",
        "    for _ in range(simulations):\n",
        "        # Randomly assign the car to a door (1, 2, or 3)\n",
        "        car_door = random.randint(1, 3)\n",
        "        # Player makes an initial choice\n",
        "        player_choice = random.randint(1, 3)\n",
        "\n",
        "        # Host opens a door, which is neither the player's choice nor the car door\n",
        "        for host_choice in [1, 2, 3]:\n",
        "            if host_choice != car_door and host_choice != player_choice:\n",
        "                break\n",
        "\n",
        "        # Find the remaining door for the player to switch to\n",
        "        for switch_choice in [1, 2, 3]:\n",
        "            if switch_choice != player_choice and switch_choice != host_choice:\n",
        "                break\n",
        "\n",
        "        # Count the number of wins for staying with the initial choice\n",
        "        if player_choice == car_door:\n",
        "            wins_staying += 1\n",
        "\n",
        "        # Count the number of wins for switching to the other door\n",
        "        if switch_choice == car_door:\n",
        "            wins_switching += 1\n",
        "\n",
        "    # Calculate the probabilities of winning by staying and switching\n",
        "    probability_staying = wins_staying / simulations\n",
        "    probability_switching = wins_switching / simulations\n",
        "\n",
        "    return probability_staying, probability_switching\n",
        "\n",
        "# Running the final version of the simulation\n",
        "final_probability_staying, final_probability_switching = simulate_monty_hall_final(simulations)\n",
        "final_probability_staying, final_probability_switching\n",
        "\n",
        "#This result demonstrates the counterintuitive nature of the Monty Hall problem,\n",
        "#where switching doors significantly increases the chances of winning."
      ],
      "metadata": {
        "colab": {
          "base_uri": "https://localhost:8080/"
        },
        "id": "UagigVXQnrwI",
        "outputId": "abc48894-bab1-44ab-f3f2-9e8009f20429"
      },
      "execution_count": null,
      "outputs": [
        {
          "output_type": "execute_result",
          "data": {
            "text/plain": [
              "(0.326, 0.674)"
            ]
          },
          "metadata": {},
          "execution_count": 26
        }
      ]
    },
    {
      "cell_type": "code",
      "source": [],
      "metadata": {
        "id": "S_zodvhJpkkH"
      },
      "execution_count": null,
      "outputs": []
    },
    {
      "cell_type": "markdown",
      "source": [
        "# Simple Craps"
      ],
      "metadata": {
        "id": "553F2D_eqyh9"
      }
    },
    {
      "cell_type": "code",
      "source": [
        "#The provided code defines a simulation of the Dice Game, which is based on the rules of the popular dice game “Craps.”\n",
        "def simulate_dice_game(simulations):\n",
        "    wins = 0\n",
        "\n",
        "    for _ in range(simulations):\n",
        "        # Roll two six-sided dice\n",
        "        roll = random.randint(1, 6) + random.randint(1, 6)\n",
        "\n",
        "        # Check for immediate win or loss\n",
        "        if roll in [7, 11]:\n",
        "            wins += 1\n",
        "            continue\n",
        "        elif roll in [2, 3, 12]:\n",
        "            continue\n",
        "\n",
        "        # Save the initial roll\n",
        "        initial_roll = roll\n",
        "#If neither win nor loss occurs, the initial roll value is saved.\n",
        "        # Re-roll phase\n",
        "        while True:\n",
        "            roll = random.randint(1, 6) + random.randint(1, 6)\n",
        "            if roll == 7:  # Loss condition\n",
        "                break\n",
        "            elif roll == initial_roll:  # Win condition\n",
        "                wins += 1\n",
        "                break\n",
        "#Continues rolling the dice until either:\n",
        "#The sum is 7 (loss condition), in which case the loop breaks.\n",
        "#The sum matches the initial roll value (win condition), and the (wins) counter is incremented.\n",
        "\n",
        "    probability_of_winning = wins / simulations\n",
        "    return probability_of_winning\n",
        "#Calculates the probability of winning by dividing the number of wins by the total number of simulations.\n",
        "\n",
        "# Number of simulations\n",
        "simulations = 10000\n",
        "\n",
        "# Calculate the probability\n",
        "probability_of_winning = simulate_dice_game(simulations)\n",
        "probability_of_winning\n",
        "#This simulation demonstrates the probabilities associated with the game of Craps."
      ],
      "metadata": {
        "colab": {
          "base_uri": "https://localhost:8080/"
        },
        "id": "Uez6Ycj5qxmO",
        "outputId": "66af0857-46b7-425a-f45a-0b2abccbf15b"
      },
      "execution_count": null,
      "outputs": [
        {
          "output_type": "execute_result",
          "data": {
            "text/plain": [
              "0.4894"
            ]
          },
          "metadata": {},
          "execution_count": 27
        }
      ]
    },
    {
      "cell_type": "markdown",
      "source": [
        "# Collector's Card Paradox\n"
      ],
      "metadata": {
        "id": "8c3x54_kx91f"
      }
    },
    {
      "cell_type": "code",
      "source": [
        "#This function simulates the process of collecting a set of (n) different characters by buying card packs.\n",
        "def simulate_card_collectors_problem(n, simulations):\n",
        "    total_card_packs_bought = 0\n",
        "#Initializes a counter called (total_card_packs_bought) to keep track of the total number of card packs purchased across all simulations.\n",
        "\n",
        "    for _ in range(simulations):\n",
        "        collected_characters = set()\n",
        "        card_packs_bought = 0\n",
        "#Initializes an empty set called (collected_characters) to track the characters collected.\n",
        "#Initializes a counter called (card_packs_bought) to count the number of card packs bought in this simulation.\n",
        "\n",
        "        # Buy card packs until all characters are collected\n",
        "        while len(collected_characters) < n:\n",
        "            new_card = random.randint(1, n)\n",
        "            collected_characters.add(new_card)\n",
        "            card_packs_bought += 1\n",
        "\n",
        "        total_card_packs_bought += card_packs_bought\n",
        "\n",
        "    # Calculate the average number of card packs needed\n",
        "    average_card_packs_needed = total_card_packs_bought / simulations\n",
        "    return average_card_packs_needed\n",
        "\n",
        "# Number of different characters\n",
        "n = 10\n",
        "\n",
        "# Calculate the expected number of card packs\n",
        "expected_card_packs = simulate_card_collectors_problem(n, simulations)\n",
        "expected_card_packs\n",
        "#This simulation models the classic problem of collecting a complete set of different items by purchasing randomized packs."
      ],
      "metadata": {
        "id": "No2Z-6FRq3n8"
      },
      "execution_count": null,
      "outputs": []
    },
    {
      "cell_type": "code",
      "source": [],
      "metadata": {
        "id": "AUkmiRElj7kL"
      },
      "execution_count": null,
      "outputs": []
    },
    {
      "cell_type": "markdown",
      "source": [
        "#Sock Drawer Problem"
      ],
      "metadata": {
        "id": "M7r99hHKUsKB"
      }
    },
    {
      "cell_type": "code",
      "source": [
        "#This function simulates the process of drawing socks from a drawer until a matching pair is found.\n",
        "import random\n",
        "\n",
        "def simulate_sock_drawer_problem(n, simulations):\n",
        "    total_draws = 0\n",
        "#Initializes a counter called (total_draws) to keep track of the total number of draws across all simulations.\n",
        "\n",
        "    for _ in range(simulations):\n",
        "        socks = {}\n",
        "        draws = 0\n",
        "#Initializes an empty dictionary called (socks) to track the count of each sock color.\n",
        "#Initializes a counter called (draws) to count the number of draws in this simulation.\n",
        "\n",
        "        while True:\n",
        "            # Randomly draw a sock\n",
        "            sock_color = random.randint(1, n)\n",
        "            draws += 1\n",
        "\n",
        "            # Update the count for this color\n",
        "            if sock_color in socks:\n",
        "                socks[sock_color] += 1\n",
        "            else:\n",
        "                socks[sock_color] = 1\n",
        "\n",
        "            # Check for a pair\n",
        "            if socks[sock_color] == 2:\n",
        "                break\n",
        "\n",
        "        total_draws += draws\n",
        "\n",
        "    # Calculate the average number of draws needed\n",
        "    average_draws_needed = total_draws / simulations\n",
        "    return average_draws_needed\n",
        "#Calculates the average number of draws needed to find a matching pair.\n",
        "\n",
        "# Number of pairs of socks\n",
        "n = 10\n",
        "\n",
        "# Number of simulations\n",
        "simulations = 10000\n",
        "\n",
        "# Calculate the expected number of draws\n",
        "expected_draws = simulate_sock_drawer_problem(n, simulations)\n",
        "expected_draws\n",
        "#This simulation models the problem of drawing socks from a drawer until a matching pair is obtained."
      ],
      "metadata": {
        "colab": {
          "base_uri": "https://localhost:8080/"
        },
        "id": "aKEfCochj7qD",
        "outputId": "7772cf39-8fc2-41f6-ccd2-2dc2d853992a"
      },
      "execution_count": null,
      "outputs": [
        {
          "output_type": "execute_result",
          "data": {
            "text/plain": [
              "4.6864"
            ]
          },
          "metadata": {},
          "execution_count": 4
        }
      ]
    }
  ]
}