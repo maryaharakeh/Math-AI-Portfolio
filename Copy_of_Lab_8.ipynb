{
  "cells": [
    {
      "cell_type": "code",
      "execution_count": null,
      "metadata": {
        "id": "MJjTOJXQY7L2"
      },
      "outputs": [],
      "source": [
        "%%capture\n",
        "!pip install wandb\n",
        "!apt-get install poppler-utils\n",
        "!pip install pdf2image\n",
        "!pip install flashtorch\n",
        "import requests\n",
        "from pdf2image import convert_from_path\n",
        "import matplotlib.pyplot as plt\n",
        "import numpy as np\n",
        "import torch\n",
        "import requests\n",
        "from torchvision import *\n",
        "from torchvision.models import *\n",
        "import wandb as wb\n",
        "#This code cell in Python installs necessary packages using pip and apt-get,\n",
        "#imports required libraries, and sets up the environment for further processing.\n",
        "#It installs `wandb` (Weights & Biases) via pip, `poppler-utils` via apt-get\n",
        "#(for working with PDF files), `pdf2image` (for converting PDFs to images), and\n",
        "#`flashtorch` (for visualizing and interpreting deep learning models).\n",
        "#After the installations, it imports several libraries such as requests, pdf2image, matplotlib, numpy, torch, torchvision, and wandb."
      ]
    },
    {
      "cell_type": "code",
      "execution_count": null,
      "metadata": {
        "id": "OcM-MSMRmAXL"
      },
      "outputs": [],
      "source": [
        "device = torch.device(\"cuda:0\" if torch.cuda.is_available() else \"cpu\")\n",
        "#This line checks if CUDA (GPU computing platform by NVIDIA) is available. If CUDA is available, it sets the device to use the GPU (specifically, GPU 0); otherwise, it sets the device to use the CPU.\n",
        "def GPU(data):\n",
        "    return torch.tensor(data, requires_grad=True, dtype=torch.float, device=device)\n",
        "# This is a function that takes data and returns a PyTorch tensor. The tensor is placed on the device determined by the previous step (GPU if available, otherwise CPU). The tensor requires gradient computation and is of type float.\n",
        "def GPU_data(data):\n",
        "    return torch.tensor(data, requires_grad=False, dtype=torch.float, device=device)\n",
        "#Similar to the previous function, this one also creates a PyTorch tensor but without requiring gradient computation. It's useful for data that doesn't need to be involved in gradient-based optimization, such as input data or labels.\n",
        "def plot(x):\n",
        "    fig, ax = plt.subplots()\n",
        "    im = ax.imshow(x, cmap = 'gray')\n",
        "    ax.axis('off')\n",
        "    fig.set_size_inches(5, 5)\n",
        "    plt.show()\n",
        "#This function plots the given numpy array (presumably representing an image) using matplotlib. It creates a grayscale image with the specified colormap and displays it without axis ticks.\n",
        "def get_google_slide(url):\n",
        "    url_head = \"https://docs.google.com/presentation/d/\"\n",
        "    url_body = url.split('/')[5]\n",
        "    page_id = url.split('.')[-1]\n",
        "    return url_head + url_body + \"/export/pdf?id=\" + url_body + \"&pageid=\" + page_id\n",
        "#This function takes a Google Slides URL, extracts the necessary information to construct a download link for the PDF version of the slides, and returns that download link.\n",
        "def get_slides(url):\n",
        "    url = get_google_slide(url)\n",
        "    r = requests.get(url, allow_redirects=True)\n",
        "    open('file.pdf', 'wb').write(r.content)\n",
        "    images = convert_from_path('file.pdf', 500)\n",
        "    return images\n",
        "# This function takes a Google Slides URL, gets the PDF version of the slides using the get_google_slide function, downloads the PDF file, and then converts it into a list of images using convert_from_path function from pdf2image. It returns a list of image objects representing each slide.\n",
        "def load(image, size=224):\n",
        "    means = [0.485, 0.456, 0.406]\n",
        "    stds = [0.229, 0.224, 0.225]\n",
        "    transform = transforms.Compose([\n",
        "        transforms.Resize(size),\n",
        "        transforms.CenterCrop(size),\n",
        "        transforms.ToTensor(),\n",
        "        transforms.Normalize(means, stds)\n",
        "    ])\n",
        "    tensor = transform(image).unsqueeze(0).to(device)\n",
        "    tensor.requires_grad = True\n",
        "    return tensor\n",
        "#This function prepares an image for input into a neural network. It resizes\n",
        "#and crops the image to the specified size, converts it to a PyTorch tensor,\n",
        "#and normalizes it using pre-defined means and standard deviations.\n",
        "#The resulting tensor is placed on the device determined earlier and set to require gradient computation.\n"
      ]
    },
    {
      "cell_type": "code",
      "execution_count": null,
      "metadata": {
        "id": "opN3hI0lemBV"
      },
      "outputs": [],
      "source": [
        "labels = {int(key):value for (key, value) in requests.get('https://s3.amazonaws.com/mlpipes/pytorch-quick-start/labels.json').json().items()}\n",
        "\n",
        "model = alexnet(weights='DEFAULT').to(device)\n",
        "model.eval();\n",
        "#1: It sends a GET request to a specific URL hosting a JSON file containing labels. It then converts the JSON response into a Python dictionary where keys are integers and values are the corresponding labels.\n",
        "#2: It initializes an AlexNet model using pre-trained weights from the default source. The model is then transferred to the specified device (either GPU if available, otherwise CPU). Finally, it sets the model into evaluation mode, which is typically used during inference to disable operations like dropout."
      ]
    },
    {
      "cell_type": "code",
      "execution_count": null,
      "metadata": {
        "id": "2EnZVMTqiqwz"
      },
      "outputs": [],
      "source": [
        "url = \"https://docs.google.com/presentation/d/17Nxy2Wo0erk71fp4sCDQqHrHYkxwjdExjbosjoEewuU/edit#slide=id.p\""
      ]
    },
    {
      "cell_type": "code",
      "execution_count": null,
      "metadata": {
        "id": "h7MhH8hrR3AE"
      },
      "outputs": [],
      "source": [
        "images = []\n",
        "\n",
        "for image in get_slides(url):\n",
        "\n",
        "    plot(image)\n",
        "\n",
        "    images.append(load(image))\n",
        "\n",
        "images = torch.vstack(images)\n",
        "#This code iterates through images obtained from a Google Slides URL, plots\n",
        "#each image, loads and preprocesses them for a neural network input, and finally stacks them vertically into a single tensor."
      ]
    },
    {
      "cell_type": "code",
      "execution_count": null,
      "metadata": {
        "colab": {
          "base_uri": "https://localhost:8080/"
        },
        "id": "uKsUVAPdQwmP",
        "outputId": "8220d08b-4567-44c9-a848-6cbd7a1d3c4b"
      },
      "outputs": [
        {
          "data": {
            "text/plain": [
              "torch.Size([50, 3, 224, 224])"
            ]
          },
          "execution_count": 50,
          "metadata": {},
          "output_type": "execute_result"
        }
      ],
      "source": [
        "images.shape #The shape of the images tensor would depend on the number of images processed and their dimensions after preprocessing.\n",
        "#It includes the number of images, number of colors channels, height and width of each image."
      ]
    },
    {
      "cell_type": "code",
      "execution_count": null,
      "metadata": {
        "id": "fJlgt1avR3I9"
      },
      "outputs": [],
      "source": [
        "model(images)\n",
        "#This involves passing the preprocessed images through a neural network model.\n",
        "#Specifically, it feeds the tensor images, which contains the preprocessed image\n",
        "#data, into the neural network model (model).\n",
        "#This process applies the learned weights and biases of the model to the input images, performing computations through the layers of the network, and ultimately producing output."
      ]
    },
    {
      "cell_type": "code",
      "execution_count": null,
      "metadata": {
        "id": "lgGzMREYR3LN"
      },
      "outputs": [],
      "source": [
        "y = model(images) #stores output in variable"
      ]
    },
    {
      "cell_type": "code",
      "execution_count": null,
      "metadata": {
        "colab": {
          "base_uri": "https://localhost:8080/"
        },
        "id": "L3NVy8_7T_rb",
        "outputId": "67350e64-becb-4ea9-f562-5aba0f059acc"
      },
      "outputs": [
        {
          "data": {
            "text/plain": [
              "torch.Size([50, 1000])"
            ]
          },
          "execution_count": 53,
          "metadata": {},
          "output_type": "execute_result"
        }
      ],
      "source": [
        "y.shape #gives number of input images and number of output classes or features"
      ]
    },
    {
      "cell_type": "code",
      "execution_count": null,
      "metadata": {
        "id": "UsYfYT6UR3Nn"
      },
      "outputs": [],
      "source": [
        "guesses = torch.argmax(y, 1).cpu().numpy()\n",
        "#this line of code is getting the predicted class labels from the model output y,\n",
        "#moving the predictions to the CPU, and converting them to a NumPy array.\n",
        "#The result is stored in the variable guesses"
      ]
    },
    {
      "cell_type": "code",
      "execution_count": null,
      "metadata": {
        "id": "QvSec8rITW7T"
      },
      "outputs": [],
      "source": [
        "for i in list(guesses):\n",
        "    print(labels[i])\n",
        "#This code iterates over the guesses list and prints the corresponding label for each guess from the labels list."
      ]
    },
    {
      "cell_type": "code",
      "execution_count": null,
      "metadata": {
        "id": "CALvf79gjAY-"
      },
      "outputs": [],
      "source": [
        "Y = np.zeros(50,)\n",
        "Y[25:] = 1\n",
        "#This code creates a NumPy array Y of length 50 filled with zeros, then sets the last 25 elements of the array to 1."
      ]
    },
    {
      "cell_type": "code",
      "execution_count": null,
      "metadata": {
        "id": "UcBPB-F_jh9H"
      },
      "outputs": [],
      "source": [
        "Y #displays array"
      ]
    },
    {
      "cell_type": "code",
      "execution_count": null,
      "metadata": {
        "id": "OzGPSBiRjTfR"
      },
      "outputs": [],
      "source": [
        "# Y = np.zeros(100,)\n",
        "# Y[50:] = 1"
      ]
    },
    {
      "cell_type": "code",
      "execution_count": null,
      "metadata": {
        "id": "tVRYStHJjq-Z"
      },
      "outputs": [],
      "source": [
        "Y #displays array"
      ]
    },
    {
      "cell_type": "code",
      "execution_count": null,
      "metadata": {
        "id": "ZqvMEcxhY6dl"
      },
      "outputs": [],
      "source": [
        "X = y.detach().cpu().numpy()\n",
        "#this line of code is detaching the tensor y from its computation graph,\n",
        "#moving it to the CPU, and converting it to a NumPy array.\n",
        "#The result is stored in the variable X."
      ]
    },
    {
      "cell_type": "code",
      "execution_count": null,
      "metadata": {
        "id": "KqPB9TKyEJCS"
      },
      "outputs": [],
      "source": [
        "X.shape #returns dimensions of array"
      ]
    },
    {
      "cell_type": "code",
      "execution_count": null,
      "metadata": {
        "id": "OB9J8q8LEgCG"
      },
      "outputs": [],
      "source": [
        "plt.plot(X[0],'.')\n",
        "#creates scatterplot of the first row"
      ]
    },
    {
      "cell_type": "code",
      "execution_count": null,
      "metadata": {
        "id": "cetMFwBQngCQ"
      },
      "outputs": [],
      "source": [
        "plt.hist(X[0])\n",
        "#plots histogram of the first row"
      ]
    },
    {
      "cell_type": "code",
      "execution_count": null,
      "metadata": {
        "id": "zBt4rsdIefV_"
      },
      "outputs": [],
      "source": [
        "X = GPU_data(X)\n",
        "Y = GPU_data(Y)\n",
        "#This code moves the data in the variables `X` and `Y` to the GPU using the `GPU_data` function, presumably for faster computation in a machine learning context.\n",
        "#The results are stored back in `X` and `Y`."
      ]
    },
    {
      "cell_type": "code",
      "execution_count": null,
      "metadata": {
        "id": "m4BlYG-CgC2z"
      },
      "outputs": [],
      "source": [
        "def softmax(x):\n",
        "    s1 = torch.exp(x - torch.max(x,1)[0][:,None])\n",
        "    s = s1 / s1.sum(1)[:,None]\n",
        "    return s\n",
        "#The `softmax` function in the provided code calculates the softmax of a tensor `x`, transforming it into a vector of real numbers in the range (0, 1) that add up to 1.\n",
        "#This is commonly used in machine learning to convert raw scores into probabilities.\n",
        "#The function is applied across each row of the tensor, making it particularly useful in tasks such as multi-class classification and ranking problems in neural networks."
      ]
    },
    {
      "cell_type": "code",
      "execution_count": null,
      "metadata": {
        "id": "XZ-UV8W_c_9o"
      },
      "outputs": [],
      "source": [
        "def cross_entropy(outputs, labels):\n",
        "    return -torch.sum(softmax(outputs).log()[range(outputs.size()[0]), labels.long()])/outputs.size()[0]\n",
        "#this function computes the average negative log-probability of the correct class, a common measure of classification error.\n",
        "#This is also known as the cross-entropy loss."
      ]
    },
    {
      "cell_type": "code",
      "execution_count": null,
      "metadata": {
        "id": "wtL1kZcZICVP"
      },
      "outputs": [],
      "source": [
        "def randn_trunc(s): #Truncated Normal Random Numbers\n",
        "    mu = 0\n",
        "    sigma = 0.1\n",
        "    R = stats.truncnorm((-2*sigma - mu) / sigma, (2*sigma - mu) / sigma, loc=mu, scale=sigma)\n",
        "    return R.rvs(s)\n",
        "#The function `randn_trunc(s)` generates `s` random numbers from a truncated normal distribution with mean `mu=0`, standard deviation `sigma=0.1`, and range `-2*sigma` to `2*sigma`."
      ]
    },
    {
      "cell_type": "code",
      "execution_count": null,
      "metadata": {
        "id": "wPQjN4JwYHAz"
      },
      "outputs": [],
      "source": [
        "def Truncated_Normal(size):\n",
        "\n",
        "    u1 = torch.rand(size)*(1-np.exp(-2)) + np.exp(-2)\n",
        "    u2 = torch.rand(size)\n",
        "    z  = torch.sqrt(-2*torch.log(u1)) * torch.cos(2*np.pi*u2)\n",
        "\n",
        "    return z\n",
        "#The function `Truncated_Normal(size)` generates `size` random numbers from a truncated normal distribution\n",
        "#using the Box-Muller transform method."
      ]
    },
    {
      "cell_type": "code",
      "execution_count": null,
      "metadata": {
        "id": "LW3ttVcq1sI9"
      },
      "outputs": [],
      "source": [
        "def acc(out,y):\n",
        "    with torch.no_grad():\n",
        "        return (torch.sum(torch.max(out,1)[1] == y).item())/y.shape[0]\n",
        "#The function `acc(out, y)` calculates the accuracy of the model's predictions (`out`) compared to the true labels (`y`)."
      ]
    },
    {
      "cell_type": "code",
      "execution_count": null,
      "metadata": {
        "colab": {
          "base_uri": "https://localhost:8080/"
        },
        "id": "5UXgio04fyvz",
        "outputId": "aaa73b97-abc6-489e-9647-3c28a5e83660"
      },
      "outputs": [
        {
          "data": {
            "text/plain": [
              "torch.Size([50, 1000])"
            ]
          },
          "execution_count": 70,
          "metadata": {},
          "output_type": "execute_result"
        }
      ],
      "source": [
        "X.shape #gives number of input images and and output classes"
      ]
    },
    {
      "cell_type": "code",
      "execution_count": null,
      "metadata": {
        "id": "x79Sie8XKPOC"
      },
      "outputs": [],
      "source": [
        "def get_batch(mode):\n",
        "#Defines a function named get_batch that takes a mode parameter.\n",
        "    b = c.b\n",
        "#Assigns the value of the variable b from the context c.\n",
        "    if mode == \"train\":\n",
        "# Checks if the mode is \"train\".\n",
        "        r = np.random.randint(X.shape[0]-b)\n",
        "#Generates a random integer r within the range of valid indices for the training data X, considering the batch size b.\n",
        "        x = X[r:r+b,:]\n",
        "#Slices the training data X to extract a batch of input samples starting from index r and ending at r+b\n",
        "        y = Y[r:r+b]\n",
        "#Slices the training labels Y to extract corresponding labels for the batch of samples.\n",
        "    elif mode == \"test\":\n",
        "#Checks if the mode is \"test\".\n",
        "        r = np.random.randint(X_test.shape[0]-b)\n",
        "#Generates a random integer r within the range of valid indices for the test data X_test, considering the batch size b.\n",
        "        x = X_test[r:r+b,:]\n",
        "#Slices the test data X_test to extract a batch of input samples starting from index r and ending at r+b.\n",
        "        y = Y_test[r:r+b]\n",
        "#Slices the test labels Y_test to extract corresponding labels for the batch of samples.\n",
        "    return x,y\n",
        "#Returns the batch of input samples x and their corresponding labels y."
      ]
    },
    {
      "cell_type": "code",
      "execution_count": null,
      "metadata": {
        "id": "vXOr9aM8A8P-"
      },
      "outputs": [],
      "source": [
        "def model(x,w):\n",
        "\n",
        "    return x@w[0]\n",
        "#This function performs matrix multiplication between input `x` and the first element of weight tensor `w` and returns the result."
      ]
    },
    {
      "cell_type": "code",
      "execution_count": null,
      "metadata": {
        "id": "uzRsuDek9Fve"
      },
      "outputs": [],
      "source": [
        "def make_plots():\n",
        "\n",
        "    acc_train = acc(model(x,w),y)\n",
        "\n",
        "    # xt,yt = get_batch('test')\n",
        "\n",
        "    # acc_test = acc(model(xt,w),yt)\n",
        "\n",
        "    wb.log({\"acc_train\": acc_train})\n",
        "#Defines a function `make_plots()` that calculates the training accuracy of a\n",
        "#model on a given dataset `x` with labels `y` using `acc()` function and logs the training accuracy to Weights & Biases (W&B) platform using `wb.log()`."
      ]
    },
    {
      "cell_type": "code",
      "execution_count": null,
      "metadata": {
        "colab": {
          "background_save": true,
          "base_uri": "https://localhost:8080/",
          "height": 245
        },
        "id": "WANJibeUNghZ",
        "outputId": "77dfc286-ed37-4c98-e7bd-228833f93cd1"
      },
      "outputs": [
        {
          "data": {
            "application/javascript": [
              "\n",
              "        window._wandbApiKey = new Promise((resolve, reject) => {\n",
              "            function loadScript(url) {\n",
              "            return new Promise(function(resolve, reject) {\n",
              "                let newScript = document.createElement(\"script\");\n",
              "                newScript.onerror = reject;\n",
              "                newScript.onload = resolve;\n",
              "                document.body.appendChild(newScript);\n",
              "                newScript.src = url;\n",
              "            });\n",
              "            }\n",
              "            loadScript(\"https://cdn.jsdelivr.net/npm/postmate/build/postmate.min.js\").then(() => {\n",
              "            const iframe = document.createElement('iframe')\n",
              "            iframe.style.cssText = \"width:0;height:0;border:none\"\n",
              "            document.body.appendChild(iframe)\n",
              "            const handshake = new Postmate({\n",
              "                container: iframe,\n",
              "                url: 'https://wandb.ai/authorize'\n",
              "            });\n",
              "            const timeout = setTimeout(() => reject(\"Couldn't auto authenticate\"), 5000)\n",
              "            handshake.then(function(child) {\n",
              "                child.on('authorize', data => {\n",
              "                    clearTimeout(timeout)\n",
              "                    resolve(data)\n",
              "                });\n",
              "            });\n",
              "            })\n",
              "        });\n",
              "    "
            ],
            "text/plain": [
              "<IPython.core.display.Javascript object>"
            ]
          },
          "metadata": {},
          "output_type": "display_data"
        },
        {
          "name": "stderr",
          "output_type": "stream",
          "text": [
            "\u001b[34m\u001b[1mwandb\u001b[0m: Logging into wandb.ai. (Learn how to deploy a W&B server locally: https://wandb.me/wandb-server)\n",
            "\u001b[34m\u001b[1mwandb\u001b[0m: You can find your API key in your browser here: https://wandb.ai/authorize\n",
            "wandb: Paste an API key from your profile and hit enter, or press ctrl+c to quit:\u001b[34m\u001b[1mwandb\u001b[0m: Appending key for api.wandb.ai to your netrc file: /root/.netrc\n"
          ]
        },
        {
          "data": {
            "text/html": [
              "Tracking run with wandb version 0.16.3"
            ],
            "text/plain": [
              "<IPython.core.display.HTML object>"
            ]
          },
          "metadata": {},
          "output_type": "display_data"
        },
        {
          "data": {
            "text/html": [
              "Run data is saved locally in <code>/content/wandb/run-20240207_195256-h1jcjcpf</code>"
            ],
            "text/plain": [
              "<IPython.core.display.HTML object>"
            ]
          },
          "metadata": {},
          "output_type": "display_data"
        },
        {
          "data": {
            "text/html": [
              "Syncing run <strong><a href='https://wandb.ai/williamedwardhahn/Linear_Model_Photo_1/runs/h1jcjcpf' target=\"_blank\">proud-sun-19</a></strong> to <a href='https://wandb.ai/williamedwardhahn/Linear_Model_Photo_1' target=\"_blank\">Weights & Biases</a> (<a href='https://wandb.me/run' target=\"_blank\">docs</a>)<br/>"
            ],
            "text/plain": [
              "<IPython.core.display.HTML object>"
            ]
          },
          "metadata": {},
          "output_type": "display_data"
        },
        {
          "data": {
            "text/html": [
              " View project at <a href='https://wandb.ai/williamedwardhahn/Linear_Model_Photo_1' target=\"_blank\">https://wandb.ai/williamedwardhahn/Linear_Model_Photo_1</a>"
            ],
            "text/plain": [
              "<IPython.core.display.HTML object>"
            ]
          },
          "metadata": {},
          "output_type": "display_data"
        },
        {
          "data": {
            "text/html": [
              " View run at <a href='https://wandb.ai/williamedwardhahn/Linear_Model_Photo_1/runs/h1jcjcpf' target=\"_blank\">https://wandb.ai/williamedwardhahn/Linear_Model_Photo_1/runs/h1jcjcpf</a>"
            ],
            "text/plain": [
              "<IPython.core.display.HTML object>"
            ]
          },
          "metadata": {},
          "output_type": "display_data"
        },
        {
          "name": "stderr",
          "output_type": "stream",
          "text": [
            "<ipython-input-46-13a1dae5b345>:4: UserWarning: To copy construct from a tensor, it is recommended to use sourceTensor.clone().detach() or sourceTensor.clone().detach().requires_grad_(True), rather than torch.tensor(sourceTensor).\n",
            "  return torch.tensor(data, requires_grad=True, dtype=torch.float, device=device)\n"
          ]
        }
      ],
      "source": [
        "wb.init(project=\"Linear_Model_Photo_1\");\n",
        "#Initializes a new W&B run associated with the project \"Linear_Model_Photo_1\".\n",
        "c = wb.config #Retrieves the configuration for the run.\n",
        "\n",
        "c.h = 0.001 # Sets the learning rate (h).\n",
        "c.b = 32   #Sets the batch size (b).\n",
        "c.epochs = 100000  #Sets the number of training epochs (epochs).\n",
        "\n",
        "w = [GPU(Truncated_Normal((1000,2)))]\n",
        "#Initializes the weight parameters (w) as a GPU tensor of shape (1000, 2) sampled from a truncated normal distribution.\n",
        "optimizer = torch.optim.Adam(w, lr=c.h)\n",
        "#Initializes the Adam optimizer with the provided learning rate c.h for the weights w.\n",
        "for i in range(c.epochs):\n",
        "#Iterates over the specified number of epochs.\n",
        "    x,y = get_batch('train')\n",
        "#Obtains a batch of training data (x) and labels (y).\n",
        "    loss = cross_entropy(softmax(model(x,w)),y)\n",
        "# Calculates the cross-entropy loss between the model predictions and the true labels.\n",
        "    optimizer.zero_grad() #Resets the gradients of the model parameters.\n",
        "    loss.backward() #Computes gradients of the loss with respect to the model parameters.\n",
        "    optimizer.step() #Updates the model parameters using the computed gradients.\n",
        "\n",
        "    wb.log({\"loss\": loss}) #Logs the current loss value to W&B.\n",
        "\n",
        "    make_plots() # function to calculate and log training accuracy.\n"
      ]
    },
    {
      "cell_type": "code",
      "execution_count": null,
      "metadata": {
        "colab": {
          "background_save": true
        },
        "id": "VGdS4Ccv3ToX"
      },
      "outputs": [],
      "source": []
    },
    {
      "cell_type": "code",
      "execution_count": null,
      "metadata": {
        "colab": {
          "background_save": true
        },
        "id": "cogMnVmoY6fs"
      },
      "outputs": [],
      "source": []
    }
  ],
  "metadata": {
    "accelerator": "GPU",
    "colab": {
      "provenance": []
    },
    "gpuClass": "standard",
    "kernelspec": {
      "display_name": "Python 3",
      "name": "python3"
    },
    "language_info": {
      "name": "python"
    }
  },
  "nbformat": 4,
  "nbformat_minor": 0
}