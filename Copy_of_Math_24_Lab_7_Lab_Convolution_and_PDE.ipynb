{
  "cells": [
    {
      "cell_type": "markdown",
      "metadata": {
        "id": "oYdCghQw7CU1"
      },
      "source": [
        "Never Say Never - Documentary on Belousov–Zhabotinsky Reaction BZ\n",
        "\n",
        "https://www.youtube.com/watch?v=FvXwVZPOoBI\n",
        "\n",
        "\n",
        "Image Kernels Explained Visually\n",
        "\n",
        "https://setosa.io/ev/image-kernels/"
      ]
    },
    {
      "cell_type": "code",
      "execution_count": null,
      "metadata": {
        "id": "VpfgcWaDQmmK"
      },
      "outputs": [],
      "source": [
        "import numpy as np\n",
        "from skimage import io as io\n",
        "import matplotlib.pyplot as plt\n",
        "from scipy import signal\n",
        "import torch.nn.functional as F\n",
        "from torch.nn.functional import *\n",
        "import torch\n",
        "import torch.nn as nn\n",
        "import torchvision\n",
        "import torchvision.transforms as transforms\n",
        "import time\n",
        "from matplotlib import animation, rc\n",
        "from IPython.display import HTML\n",
        "rc('animation', html='html5')\n",
        "#This script is importing several Python libraries and modules that are commonly\n",
        "#used in image processing, machine learning, and data visualization."
      ]
    },
    {
      "cell_type": "code",
      "execution_count": null,
      "metadata": {
        "id": "3H4BHet4J7OI"
      },
      "outputs": [],
      "source": [
        "def make_ani(A, colormap='gray'): #This function, make_ani, creates an animation of a 3D array A using matplotlib’s FuncAnimation\n",
        "\n",
        "    fig, ax = plt.subplots() #This line creates a new figure and a set of subplots. Here, it’s used to create a single subplot.\n",
        "    im = ax.imshow(A[0,:,:], cmap = colormap); #This line displays the first 2D slice of the 3D array A as an image on the axes. The colormap used is specified by the colormap parameter.\n",
        "    ax.axis('off') #This line turns off the axis lines and labels.\n",
        "    fig.set_size_inches(12, 12) #This line sets the figure size to 12x12 inches.\n",
        "\n",
        "    def animate(data, im):\n",
        "        im.set_data(data)\n",
        "#This is a helper function that updates the image data. It’s used in the animation function to update the image at each frame.\n",
        "    def step():\n",
        "        for i in range(A.shape[0]):\n",
        "            data = A[i,:,:]\n",
        "            yield data\n",
        "#This is a generator function that yields each 2D slice of the 3D array A. It’s used in the animation function to generate the data for each frame.\n",
        "    return animation.FuncAnimation(fig, animate, step, interval=100, repeat=True, fargs=(im,))\n",
        "#This line creates the animation. It uses the animate function to update the\n",
        "#image at each frame, the step function to generate the data for each frame, and\n",
        "#it sets the time interval between frames to 100 milliseconds. The animation\n",
        "#repeats indefinitely. The fargs parameter is used to pass additional arguments\n",
        "#to the animate function. In this case, the image object im is passed.\n",
        "#The resulting animation object is returned by the make_ani function."
      ]
    },
    {
      "cell_type": "code",
      "execution_count": null,
      "metadata": {
        "id": "nnO5YFVzJzGA"
      },
      "outputs": [],
      "source": [
        "def plot(x):\n",
        "    fig, ax = plt.subplots()\n",
        "    im = ax.imshow(x, cmap = 'gray')\n",
        "    ax.axis('off')\n",
        "    fig.set_size_inches(15, 15)\n",
        "    plt.show()\n",
        "#The plot(x) function displays the input x as a grayscale image in a 15x15 inch figure with no axis, using matplotlib’s pyplot module."
      ]
    },
    {
      "cell_type": "code",
      "execution_count": null,
      "metadata": {
        "id": "e9NNju-oKnBt"
      },
      "outputs": [],
      "source": [
        "image = io.imread(\"https://www.filfre.net/wp-content/uploads/2013/12/bbc4.png\")\n",
        "#converts image to array"
      ]
    },
    {
      "cell_type": "code",
      "execution_count": null,
      "metadata": {
        "colab": {
          "base_uri": "https://localhost:8080/"
        },
        "id": "ci2YP-ji1kau",
        "outputId": "71477afc-5d9a-47ba-8d9c-fecd26001ac0"
      },
      "outputs": [
        {
          "data": {
            "text/plain": [
              "(512, 640, 3)"
            ]
          },
          "execution_count": 22,
          "metadata": {},
          "output_type": "execute_result"
        }
      ],
      "source": [
        "image.shape #RGBa"
      ]
    },
    {
      "cell_type": "code",
      "execution_count": null,
      "metadata": {
        "id": "UpnDgV_f1aT9"
      },
      "outputs": [],
      "source": [
        "plot(image)"
      ]
    },
    {
      "cell_type": "code",
      "execution_count": null,
      "metadata": {
        "colab": {
          "base_uri": "https://localhost:8080/"
        },
        "id": "Et2LFxfn5RR6",
        "outputId": "6cdb004b-126c-4459-f9db-51c9041afdef"
      },
      "outputs": [
        {
          "data": {
            "text/plain": [
              "(512, 640, 3)"
            ]
          },
          "execution_count": 24,
          "metadata": {},
          "output_type": "execute_result"
        }
      ],
      "source": [
        "image.shape #returns tuple representing array dimensions giving height, width, and channels"
      ]
    },
    {
      "cell_type": "code",
      "execution_count": null,
      "metadata": {
        "id": "tNzAHjhu1xIk"
      },
      "outputs": [],
      "source": [
        "plot(image[:,:,0]) #red channel"
      ]
    },
    {
      "cell_type": "code",
      "execution_count": null,
      "metadata": {
        "id": "cjXPpJ_c1ziR"
      },
      "outputs": [],
      "source": [
        "plot(image[:,:,1]) #green channel"
      ]
    },
    {
      "cell_type": "code",
      "execution_count": null,
      "metadata": {
        "id": "oWKUxPgf1ztf"
      },
      "outputs": [],
      "source": [
        "plot(image[:,:,2]) #blue channel"
      ]
    },
    {
      "cell_type": "code",
      "execution_count": null,
      "metadata": {
        "colab": {
          "base_uri": "https://localhost:8080/"
        },
        "id": "uqKDgjVr2JjQ",
        "outputId": "712676e0-62d3-411c-b906-fc5be264a00b"
      },
      "outputs": [
        {
          "data": {
            "text/plain": [
              "(512, 640, 3)"
            ]
          },
          "execution_count": 28,
          "metadata": {},
          "output_type": "execute_result"
        }
      ],
      "source": [
        "image.shape"
      ]
    },
    {
      "cell_type": "code",
      "execution_count": null,
      "metadata": {
        "id": "SAo2s2U7Qmm6"
      },
      "outputs": [],
      "source": [
        "image = np.mean(image, axis=2) #This code calculates the mean across the color channels of an image, effectively converting it to grayscale."
      ]
    },
    {
      "cell_type": "code",
      "execution_count": null,
      "metadata": {
        "id": "Kl8xgKek7GfF"
      },
      "outputs": [],
      "source": [
        "plot(image)"
      ]
    },
    {
      "cell_type": "code",
      "execution_count": null,
      "metadata": {
        "colab": {
          "base_uri": "https://localhost:8080/"
        },
        "id": "Hf4t3SaT2WlZ",
        "outputId": "56797386-8cd9-419d-91f2-8225961fa1e2"
      },
      "outputs": [
        {
          "data": {
            "text/plain": [
              "(512, 640)"
            ]
          },
          "execution_count": 31,
          "metadata": {},
          "output_type": "execute_result"
        }
      ],
      "source": [
        "image.shape"
      ]
    },
    {
      "cell_type": "code",
      "execution_count": null,
      "metadata": {
        "id": "4eGdsOEIQmmi"
      },
      "outputs": [],
      "source": [
        "a = np.matrix([[1,2,1],[0,0,0],[-1,-2,-1]]) #This code creates a 3x3 matrix representing a simple edge detection filter."
      ]
    },
    {
      "cell_type": "code",
      "execution_count": null,
      "metadata": {
        "colab": {
          "base_uri": "https://localhost:8080/"
        },
        "id": "6rCWL2Hw6k25",
        "outputId": "8771999d-1fe0-453e-8143-785a42f9c1f3"
      },
      "outputs": [
        {
          "data": {
            "text/plain": [
              "matrix([[ 1,  2,  1],\n",
              "        [ 0,  0,  0],\n",
              "        [-1, -2, -1]])"
            ]
          },
          "execution_count": 33,
          "metadata": {},
          "output_type": "execute_result"
        }
      ],
      "source": [
        "a"
      ]
    },
    {
      "cell_type": "code",
      "execution_count": null,
      "metadata": {
        "id": "qJDkFWc12hAS"
      },
      "outputs": [],
      "source": [
        "plot(a)"
      ]
    },
    {
      "cell_type": "code",
      "execution_count": null,
      "metadata": {
        "colab": {
          "base_uri": "https://localhost:8080/"
        },
        "id": "K9Zm8s6GQmnD",
        "outputId": "5d118792-80c6-45ba-d90c-098aba675e9e"
      },
      "outputs": [
        {
          "data": {
            "text/plain": [
              "(512, 640)"
            ]
          },
          "execution_count": 35,
          "metadata": {},
          "output_type": "execute_result"
        }
      ],
      "source": [
        "image.shape"
      ]
    },
    {
      "cell_type": "code",
      "execution_count": null,
      "metadata": {
        "id": "RzR1F0SfQmnL"
      },
      "outputs": [],
      "source": [
        "y = signal.convolve2d(image, a, mode='same')\n",
        "#This code convolves the image with the edge detection filter \"a\" using 2D convolution and stores the result in \"y\"."
      ]
    },
    {
      "cell_type": "code",
      "execution_count": null,
      "metadata": {
        "id": "eK8d9zcBQmnQ"
      },
      "outputs": [],
      "source": [
        "plot(y)"
      ]
    },
    {
      "cell_type": "code",
      "execution_count": null,
      "metadata": {
        "id": "ouLRFGLgQmnX"
      },
      "outputs": [],
      "source": [
        "a = np.transpose(a) #this code flips the rows and columns of the matrix"
      ]
    },
    {
      "cell_type": "code",
      "execution_count": null,
      "metadata": {
        "colab": {
          "base_uri": "https://localhost:8080/"
        },
        "id": "iwImgFcqQmnc",
        "outputId": "2854f7eb-e1ae-485e-a31f-6787d7493bc1"
      },
      "outputs": [
        {
          "data": {
            "text/plain": [
              "matrix([[ 1,  0, -1],\n",
              "        [ 2,  0, -2],\n",
              "        [ 1,  0, -1]])"
            ]
          },
          "execution_count": 22,
          "metadata": {},
          "output_type": "execute_result"
        }
      ],
      "source": [
        "a"
      ]
    },
    {
      "cell_type": "code",
      "execution_count": null,
      "metadata": {
        "id": "qf-4F-Ro213Z"
      },
      "outputs": [],
      "source": [
        "plot(a)"
      ]
    },
    {
      "cell_type": "code",
      "execution_count": null,
      "metadata": {
        "id": "U6arVtIzQmni"
      },
      "outputs": [],
      "source": [
        "y = signal.convolve2d(image, a, mode='same')\n",
        "#This code convolves the image with the edge detection filter \"a\" using 2D convolution and stores the result in \"y\"."
      ]
    },
    {
      "cell_type": "code",
      "execution_count": null,
      "metadata": {
        "id": "Do3SbGXVQmnl"
      },
      "outputs": [],
      "source": [
        "plot(y)"
      ]
    },
    {
      "cell_type": "code",
      "execution_count": null,
      "metadata": {
        "id": "8xJw_xBOQmnq"
      },
      "outputs": [],
      "source": [
        "b = np.random.random((25,25)) #This code creates a 25x25 NumPy array filled with random numbers between 0 and 1."
      ]
    },
    {
      "cell_type": "code",
      "execution_count": null,
      "metadata": {
        "id": "Y19aPhoyQmny"
      },
      "outputs": [],
      "source": [
        "y = signal.convolve2d(image, b) #This code convolves the image with the 25x25 random array \"b\" using 2D convolution and stores the result in \"y\"."
      ]
    },
    {
      "cell_type": "code",
      "execution_count": null,
      "metadata": {
        "id": "ec7P3zu5Qmn6"
      },
      "outputs": [],
      "source": [
        "plot(y)"
      ]
    },
    {
      "cell_type": "code",
      "execution_count": null,
      "metadata": {
        "id": "asOabXwIQmoL"
      },
      "outputs": [],
      "source": [
        "x = io.imread(\"https://ichef.bbci.co.uk/news/660/cpsprodpb/C342/production/_88068994_thinkstockphotos-493881770.jpg\")\n",
        "x = x[:,:,0]\n",
        "#reads image from URL, selects only red channel, then converts to grayscale"
      ]
    },
    {
      "cell_type": "code",
      "execution_count": null,
      "metadata": {
        "id": "Y5UOYa8A3L2l"
      },
      "outputs": [],
      "source": [
        "x = x.astype(float)\n",
        "#coverts data type of array to float"
      ]
    },
    {
      "cell_type": "code",
      "execution_count": null,
      "metadata": {
        "colab": {
          "base_uri": "https://localhost:8080/"
        },
        "id": "TxnbrnaL3elL",
        "outputId": "b96c5ca1-e644-4a28-8c19-85b73f185230"
      },
      "outputs": [
        {
          "data": {
            "text/plain": [
              "array([[100., 100., 100., ..., 168., 170., 164.],\n",
              "       [100., 100., 100., ..., 169., 168., 168.],\n",
              "       [101., 101., 101., ..., 170., 166., 169.],\n",
              "       ...,\n",
              "       [ 87.,  83.,  76., ...,  84., 125.,  74.],\n",
              "       [ 52.,  64.,  77., ...,  71., 102.,  79.],\n",
              "       [ 27.,  45.,  80., ...,  50.,  64.,  68.]])"
            ]
          },
          "execution_count": 45,
          "metadata": {},
          "output_type": "execute_result"
        }
      ],
      "source": [
        "x"
      ]
    },
    {
      "cell_type": "code",
      "execution_count": null,
      "metadata": {
        "id": "qyhWBnQ23K1h"
      },
      "outputs": [],
      "source": [
        "x = x / 255.0\n",
        "plot(x)"
      ]
    },
    {
      "cell_type": "code",
      "execution_count": null,
      "metadata": {
        "colab": {
          "base_uri": "https://localhost:8080/"
        },
        "id": "DxxFYJmt3vpF",
        "outputId": "925462ff-d73f-485c-d1a4-6f7118e109b6"
      },
      "outputs": [
        {
          "data": {
            "text/plain": [
              "array([[0.39215686, 0.39215686, 0.39215686, ..., 0.65882353, 0.66666667,\n",
              "        0.64313725],\n",
              "       [0.39215686, 0.39215686, 0.39215686, ..., 0.6627451 , 0.65882353,\n",
              "        0.65882353],\n",
              "       [0.39607843, 0.39607843, 0.39607843, ..., 0.66666667, 0.65098039,\n",
              "        0.6627451 ],\n",
              "       ...,\n",
              "       [0.34117647, 0.3254902 , 0.29803922, ..., 0.32941176, 0.49019608,\n",
              "        0.29019608],\n",
              "       [0.20392157, 0.25098039, 0.30196078, ..., 0.27843137, 0.4       ,\n",
              "        0.30980392],\n",
              "       [0.10588235, 0.17647059, 0.31372549, ..., 0.19607843, 0.25098039,\n",
              "        0.26666667]])"
            ]
          },
          "execution_count": 47,
          "metadata": {},
          "output_type": "execute_result"
        }
      ],
      "source": [
        "x #displays array"
      ]
    },
    {
      "cell_type": "code",
      "execution_count": null,
      "metadata": {
        "colab": {
          "base_uri": "https://localhost:8080/"
        },
        "id": "zaPhe17Z5H_9",
        "outputId": "fc68e22d-53c4-4027-f182-015a1dbcf653"
      },
      "outputs": [
        {
          "data": {
            "text/plain": [
              "matrix([[ 1,  2,  1],\n",
              "        [ 0,  0,  0],\n",
              "        [-1, -2, -1]])"
            ]
          },
          "execution_count": 48,
          "metadata": {},
          "output_type": "execute_result"
        }
      ],
      "source": [
        "a #displays array"
      ]
    },
    {
      "cell_type": "code",
      "execution_count": null,
      "metadata": {
        "colab": {
          "base_uri": "https://localhost:8080/"
        },
        "id": "-ZHFEJKG5JQN",
        "outputId": "c6f69814-c4ab-41b2-a4f6-d116a33d5397"
      },
      "outputs": [
        {
          "data": {
            "text/plain": [
              "0"
            ]
          },
          "execution_count": 49,
          "metadata": {},
          "output_type": "execute_result"
        }
      ],
      "source": [
        "a[1,1] #element at the second row and second column"
      ]
    },
    {
      "cell_type": "code",
      "execution_count": null,
      "metadata": {
        "id": "QMTh2gCEQmoz"
      },
      "outputs": [],
      "source": [
        "def conv2(x,f):\n",
        "    x2 = np.zeros(x.shape)\n",
        "    for i in range(1,x.shape[0]-1):\n",
        "        for j in range(1,x.shape[1]-1):\n",
        "\n",
        "            x2[i,j] = f[0,0] * x[i-1,j-1]  \\\n",
        "            +         f[0,1] * x[i-1,j]    \\\n",
        "            +         f[0,2] * x[i-1,j+1]  \\\n",
        "            +         f[1,0] * x[i,j-1]    \\\n",
        "            +         f[1,1] * x[i,j]      \\\n",
        "            +         f[1,2] * x[i,j+1]    \\\n",
        "            +         f[2,0] * x[i+1,j-1]  \\\n",
        "            +         f[2,1] * x[i+1,j]    \\\n",
        "            +         f[2,2] * x[i+1,j+1]\n",
        "\n",
        "    return x2\n",
        "#This Python function, conv2, performs a 2D convolution operation on the input\n",
        "#array x using the filter f. It iterates over each element of the array,\n",
        "#applying the convolution operation using the specified filter coefficients.\n",
        "#The result is stored in a new array x2, which is then returned."
      ]
    },
    {
      "cell_type": "code",
      "execution_count": null,
      "metadata": {
        "id": "0sgJ0uhBQmo1"
      },
      "outputs": [],
      "source": [
        "a = np.matrix([[-1,-1,-1],[-1,8,-1],[-1,-1,-1]])\n",
        "#The variable \"a\" is assigned a 3x3 matrix representing a basic sharpening filter, with a central coefficient of 8 surrounded by -1 coefficients.\n",
        "\n",
        "# a = np.matrix([[1,2,1],[0,0,0],[-1,-2,-1]])\n",
        "# a = np.matrix([[1,1,1],[1,1,1],[1,1,1]])\n",
        "# a = 5*np.random.random((3,3))-5*np.random.random((3,3))"
      ]
    },
    {
      "cell_type": "code",
      "execution_count": null,
      "metadata": {
        "colab": {
          "base_uri": "https://localhost:8080/"
        },
        "id": "fqnhhWCzQmo4",
        "outputId": "8f854068-71dc-4cf5-d725-b976f43184e5"
      },
      "outputs": [
        {
          "data": {
            "text/plain": [
              "matrix([[-1, -1, -1],\n",
              "        [-1,  8, -1],\n",
              "        [-1, -1, -1]])"
            ]
          },
          "execution_count": 53,
          "metadata": {},
          "output_type": "execute_result"
        }
      ],
      "source": [
        "a #displays matrix"
      ]
    },
    {
      "cell_type": "code",
      "execution_count": null,
      "metadata": {
        "id": "yANPiYBjQmo7"
      },
      "outputs": [],
      "source": [
        "z = conv2(x,a) #performs a 2D convolution operation, to the array \"x\" using the filter \"a\", and stores the result in \"z\"."
      ]
    },
    {
      "cell_type": "code",
      "execution_count": null,
      "metadata": {
        "id": "WTS9ARVQQmpA"
      },
      "outputs": [],
      "source": [
        "plot(z)"
      ]
    },
    {
      "cell_type": "code",
      "execution_count": null,
      "metadata": {
        "colab": {
          "background_save": true
        },
        "id": "T_P9aXJ6QmpO"
      },
      "outputs": [],
      "source": [
        "for i in range(10):\n",
        "    a = 2*np.random.random((3,3))-1\n",
        "    print(a)\n",
        "    z=conv2(x,a)\n",
        "    plot(z)\n",
        "#This code iterates 10 times, each time generating a random 3x3 array with values\n",
        "#between -1 and 1, convolving it with the image array \"x\" using the conv2\n",
        "#function, and then plotting the result. This effectively applies random 3x3\n",
        "#filters to the image and visualizes the output."
      ]
    },
    {
      "cell_type": "code",
      "execution_count": null,
      "metadata": {
        "id": "05FQHdSTzAeN"
      },
      "outputs": [],
      "source": []
    },
    {
      "cell_type": "code",
      "execution_count": null,
      "metadata": {
        "colab": {
          "base_uri": "https://localhost:8080/"
        },
        "id": "dFOWcXkGyoth",
        "outputId": "7baa5290-e064-4391-aa61-c2053cd76272"
      },
      "outputs": [
        {
          "output_type": "stream",
          "name": "stdout",
          "text": [
            "Seconds: 8.46601152420044\n"
          ]
        }
      ],
      "source": [
        "#Homemade Conv Loop Timing\n",
        "a = 2*np.random.random((9,3,3))-1\n",
        "start_time = time.time()\n",
        "for i in range(9):\n",
        "\n",
        "    z=conv2(x,a[i,:,:])\n",
        "\n",
        "print(\"Seconds:\", (time.time() - start_time))\n",
        "#This code generates 9 random 3x3 filters stored in a 3D NumPy array \"a\".\n",
        "#Then, it measures the time taken to convolve each filter with the image array\n",
        "# \"x\" using a loop and the conv2 function. Finally, it prints the elapsed time in seconds."
      ]
    },
    {
      "cell_type": "code",
      "execution_count": null,
      "metadata": {
        "colab": {
          "base_uri": "https://localhost:8080/"
        },
        "id": "smAO2FA3zb8I",
        "outputId": "3b2dc825-e444-4cf5-be15-adb0ff3f3c38"
      },
      "outputs": [
        {
          "output_type": "stream",
          "name": "stdout",
          "text": [
            "--- 0.10261416435241699 seconds ---\n"
          ]
        }
      ],
      "source": [
        "#Optimized Code Timing\n",
        "a = 2*np.random.random((9,3,3))-1\n",
        "start_time = time.time()\n",
        "for i in range(9):\n",
        "\n",
        "    z = signal.convolve2d(x,a[i,:,:])\n",
        "\n",
        "print(\"--- %s seconds ---\" % (time.time() - start_time))\n",
        "#This code generates 9 random 3x3 filters stored in a 3D NumPy array \"a\".\n",
        "#Then, it measures the time taken to convolve each filter with the image array\n",
        "#\"x\" using `signal.convolve2d` function from the SciPy library.\n",
        "#Finally, it prints the elapsed time in seconds."
      ]
    },
    {
      "cell_type": "code",
      "execution_count": null,
      "metadata": {
        "colab": {
          "base_uri": "https://localhost:8080/"
        },
        "id": "Fcb8i2KYhqhe",
        "outputId": "d2501062-9655-4ef7-e264-d1fedea76f7d"
      },
      "outputs": [
        {
          "output_type": "stream",
          "name": "stdout",
          "text": [
            "--- 0.5753672122955322 seconds ---\n"
          ]
        }
      ],
      "source": [
        "#GPU Processing Timing, No Loop, 96 filters!!\n",
        "a2 = 2*np.random.random((96,1,3,3))-1\n",
        "x2 = torch.tensor(x).cuda()\n",
        "a2 = torch.tensor(a2).cuda()\n",
        "x2 = x2[None,None,:,:]\n",
        "\n",
        "start_time = time.time()\n",
        "z = conv2d(x2,a2)\n",
        "print(\"--- %s seconds ---\" % (time.time() - start_time))\n",
        "#This code seems to be utilizing GPU processing for convolutional operations\n",
        "#using PyTorch. It generates 96 random 3x3 filters stored in a 4D tensor \"a2\"\n",
        "#and converts the image array \"x\" to a PyTorch tensor, then moves them to the\n",
        "#GPU memory. After that, it applies the convolution operation using the conv2d\n",
        "#function without a loop. Finally, it measures and prints the elapsed time in seconds."
      ]
    },
    {
      "cell_type": "code",
      "execution_count": null,
      "metadata": {
        "colab": {
          "base_uri": "https://localhost:8080/"
        },
        "id": "u3x-BeQJhqkF",
        "outputId": "b72f45e9-2bfc-4699-d868-6a75d720926b"
      },
      "outputs": [
        {
          "output_type": "execute_result",
          "data": {
            "text/plain": [
              "torch.Size([1, 96, 369, 658])"
            ]
          },
          "metadata": {},
          "execution_count": 60
        }
      ],
      "source": [
        "z.shape"
      ]
    },
    {
      "cell_type": "code",
      "execution_count": null,
      "metadata": {
        "id": "b-3tmd0ehqqy"
      },
      "outputs": [],
      "source": []
    },
    {
      "cell_type": "code",
      "execution_count": null,
      "metadata": {
        "id": "1DQ8A5WgD5gZ"
      },
      "outputs": [],
      "source": [
        "image = io.imread(\"https://img.jagranjosh.com/imported/images/E/Articles/Fastest-Fish-img.jpg\").astype(float)/255.0\n",
        "plot(image)"
      ]
    },
    {
      "cell_type": "code",
      "execution_count": null,
      "metadata": {
        "colab": {
          "base_uri": "https://localhost:8080/"
        },
        "id": "Wxwx9G3FEwGP",
        "outputId": "dbf0a6d0-4352-4208-cf6c-2ae5eed6c51b"
      },
      "outputs": [
        {
          "output_type": "execute_result",
          "data": {
            "text/plain": [
              "(675, 1200, 3)"
            ]
          },
          "metadata": {},
          "execution_count": 62
        }
      ],
      "source": [
        "image.shape #gives image array dimensions"
      ]
    },
    {
      "cell_type": "code",
      "execution_count": null,
      "metadata": {
        "id": "4m_-cm-q8oxi"
      },
      "outputs": [],
      "source": [
        "plot(np.random.random((11,11,3)))\n",
        "#This code plots a random 11x11x3 array as an RGB image."
      ]
    },
    {
      "cell_type": "code",
      "execution_count": null,
      "metadata": {
        "id": "qK4RRU2CIbTR"
      },
      "outputs": [],
      "source": [
        "image = np.transpose(image, (2, 0, 1))\n",
        "#This code transposes the dimensions of the array \"image\" such that the new dimensions are (3, height, width)."
      ]
    },
    {
      "cell_type": "code",
      "execution_count": null,
      "metadata": {
        "colab": {
          "base_uri": "https://localhost:8080/"
        },
        "id": "-699sS_062E3",
        "outputId": "ec03ef53-b366-4371-ff12-804d828adc1d"
      },
      "outputs": [
        {
          "output_type": "execute_result",
          "data": {
            "text/plain": [
              "(3, 675, 1200)"
            ]
          },
          "metadata": {},
          "execution_count": 65
        }
      ],
      "source": [
        "image.shape\n",
        "#giving dimensions"
      ]
    },
    {
      "cell_type": "code",
      "execution_count": null,
      "metadata": {
        "id": "GhkGoxDDIP03"
      },
      "outputs": [],
      "source": [
        "f = np.random.random((1,3,11,11))\n",
        "# creates a random 4D array \"f\" with dimensions, where the first dimension likely represents the number of filters, the second dimension represents the number of input channels, and the last two dimensions represent the filter size"
      ]
    },
    {
      "cell_type": "code",
      "execution_count": null,
      "metadata": {
        "colab": {
          "base_uri": "https://localhost:8080/"
        },
        "id": "EgQdjbvu7SZ7",
        "outputId": "68d61324-9011-479a-b725-a75bcabfd397"
      },
      "outputs": [
        {
          "output_type": "execute_result",
          "data": {
            "text/plain": [
              "(3, 675, 1200)"
            ]
          },
          "metadata": {},
          "execution_count": 67
        }
      ],
      "source": [
        "image.shape"
      ]
    },
    {
      "cell_type": "code",
      "execution_count": null,
      "metadata": {
        "id": "SfGU7tj8JEH-"
      },
      "outputs": [],
      "source": [
        "image = image[None,:,:,:]\n",
        "#This code adds a new dimension to the array \"image\" at the beginning, effectively converting it into a 4D array. The shape of \"image\" would now be (1, 3, height, width), assuming \"height\" and \"width\" represent the dimensions of the image."
      ]
    },
    {
      "cell_type": "code",
      "execution_count": null,
      "metadata": {
        "colab": {
          "base_uri": "https://localhost:8080/"
        },
        "id": "mUEvvr4EIL0j",
        "outputId": "57b74d08-83f4-4f2c-9ab2-6430d27e951a"
      },
      "outputs": [
        {
          "output_type": "execute_result",
          "data": {
            "text/plain": [
              "((1, 3, 675, 1200), (1, 3, 11, 11))"
            ]
          },
          "metadata": {},
          "execution_count": 69
        }
      ],
      "source": [
        "image.shape,f.shape\n",
        "#givess dimensions of both"
      ]
    },
    {
      "cell_type": "code",
      "execution_count": null,
      "metadata": {
        "id": "GAwaT-IjI1GV"
      },
      "outputs": [],
      "source": [
        "f =  torch.tensor(f)\n",
        "image =  torch.tensor(image)\n",
        "#This code converts NumPy arrays \"f\" and \"image\" into PyTorch tensors."
      ]
    },
    {
      "cell_type": "code",
      "execution_count": null,
      "metadata": {
        "id": "l0cRaRrXad6T"
      },
      "outputs": [],
      "source": [
        "image2 = F.conv2d(image,f)\n",
        "#This code applies a 2D convolution operation to the input image tensor \"image\" using the filter tensor \"f\" with the PyTorch function `F.conv2d`, and stores the result in the tensor \"image2\"."
      ]
    },
    {
      "cell_type": "code",
      "execution_count": null,
      "metadata": {
        "id": "mGRunFIgEzFh"
      },
      "outputs": [],
      "source": [
        "image2 = image2.numpy() #This code converts the PyTorch tensor \"image2\" back to a NumPy array."
      ]
    },
    {
      "cell_type": "code",
      "execution_count": null,
      "metadata": {
        "colab": {
          "base_uri": "https://localhost:8080/"
        },
        "id": "O1QSkaNpJyDn",
        "outputId": "dbff32b6-fe07-4a86-96d9-58ab4a9b44a2"
      },
      "outputs": [
        {
          "output_type": "execute_result",
          "data": {
            "text/plain": [
              "(1, 1, 665, 1190)"
            ]
          },
          "metadata": {},
          "execution_count": 73
        }
      ],
      "source": [
        "image2.shape"
      ]
    },
    {
      "cell_type": "code",
      "execution_count": null,
      "metadata": {
        "colab": {
          "base_uri": "https://localhost:8080/"
        },
        "id": "7dg_G5Ik8U2G",
        "outputId": "f94231ba-ae89-49b5-8812-1a29989c8568"
      },
      "outputs": [
        {
          "output_type": "execute_result",
          "data": {
            "text/plain": [
              "(665, 1190)"
            ]
          },
          "metadata": {},
          "execution_count": 74
        }
      ],
      "source": [
        "image2[0,0,:,:].shape\n",
        "# indicates the dimensions of a specific slice of the tensor \"image2\". Since the slice represents a single channel of the output image (after convolution), the shape would typically correspond to the height and width of that channel"
      ]
    },
    {
      "cell_type": "code",
      "execution_count": null,
      "metadata": {
        "id": "sPVGAU44EzDu"
      },
      "outputs": [],
      "source": [
        "plot(image2[0,0,:,:])\n",
        "#This code plots a specific channel of the output image tensor \"image2\" after convolution."
      ]
    },
    {
      "cell_type": "code",
      "execution_count": null,
      "metadata": {
        "id": "19tnPbXiEy-6"
      },
      "outputs": [],
      "source": []
    },
    {
      "cell_type": "code",
      "execution_count": null,
      "metadata": {
        "id": "jECnUt1fQmq_"
      },
      "outputs": [],
      "source": [
        "image = io.imread(\"http://ian-albert.com/games/super_mario_bros_maps/mario-2-2.gif\")\n",
        "image = image[:,0:700,:]\n",
        "plot(image)\n",
        "#reads image from URL and then selects a portion of the image by slicing along the second axis, retaining only the columns up to index 700. Finally, it plots the resulting image."
      ]
    },
    {
      "cell_type": "code",
      "execution_count": null,
      "metadata": {
        "id": "dZPcBH4yQmrC"
      },
      "outputs": [],
      "source": [
        "coin = image[185:200,224:239,:]\n",
        "#This code selects a specific region of the image, likely representing a coin, by slicing the array \"image\" along the first and second axes. The selected region spans from row 185 to row 199 (inclusive) and from column 224 to column 238 (inclusive), including all color channels."
      ]
    },
    {
      "cell_type": "code",
      "execution_count": null,
      "metadata": {
        "id": "G9G1DGbqQmrE"
      },
      "outputs": [],
      "source": [
        "plot(coin)"
      ]
    },
    {
      "cell_type": "code",
      "execution_count": null,
      "metadata": {
        "id": "fPX2DzPELMnO"
      },
      "outputs": [],
      "source": [
        "image = image[60:,0:700,:]\n",
        "plot(image)\n",
        "#This code updates \"image\" by cropping the top 60 rows and retaining columns up to index 700, then plots the result."
      ]
    },
    {
      "cell_type": "code",
      "execution_count": null,
      "metadata": {
        "id": "FcRyH-rsQmrJ"
      },
      "outputs": [],
      "source": [
        "def scale1(x):\n",
        "    return (x-np.min(x))/(np.max(x)-np.min(x))\n",
        "#This function scales the input array \"x\" to the range [0, 1]."
      ]
    },
    {
      "cell_type": "code",
      "execution_count": null,
      "metadata": {
        "id": "KNI7f_OTQmrK"
      },
      "outputs": [],
      "source": [
        "image = np.mean(image,axis=2)\n",
        "coin = np.mean(coin,axis=2)\n",
        "\n",
        "image = scale1(image)\n",
        "coin = scale1(coin)\n",
        "#These lines convert the image and coin regions to grayscale, then scale their intensity values to the range [0, 1]."
      ]
    },
    {
      "cell_type": "code",
      "execution_count": null,
      "metadata": {
        "id": "_VHszJ6UQmrN"
      },
      "outputs": [],
      "source": [
        "plot(image)\n",
        "plot(coin)"
      ]
    },
    {
      "cell_type": "code",
      "execution_count": null,
      "metadata": {
        "colab": {
          "base_uri": "https://localhost:8080/"
        },
        "id": "S2HhDwN8QmrP",
        "outputId": "bcd364fc-6eb2-469c-dff6-f430604f75c8"
      },
      "outputs": [
        {
          "output_type": "execute_result",
          "data": {
            "text/plain": [
              "(15, 15)"
            ]
          },
          "metadata": {},
          "execution_count": 83
        }
      ],
      "source": [
        "coin.shape"
      ]
    },
    {
      "cell_type": "code",
      "execution_count": null,
      "metadata": {
        "id": "kVhlm83_Pzg2"
      },
      "outputs": [],
      "source": [
        "image = image - np.mean(image)\n",
        "coin = coin - np.mean(coin)\n",
        "#These lines subtract the mean intensity value from every pixel in the image and coin regions, respectively."
      ]
    },
    {
      "cell_type": "code",
      "execution_count": null,
      "metadata": {
        "colab": {
          "base_uri": "https://localhost:8080/"
        },
        "id": "wUxziwUiMjO4",
        "outputId": "d0f10516-52b3-4ae2-f1cc-d05ef4ed29fa"
      },
      "outputs": [
        {
          "output_type": "execute_result",
          "data": {
            "text/plain": [
              "((164, 700), (15, 15))"
            ]
          },
          "metadata": {},
          "execution_count": 85
        }
      ],
      "source": [
        "image.shape,coin.shape"
      ]
    },
    {
      "cell_type": "code",
      "execution_count": null,
      "metadata": {
        "id": "xyKXt4pU77Sg"
      },
      "outputs": [],
      "source": [
        "coin = np.rot90(coin, 2)\n",
        "#This code rotates the coin region by 180 degrees, effectively flipping it upside down."
      ]
    },
    {
      "cell_type": "code",
      "execution_count": null,
      "metadata": {
        "id": "Y2B6Tg0D7-BF"
      },
      "outputs": [],
      "source": [
        "plot(coin)"
      ]
    },
    {
      "cell_type": "code",
      "execution_count": null,
      "metadata": {
        "id": "XnJHgNVPPza8"
      },
      "outputs": [],
      "source": [
        "z = signal.convolve2d(image,coin)\n",
        "#This code performs a 2D convolution operation between the image and the coin filter using the SciPy `signal.convolve2d` function, and stores the result in \"z\"."
      ]
    },
    {
      "cell_type": "code",
      "execution_count": null,
      "metadata": {
        "id": "_xOJLCAg9eQ7"
      },
      "outputs": [],
      "source": [
        "# z = conv2(image,coin)"
      ]
    },
    {
      "cell_type": "code",
      "execution_count": null,
      "metadata": {
        "id": "W5bzaMW9P6XP"
      },
      "outputs": [],
      "source": [
        "plot(z)"
      ]
    },
    {
      "cell_type": "code",
      "execution_count": null,
      "metadata": {
        "colab": {
          "base_uri": "https://localhost:8080/"
        },
        "id": "5kKBHKR78UyQ",
        "outputId": "21b78f1c-3f5f-4f8c-c6b5-13b0044d3ba2"
      },
      "outputs": [
        {
          "data": {
            "text/plain": [
              "array([[False, False, False, ..., False, False, False],\n",
              "       [False, False, False, ..., False, False, False],\n",
              "       [False, False, False, ..., False, False, False],\n",
              "       ...,\n",
              "       [False, False, False, ..., False, False, False],\n",
              "       [False, False, False, ..., False, False, False],\n",
              "       [False, False, False, ..., False, False, False]])"
            ]
          },
          "execution_count": 76,
          "metadata": {},
          "output_type": "execute_result"
        }
      ],
      "source": [
        "z == np.max(z)\n",
        "#This expression checks if every element in the array \"z\" is equal to the maximum value in \"z\", resulting in a boolean array indicating whether each element is the maximum value in \"z\"."
      ]
    },
    {
      "cell_type": "code",
      "execution_count": null,
      "metadata": {
        "id": "1oRZ_c3QQ0XK"
      },
      "outputs": [],
      "source": [
        "plot(z==np.max(z))\n",
        "#This code plots a binary image where white pixels represent locations where the convolution result \"z\" equals the maximum value in \"z\", and black pixels represent other locations."
      ]
    },
    {
      "cell_type": "code",
      "execution_count": null,
      "metadata": {
        "colab": {
          "base_uri": "https://localhost:8080/"
        },
        "id": "_Yyoagfa8hqP",
        "outputId": "a6cd25b7-eece-4057-adec-e32a83c04888"
      },
      "outputs": [
        {
          "output_type": "execute_result",
          "data": {
            "text/plain": [
              "(array([ 27,  27,  27, 139, 139, 139, 139, 139]),\n",
              " array([446, 462, 478, 238, 254, 590, 606, 622]))"
            ]
          },
          "metadata": {},
          "execution_count": 91
        }
      ],
      "source": [
        "np.where(z == np.amax(z))\n",
        "#This code returns the indices of the maximum value in the array \"z\" using NumPy's `np.where` function."
      ]
    },
    {
      "cell_type": "code",
      "execution_count": null,
      "metadata": {
        "id": "K_iZJ-q8UADI"
      },
      "outputs": [],
      "source": [
        "[y,x] = np.where(z == np.amax(z))\n",
        "#This code assigns the row indices to \"y\" and the column indices to \"x\" where the maximum value in the array \"z\" occurs, using NumPy's `np.where` function."
      ]
    },
    {
      "cell_type": "code",
      "execution_count": null,
      "metadata": {
        "id": "GtAbHFN4UADM"
      },
      "outputs": [],
      "source": [
        "plt.plot(x,-y,'.')\n",
        "#This code plots the points represented by the indices \"x\" and \"y\", where the negative of \"y\" is used to flip the y-axis direction, using dots ('.') as markers."
      ]
    },
    {
      "cell_type": "code",
      "execution_count": null,
      "metadata": {
        "id": "uyTyWwxTUADQ"
      },
      "outputs": [],
      "source": [
        "fig, ax = plt.subplots()\n",
        "im = ax.imshow(image, cmap = 'gray')\n",
        "ax.axis('off')\n",
        "ax.scatter(x-6, y-6, c='red', s=40)\n",
        "fig.set_size_inches(18, 10)\n",
        "#This code creates a figure with axes, displays the grayscale image \"image\" using a grayscale colormap, removes axis labels, and then plots red dots at the coordinates (x-6, y-6) on the image. Finally, it sets the figure size to 18x10 inches."
      ]
    },
    {
      "cell_type": "code",
      "execution_count": null,
      "metadata": {
        "id": "JZlc2NxVGph1"
      },
      "outputs": [],
      "source": []
    },
    {
      "cell_type": "code",
      "execution_count": null,
      "metadata": {
        "id": "zaytem0QTTYg"
      },
      "outputs": [],
      "source": [
        "def conv2(w,f): #GPU conv with padding\n",
        "\n",
        "    n = conv2d(w.type(torch.int),f.type(torch.int))\n",
        "    n = pad(n, (1, 1, 1, 1)) #add ones to the sides of the matrix\n",
        "\n",
        "    return n\n",
        "#This function `conv2` performs convolution with padding using GPU. It first applies convolution using `conv2d` function, then adds padding to the resulting tensor \"n\" with ones on all sides."
      ]
    },
    {
      "cell_type": "code",
      "execution_count": null,
      "metadata": {
        "id": "cXvjyeTTPlej"
      },
      "outputs": [],
      "source": [
        "#Game of Life"
      ]
    },
    {
      "cell_type": "code",
      "execution_count": null,
      "metadata": {
        "id": "evaLUbgXBa70"
      },
      "outputs": [],
      "source": [
        "w = (np.random.random((100,100)) > 0.5) #game of life world grid w\n",
        "f = np.matrix([[1,1,1],[1,0,1],[1,1,1]])\n",
        "#This code generates a 100x100 boolean grid \"w\" for the Game of Life, where each cell is randomly set to True (alive) or False (dead) based on a probability threshold of 0.5. Additionally, it defines a 3x3 matrix \"f\" as a filter for the Game of Life rules."
      ]
    },
    {
      "cell_type": "code",
      "execution_count": null,
      "metadata": {
        "colab": {
          "base_uri": "https://localhost:8080/"
        },
        "id": "7fLtZGXkGnec",
        "outputId": "84c0e9dc-d373-47bd-de68-523ea4277419"
      },
      "outputs": [
        {
          "data": {
            "text/plain": [
              "matrix([[1, 1, 1],\n",
              "        [1, 0, 1],\n",
              "        [1, 1, 1]])"
            ]
          },
          "execution_count": 85,
          "metadata": {},
          "output_type": "execute_result"
        }
      ],
      "source": [
        "f\n",
        "#In the Game of Life, this filter is typically used to calculate the next state of a cell based on its neighbors. Specifically, each cell's next state depends on the sum of its surrounding neighbors' states."
      ]
    },
    {
      "cell_type": "code",
      "execution_count": null,
      "metadata": {
        "id": "YHXcxGRSYiB1"
      },
      "outputs": [],
      "source": [
        "plot(w)\n",
        "#This code plots the Game of Life world grid \"w\", representing alive cells as white and dead cells as black."
      ]
    },
    {
      "cell_type": "code",
      "execution_count": null,
      "metadata": {
        "id": "Qwfy3_A3N2i8"
      },
      "outputs": [],
      "source": [
        "steps = 1000\n",
        "A = torch.zeros((steps,100,100)) # storage for frames for animation\n",
        "w = torch.tensor(w.astype(int))[None,None,:,:]\n",
        "f = torch.tensor(f.astype(int))[None,None,:,:]\n",
        "#This code sets up variables for simulating the Game of Life. It specifies the number of steps to simulate (`steps`), initializes storage for frames for animation (`A`), converts the boolean grid \"w\" and the filter \"f\" to PyTorch tensors, and adds singleton dimensions to make them compatible for convolution operations."
      ]
    },
    {
      "cell_type": "code",
      "execution_count": null,
      "metadata": {
        "id": "9xwVM05CdL3F"
      },
      "outputs": [],
      "source": [
        "# %%timeit\n",
        "n = conv2(w,f)\n",
        "#This code calculates the time it takes to perform the convolution operation between the Game of Life world grid \"w\" and the filter \"f\" using the function `conv2`."
      ]
    },
    {
      "cell_type": "code",
      "execution_count": null,
      "metadata": {
        "id": "0KbyiuVgIYtk"
      },
      "outputs": [],
      "source": [
        "# (n==2)[0,0,:,:].shape"
      ]
    },
    {
      "cell_type": "code",
      "execution_count": null,
      "metadata": {
        "id": "wRW-fTrgIJdX"
      },
      "outputs": [],
      "source": [
        "plot((n==2)[0,0,:,:]) #This code plots a binary image where white pixels represent locations where the number of neighbors in the convolution result \"n\" is equal to 2, and black pixels represent other locations."
      ]
    },
    {
      "cell_type": "code",
      "execution_count": null,
      "metadata": {
        "id": "3f6CPNNOBa8E"
      },
      "outputs": [],
      "source": [
        "for i in range(steps):\n",
        "#This line starts a loop that iterates over the range of steps specified by the variable\n",
        "    n = conv2(w,f)\n",
        "#This line calculates the next state of the Game of Life world grid by applying the convolution operation between the current grid w and the filter f, resulting in a new grid n.\n",
        "    w = (w * (n==2)) + (n==3)\n",
        "#This line updates the world grid w based on the Game of Life rules: a cell survives if it has exactly 2 neighbors ((n==2)), represented by element-wise multiplication with the current grid w (w * (n==2)), and a cell is born if it has exactly 3 neighbors ((n==3)), represented by addition with the condition (n==3).\n",
        "    A[i] = w\n",
        "#This line stores the updated world grid w in the storage array A at the index i, representing the state of the world grid at the current step."
      ]
    },
    {
      "cell_type": "code",
      "execution_count": null,
      "metadata": {
        "id": "0jvDf5VOU4SB"
      },
      "outputs": [],
      "source": [
        "make_ani(A)\n",
        "#This function creates an animation from the frames stored in the array \"A\"."
      ]
    },
    {
      "cell_type": "code",
      "execution_count": null,
      "metadata": {
        "id": "vqAJiwxHO4zV"
      },
      "outputs": [],
      "source": []
    },
    {
      "cell_type": "code",
      "execution_count": null,
      "metadata": {
        "id": "KhTZXCJAO41N"
      },
      "outputs": [],
      "source": []
    },
    {
      "cell_type": "code",
      "execution_count": null,
      "metadata": {
        "id": "Je7xkxqoPj_c"
      },
      "outputs": [],
      "source": []
    },
    {
      "cell_type": "code",
      "execution_count": null,
      "metadata": {
        "id": "x8L7MvClPkBd"
      },
      "outputs": [],
      "source": [
        "#Surface Tension Model"
      ]
    },
    {
      "cell_type": "code",
      "execution_count": null,
      "metadata": {
        "id": "OgacR3r7Ba8Q"
      },
      "outputs": [],
      "source": [
        "w = (np.random.random((100,100)) > 0.5).astype(int)\n",
        "f = np.matrix([[1,1,1],[1,1,1],[1,1,1]])\n",
        "#This code initializes a random 100x100 binary grid \"w\" and sets up a filter \"f\" for a surface tension model."
      ]
    },
    {
      "cell_type": "code",
      "execution_count": null,
      "metadata": {
        "id": "jT2wV5NFQywf"
      },
      "outputs": [],
      "source": [
        "steps = 200\n",
        "A = torch.zeros((steps,100,100)) # storage for frames for animation\n",
        "w = torch.tensor(w)[None,None,:,:]\n",
        "f = torch.tensor(f)[None,None,:,:]\n",
        "#These lines set up variables for simulating a surface tension model: specifying the number of steps (`steps`), initializing storage for animation frames (`A`), and converting the binary grid \"w\" and the filter \"f\" to PyTorch tensors, adding singleton dimensions to make them compatible for convolution operations."
      ]
    },
    {
      "cell_type": "code",
      "execution_count": null,
      "metadata": {
        "id": "w1CVmMSHBa8R"
      },
      "outputs": [],
      "source": [
        "for i in range(steps):\n",
        "#This line starts a loop that iterates over the range of steps specified by the variable\n",
        "    n = conv2(w,f)\n",
        "#This line calculates the convolution of the grid \"w\" with the filter \"f\" and stores the result in \"n\".\n",
        "    w = ~((n<4) + (n==5))\n",
        "#This line updates the grid \"w\" based on the surface tension model rules: cells survive if they have fewer than 4 neighbors and do not have exactly 5 neighbors.\n",
        "    A[i] = w\n",
        "#This line stores the updated grid \"w\" in the storage array \"A\" at index \"i\", representing the state of the grid at the current step."
      ]
    },
    {
      "cell_type": "code",
      "execution_count": null,
      "metadata": {
        "id": "1BYyj5yfPucA"
      },
      "outputs": [],
      "source": [
        "make_ani(A)"
      ]
    },
    {
      "cell_type": "code",
      "execution_count": null,
      "metadata": {
        "id": "FTvtOwk-U9hG"
      },
      "outputs": [],
      "source": []
    },
    {
      "cell_type": "code",
      "execution_count": null,
      "metadata": {
        "id": "nj8GWnRJPumy"
      },
      "outputs": [],
      "source": [
        "#Forest Fire Model"
      ]
    },
    {
      "cell_type": "code",
      "execution_count": null,
      "metadata": {
        "id": "he7_yy6HBa8c"
      },
      "outputs": [],
      "source": [
        "# veg = {empty=0 burning=1 green=2}"
      ]
    },
    {
      "cell_type": "code",
      "execution_count": null,
      "metadata": {
        "id": "7rp5CRBZBa8V"
      },
      "outputs": [],
      "source": [
        "Plightning = 0.00005\n",
        "#This line sets the probability of lightning strikes in the forest fire model to a low value of 0.00005.\n",
        "Pgrowth = 0.01\n",
        "#This line sets the probability of tree growth in the forest fire model to 0.01.\n",
        "w = (np.random.random((100,100)) > 0.5).astype(int)\n",
        "#This line initializes a random 100x100 binary grid \"w\", where cells are set to 1 if the random value is greater than 0.5 (representing trees) and 0 otherwise.\n",
        "f = np.matrix([[1,1,1],[1,0,1],[1,1,1]])\n",
        "#This line initializes a 3x3 matrix \"f\" representing a filter for the forest fire model, where the central cell is empty (0) and the surrounding cells represent neighboring trees.\n",
        "steps = 1000\n",
        "A = torch.zeros((steps,100,100)) # storage for frames for animation\n",
        "#This line initializes storage for frames for animation, creating a tensor with dimensions (steps, 100, 100) to store the state of the grid at each step.\n",
        "w = torch.tensor(w)[None,None,:,:]\n",
        "#This line converts the binary grid \"w\" to a PyTorch tensor and adds singleton dimensions to make it compatible for convolution operations.\n",
        "f = torch.tensor(f)[None,None,:,:]\n",
        "#This line converts the filter \"f\" to a PyTorch tensor and adds singleton dimensions to make it compatible for convolution operations."
      ]
    },
    {
      "cell_type": "code",
      "execution_count": null,
      "metadata": {
        "id": "YuSZFUddBa8f"
      },
      "outputs": [],
      "source": [
        "for i in range(steps):\n",
        "\n",
        "    n = w == 1\n",
        "#This line initializes a grid \"n\" where cells are set to True if they contain trees (value 1) in the grid \"w\", and False otherwise.\n",
        "    n = conv2(n,f)\n",
        "#This line calculates the convolution of the grid \"n\" with the filter \"f\", resulting in a new grid \"n\" representing the count of neighboring trees for each cell.\n",
        "    w =  2*((w == 2)).type(torch.int)                                                \\\n",
        "    -    1*((w == 2) * ( n > 0 ) ).type(torch.int)                                   \\\n",
        "    -    1*((w == 2) * ( np.random.random((100,100)) < Plightning)).type(torch.int)  \\\n",
        "    +    2*((w == 0) * ( np.random.random((100,100)) < Pgrowth)).type(torch.int)\n",
        "\n",
        "    A[i] = w\n",
        "#These lines update the forest grid \"w\" based on the Forest Fire Model rules, incorporating tree survival, ignition, and growth probabilities, and store the updated grid \"w\" in the storage array \"A\" at each step for animation."
      ]
    },
    {
      "cell_type": "code",
      "execution_count": null,
      "metadata": {
        "id": "OvXbOBEmPyHs"
      },
      "outputs": [],
      "source": [
        "make_ani(A, colormap='magma')\n",
        "#This function generates an animation from the frames stored in the array \"A\", using the \"magma\" colormap for visualization."
      ]
    },
    {
      "cell_type": "code",
      "execution_count": null,
      "metadata": {
        "id": "jJ8aZYr_VmaY"
      },
      "outputs": [],
      "source": []
    },
    {
      "cell_type": "code",
      "execution_count": null,
      "metadata": {
        "id": "u9ojb1VgPyQ0"
      },
      "outputs": [],
      "source": [
        "#Nonlinear Waves"
      ]
    },
    {
      "cell_type": "code",
      "execution_count": null,
      "metadata": {
        "id": "9tb6o1VsBa8j"
      },
      "outputs": [],
      "source": [
        "w = np.random.random((100,100)) < 0.1\n",
        "f = np.matrix([[1,1,1],[1,0,1],[1,1,1]])\n",
        "\n",
        "t  = 6  #center value=6; 7 makes fast pattern; 5 analiating waves\n",
        "t1 = 3  #center value=3\n",
        "\n",
        "steps = 1000\n",
        "A = torch.zeros((steps,100,100)) # storage for frames for animation\n",
        "w = torch.from_numpy(w)[None,None,:,:]\n",
        "f = torch.from_numpy(f)[None,None,:,:]\n",
        "#This code sets up variables for simulating nonlinear waves: initializing a\n",
        "#random 100x100 grid \"w\" with a low probability of active cells, defining a\n",
        "#filter \"f\" for wave propagation, and specifying parameters for the simulation\n",
        "#such as the wave center values \"t\" and \"t1\", the number of steps, and storage for animation frames."
      ]
    },
    {
      "cell_type": "code",
      "execution_count": null,
      "metadata": {
        "id": "JkZf6OCUY8Pc"
      },
      "outputs": [],
      "source": [
        "for i in range(1000):\n",
        "\n",
        "    n = (w>0)&(w<t)\n",
        "\n",
        "    n = conv2(n,f)\n",
        "\n",
        "    w = ((w==0) & (n>=t1)) \\\n",
        "    +  2*(w==1)            \\\n",
        "    +  3*(w==2)            \\\n",
        "    +  4*(w==3)            \\\n",
        "    +  5*(w==4)            \\\n",
        "    +  6*(w==5)            \\\n",
        "    +  7*(w==6)            \\\n",
        "    +  8*(w==7)            \\\n",
        "    +  9*(w==8)            \\\n",
        "    +  0*(w==9)            \\\n",
        "\n",
        "    A[i] = w\n",
        "#This code iteratively simulates nonlinear wave propagation for 1000 steps, updating the grid \"w\" based on the presence and intensity of waves and storing each step in an array for animation."
      ]
    },
    {
      "cell_type": "code",
      "execution_count": null,
      "metadata": {
        "id": "WjsFp4QAP1vp"
      },
      "outputs": [],
      "source": [
        "make_ani(A)"
      ]
    },
    {
      "cell_type": "code",
      "execution_count": null,
      "metadata": {
        "id": "Ghv69rumZhf2"
      },
      "outputs": [],
      "source": []
    },
    {
      "cell_type": "code",
      "execution_count": null,
      "metadata": {
        "id": "fLGKzcZcZhnx"
      },
      "outputs": [],
      "source": []
    },
    {
      "cell_type": "code",
      "execution_count": null,
      "metadata": {
        "id": "sCnWMzkUP17w"
      },
      "outputs": [],
      "source": [
        "#Wireword Wire\n",
        "#{empty=0 electron_head=1 electron_tail=2, wire=3}"
      ]
    },
    {
      "cell_type": "code",
      "execution_count": null,
      "metadata": {
        "id": "edjLgZW2Ba8t"
      },
      "outputs": [],
      "source": [
        "w = np.zeros((100,100))\n",
        "w[50,:] = 3\n",
        "w[50,5] = 2\n",
        "w[50,6] = 1\n",
        "\n",
        "f = np.matrix([[1,1,1],[1,0,1],[1,1,1]])\n",
        "\n",
        "steps = 1000\n",
        "A = torch.zeros((steps,100,100)) # storage for frames for animation\n",
        "w = torch.from_numpy(w)[None,None,:,:]\n",
        "f = torch.from_numpy(f)[None,None,:,:]\n",
        "#The code initializes a wire grid with electrons moving from a specified point using a 3x3 filter, with animation frames stored for visualization."
      ]
    },
    {
      "cell_type": "code",
      "execution_count": null,
      "metadata": {
        "id": "IOZ3YHNUBa80"
      },
      "outputs": [],
      "source": [
        "for i in range(100):\n",
        "\n",
        "    n=w==1\n",
        "\n",
        "    n = conv2(n,f)\n",
        "\n",
        "    w = 1*((w==3)& ((n==1) | (n==2)))                 \\\n",
        "    +   3*((w==3)& ((n!=1) & (n!=2)))                 \\\n",
        "    +   0*(w==0)                    \\\n",
        "    +   2*(w==1)                    \\\n",
        "    +   3*(w==2)                    \\\n",
        "\n",
        "    A[i] = w\n",
        "#The loop iterates 100 times, updating the wire grid according to cellular automaton rules based on neighboring electron positions, storing each frame for animation."
      ]
    },
    {
      "cell_type": "code",
      "execution_count": null,
      "metadata": {
        "id": "KxqX-Ez-aGde"
      },
      "outputs": [],
      "source": [
        "make_ani(A, colormap='magma')"
      ]
    },
    {
      "cell_type": "code",
      "execution_count": null,
      "metadata": {
        "id": "1Nr-I5AvaKMl"
      },
      "outputs": [],
      "source": []
    },
    {
      "cell_type": "code",
      "execution_count": null,
      "metadata": {
        "id": "FFg6rTK_P4Nd"
      },
      "outputs": [],
      "source": [
        "#Wireworld Oscillator"
      ]
    },
    {
      "cell_type": "code",
      "execution_count": null,
      "metadata": {
        "id": "Y46FMZiuBa83"
      },
      "outputs": [],
      "source": [
        "w = np.zeros((100,100))\n",
        "w[50,15:-1] = 3\n",
        "w[48,5:15] = 3\n",
        "w[52,5:15] = 3\n",
        "w[49:52,4] = 3\n",
        "w[49:52,15] = 3\n",
        "w[52,14] = 1\n",
        "w[52,13] = 2\n",
        "\n",
        "f = np.matrix([[1,1,1],[1,0,1],[1,1,1]])\n",
        "\n",
        "steps = 1000\n",
        "A = torch.zeros((steps,100,100)) # storage for frames for animation\n",
        "w = torch.from_numpy(w)[None,None,:,:]\n",
        "f = torch.from_numpy(f)[None,None,:,:]\n",
        "#The code initializes a wire grid representing a Wireworld oscillator, with animation frames stored for visualization, and utilizes a 3x3 filter for cellular automaton-based simulation."
      ]
    },
    {
      "cell_type": "code",
      "execution_count": null,
      "metadata": {
        "id": "Jr3LUGPOBa85"
      },
      "outputs": [],
      "source": [
        "for i in range(steps):\n",
        "\n",
        "    n = w == 1\n",
        "\n",
        "    n = conv2(n,f)\n",
        "\n",
        "    w = 0*((w==0))                                    \\\n",
        "    +   2*((w==1))                                    \\\n",
        "    +   3*((w==2))                                    \\\n",
        "    +   3*((w==3)& ((n!=1) & (n!=2)))                 \\\n",
        "    +   1*((w==3)& ((n==1) | (n==2)))                 \\\n",
        "\n",
        "    A[i] = w\n",
        "#The loop iterates through simulation steps, updating the Wireworld oscillator grid based on cellular automaton rules with neighboring electron positions, storing each frame for animation."
      ]
    },
    {
      "cell_type": "code",
      "execution_count": null,
      "metadata": {
        "id": "yfxi8LR3Ba88"
      },
      "outputs": [],
      "source": [
        "make_ani(A, colormap='magma')"
      ]
    },
    {
      "cell_type": "code",
      "execution_count": null,
      "metadata": {
        "id": "HTy-QaW8Jn3E"
      },
      "outputs": [],
      "source": []
    },
    {
      "cell_type": "code",
      "execution_count": null,
      "metadata": {
        "id": "FFxXcR90Jn5q"
      },
      "outputs": [],
      "source": []
    },
    {
      "cell_type": "code",
      "execution_count": null,
      "metadata": {
        "id": "Xa31-t6qchWZ"
      },
      "outputs": [],
      "source": [
        "#FitzHugh-Nagumo Reaction Diffusion"
      ]
    },
    {
      "cell_type": "code",
      "execution_count": null,
      "metadata": {
        "id": "_XT2WTPkbG7T"
      },
      "outputs": [],
      "source": [
        "def laplacian(U):\n",
        "    n = conv2d(U,laplace)\n",
        "    n = pad(n, (1, 1, 1, 1),'circular')\n",
        "    return n\n",
        "#The function `laplacian` computes the discrete Laplacian of a 2D array `U` using a predefined laplace filter through convolution and circular padding."
      ]
    },
    {
      "cell_type": "code",
      "execution_count": null,
      "metadata": {
        "id": "w-rYHko_chtD"
      },
      "outputs": [],
      "source": [
        "laplace = 0.5*np.array([[0.5, 1.0, 0.5],\n",
        "                        [1.0, -6., 1.0],\n",
        "                        [0.5, 1.0, 0.5]])\n",
        "#The `laplace` variable is a 3x3 numpy array representing a discrete Laplacian filter with central weight -6 and surrounding weights 0.5, used in convolution operations for computing Laplacian in the FitzHugh-Nagumo Reaction Diffusion simulation."
      ]
    },
    {
      "cell_type": "code",
      "execution_count": null,
      "metadata": {
        "id": "TWCc_FWDbG92"
      },
      "outputs": [],
      "source": [
        "N = 256 #Sets the variable N to 256, representing the dimension of the square grid.\n",
        "h = 0.05 #Defines the step size or spacing between grid points.\n",
        "\n",
        "A = np.zeros([N, N], dtype=np.float32)\n",
        "#Initializes a 2D array A of size N by N with all elements set to 0.0.\n",
        "A = A + -0.7\n",
        "#Updates array A by adding -0.7 to all its elements, effectively setting all elements of A to -0.7.\n",
        "noise_shape = A[:,120:130].shape\n",
        "# Determines the shape of a subset of A, specifically rows from index 120 to 129 and all columns.\n",
        "A[:,120:130] = (np.random.normal(0.9,0.05,size=noise_shape))\n",
        "#Assigns random values drawn from a normal distribution with mean 0.9 and standard deviation 0.05 to the subset of A defined by rows from index 120 to 129 and all columns.\n",
        "B = np.zeros([N, N], dtype=np.float32)\n",
        "#Initializes another 2D array B of size N by N with all elements set to 0.0.\n",
        "B = B + -0.3\n",
        "#Updates array B by adding -0.3 to all its elements, effectively setting all elements of B to -0.3."
      ]
    },
    {
      "cell_type": "code",
      "execution_count": null,
      "metadata": {
        "id": "wqTsRtlmbHJj"
      },
      "outputs": [],
      "source": [
        "w1 = plot(A)"
      ]
    },
    {
      "cell_type": "code",
      "execution_count": null,
      "metadata": {
        "id": "LiXIWRSWdNfT"
      },
      "outputs": [],
      "source": [
        "a0 = -0.1\n",
        "a1 = 2\n",
        "epsilon = 0.05\n",
        "delta = 4\n",
        "k1 = 1\n",
        "k2 = 0\n",
        "k3 = 1\n",
        "#Defines parameters `a0`, `a1`, `epsilon`, `delta`, `k1`, `k2`, and `k3` for a mathematical model or simulation."
      ]
    },
    {
      "cell_type": "code",
      "execution_count": null,
      "metadata": {
        "id": "6Od9v_frdl3Y"
      },
      "outputs": [],
      "source": [
        "A = torch.from_numpy(A)[None,None,:,:].cuda()\n",
        "B = torch.from_numpy(B)[None,None,:,:].cuda()\n",
        "laplace = torch.from_numpy(laplace)[None,None,:,:].type(torch.float).cuda()\n",
        "#Converts numpy arrays `A` and `B` to PyTorch tensors, and also converts the Laplacian filter `laplace` to a PyTorch tensor, then moves them to GPU memory for computation."
      ]
    },
    {
      "cell_type": "code",
      "execution_count": null,
      "metadata": {
        "id": "wKJNYxhXd9lJ"
      },
      "outputs": [],
      "source": [
        "steps = 100\n",
        "P = torch.zeros((steps,N,N)) # storage for frames for animation\n",
        "#Initializes a tensor `P` with dimensions `(steps, N, N)` to store frames for animation over 100 steps."
      ]
    },
    {
      "cell_type": "code",
      "execution_count": null,
      "metadata": {
        "id": "xmUD6jgBdNhr"
      },
      "outputs": [],
      "source": [
        "j = 0\n",
        "for i in range(steps*1000):\n",
        "\n",
        "    A += h*( k1*A - k2*A**2 - A**3 - B + laplacian(A))\n",
        "    B += h*( epsilon*(k3*A - a1*B -a0) + delta*laplacian(B) )\n",
        "\n",
        "    if i % 1000 == 0:\n",
        "        P[j] = A\n",
        "        j += 1\n",
        "#The loop iterates over a large number of time steps, updating the concentrations of substances A and B according to reaction-diffusion equations, storing frames of substance A's concentration every 1000 steps for animation."
      ]
    },
    {
      "cell_type": "code",
      "execution_count": null,
      "metadata": {
        "id": "ZwSOrvw2dNnW"
      },
      "outputs": [],
      "source": [
        "make_ani(P)"
      ]
    },
    {
      "cell_type": "code",
      "execution_count": null,
      "metadata": {
        "id": "IpRSemQlbHL1"
      },
      "outputs": [],
      "source": []
    },
    {
      "cell_type": "code",
      "execution_count": null,
      "metadata": {
        "id": "U84aZTfmjO2X"
      },
      "outputs": [],
      "source": [
        "#Gray Scott Reaction Diffusion"
      ]
    },
    {
      "cell_type": "code",
      "execution_count": null,
      "metadata": {
        "id": "IdbalV8aqNsF"
      },
      "outputs": [],
      "source": [
        "laplace = 0.5*np.array([[0.5, 1.0, 0.5],\n",
        "                        [1.0, -6., 1.0],\n",
        "                        [0.5, 1.0, 0.5]])\n",
        "#Defines a Laplacian filter for use in the Gray-Scott reaction diffusion simulation, with central weight -6 and surrounding weights 0.5."
      ]
    },
    {
      "cell_type": "code",
      "execution_count": null,
      "metadata": {
        "id": "kKU5iV0WqNsH"
      },
      "outputs": [],
      "source": [
        "laplace = torch.from_numpy(laplace)[None,None,:,:].type(torch.float).cuda()\n",
        "#Converts the Laplacian filter defined as a numpy array to a PyTorch tensor, then moves it to GPU memory for computation."
      ]
    },
    {
      "cell_type": "code",
      "execution_count": null,
      "metadata": {
        "id": "K4tiCjkJqNsI"
      },
      "outputs": [],
      "source": [
        "def laplacian(U):\n",
        "    n = conv2d(U,laplace)\n",
        "    n = pad(n, (1,1,1,1))\n",
        "    n = pad(n, (0,0,0,0))\n",
        "    return n\n",
        "#Defines a function `laplacian(U)` to compute the discrete Laplacian of a 2D array `U` using convolution with the laplace filter followed by zero padding."
      ]
    },
    {
      "cell_type": "code",
      "execution_count": null,
      "metadata": {
        "id": "FPN0-Px3pX_I"
      },
      "outputs": [],
      "source": [
        "(Du, Dv, F, k) = ((0.16, 0.08, 0.035, 0.065)) # Bacteria 1\n",
        "# (Du, Dv, F, k) = ((0.14, 0.06, 0.035, 0.065)) # Bacteria 2\n",
        "# (Du, Dv, F, k) = ((0.16, 0.08, 0.060, 0.062)) # Coral\n",
        "# (Du, Dv, F, k) = ((0.19, 0.05, 0.060, 0.062)) # Fingerprint\n",
        "# (Du, Dv, F, k) = ((0.10, 0.10, 0.018, 0.050)) # Spirals\n",
        "# (Du, Dv, F, k) = ((0.12, 0.08, 0.020, 0.050)) # Spirals Dense\n",
        "# (Du, Dv, F, k) = ((0.10, 0.16, 0.020, 0.050)) # Spirals Fast\n",
        "# (Du, Dv, F, k) = ((0.16, 0.08, 0.020, 0.055)) # Unstable\n",
        "# (Du, Dv, F, k) = ((0.16, 0.08, 0.050, 0.065)) # Worms 1\n",
        "# (Du, Dv, F, k) = ((0.16, 0.08, 0.054, 0.063)) # Worms 2\n",
        "# (Du, Dv, F, k) = ((0.16, 0.08, 0.035, 0.060)) # Zebrafish\n",
        "\n",
        "N = 256\n",
        "\n",
        "U = np.zeros((N,N)) # Clear Chemicals\n",
        "V = np.zeros((N,N))\n",
        "\n",
        "U = U + 1.0\n",
        "r = 5\n",
        "U[N//2-r:N//2+r,N//2-r:N//2+r] = 0.50 # Add Disturbance in Center Square Radius r\n",
        "V[N//2-r:N//2+r,N//2-r:N//2+r] = 0.25\n",
        "\n",
        "U += 0.05*np.random.random((N,N)) # Add Noise to Chemicals\n",
        "V += 0.05*np.random.random((N,N))\n",
        "\n",
        "U = torch.from_numpy(U)[None,None,:,:].type(torch.float).cuda()\n",
        "V = torch.from_numpy(V)[None,None,:,:].type(torch.float).cuda()\n",
        "\n",
        "steps = 2000\n",
        "skip = 100\n",
        "P = torch.zeros((steps,N,N)) # storage for frames for animation\n",
        "#Sets parameters for the reaction-diffusion simulation representing Bacteria 1, such as diffusion rates (Du and Dv), feed rate F, and kill rate k.\n",
        "# Initializes 2D arrays U and V representing the concentrations of two chemicals. U represents clear chemicals, and V represents an associated chemical. A disturbance is added in the center of the grid, and noise is introduced to both chemicals.\n",
        "# Converts numpy arrays U and V to PyTorch tensors and moves them to GPU memory for computation.\n",
        "#Runs the reaction-diffusion simulation for 2000 steps, storing frames every 100 steps for animation."
      ]
    },
    {
      "cell_type": "code",
      "execution_count": null,
      "metadata": {
        "id": "jzeJoWVVmvq_"
      },
      "outputs": [],
      "source": [
        "j = 0\n",
        "for i in range(steps*skip):\n",
        "\n",
        "    U += ( Du*laplacian(U) - U*V**2 +  F   *(1-U) )\n",
        "#Updates the concentration of chemical U based on diffusion, reaction, and feed rate equations in a Gray-Scott reaction-diffusion model.\n",
        "    V += ( Dv*laplacian(V) + U*V**2 - (F+k)*V     )\n",
        "#Updates the concentration of chemical V based on diffusion and reaction equations in a Gray-Scott reaction-diffusion model.\n",
        "    if i % skip == 0: #Checks if the current iteration is a multiple of the skipping factor.\n",
        "        P[j] = U # Stores the concentration of chemical U in the storage tensor P at index j.\n",
        "        j += 1 #Increments the index j for storing frames."
      ]
    },
    {
      "cell_type": "code",
      "execution_count": null,
      "metadata": {
        "id": "PtrQH4D3mvtl"
      },
      "outputs": [],
      "source": [
        "make_ani(P)"
      ]
    },
    {
      "cell_type": "code",
      "execution_count": null,
      "metadata": {
        "id": "-mLJGXBO8iT_"
      },
      "outputs": [],
      "source": []
    },
    {
      "cell_type": "code",
      "execution_count": null,
      "metadata": {
        "id": "gnj3OQ0xsG2f"
      },
      "outputs": [],
      "source": []
    },
    {
      "cell_type": "code",
      "execution_count": null,
      "metadata": {
        "id": "mtx0dm_nDdtD"
      },
      "outputs": [],
      "source": []
    },
    {
      "cell_type": "code",
      "execution_count": null,
      "metadata": {
        "id": "BaCphmfnDdvj"
      },
      "outputs": [],
      "source": []
    },
    {
      "cell_type": "code",
      "execution_count": null,
      "metadata": {
        "id": "D0njv9ccDdyG"
      },
      "outputs": [],
      "source": []
    },
    {
      "cell_type": "code",
      "execution_count": null,
      "metadata": {
        "id": "4mFoVXvzDeRb"
      },
      "outputs": [],
      "source": [
        "# (Du, Dv, F, k) = ((0.16, 0.08, 0.035, 0.065)) # Bacteria 1\n",
        "# (Du, Dv, F, k) = ((0.14, 0.06, 0.035, 0.065)) # Bacteria 2\n",
        "# (Du, Dv, F, k) = ((0.16, 0.08, 0.060, 0.062)) # Coral\n",
        "# (Du, Dv, F, k) = ((0.19, 0.05, 0.060, 0.062)) # Fingerprint\n",
        "# (Du, Dv, F, k) = ((0.10, 0.10, 0.018, 0.050)) # Spirals\n",
        "# (Du, Dv, F, k) = ((0.12, 0.08, 0.020, 0.050)) # Spirals Dense\n",
        "# (Du, Dv, F, k) = ((0.10, 0.16, 0.020, 0.050)) # Spirals Fast\n",
        "# (Du, Dv, F, k) = ((0.16, 0.08, 0.020, 0.055)) # Unstable\n",
        "# (Du, Dv, F, k) = ((0.16, 0.08, 0.050, 0.065)) # Worms 1\n",
        "# (Du, Dv, F, k) = ((0.16, 0.08, 0.054, 0.063)) # Worms 2\n",
        "(Du, Dv, F, k) = ((0.16, 0.08, 0.035, 0.060)) # Zebrafish\n",
        "\n",
        "N = 256\n",
        "\n",
        "U = np.zeros((N,N)) # Clear Chemicals\n",
        "V = np.zeros((N,N))\n",
        "\n",
        "U = U + 1.0\n",
        "r = 5\n",
        "U[N//2-r:N//2+r,N//2-r:N//2+r] = 0.50 # Add Disturbance in Center Square Radius r\n",
        "V[N//2-r:N//2+r,N//2-r:N//2+r] = 0.25\n",
        "\n",
        "U += 0.05*np.random.random((N,N)) # Add Noise to Chemicals\n",
        "V += 0.05*np.random.random((N,N))\n",
        "\n",
        "U = torch.from_numpy(U)[None,None,:,:].type(torch.float).cuda()\n",
        "V = torch.from_numpy(V)[None,None,:,:].type(torch.float).cuda()\n",
        "\n",
        "steps = 2000\n",
        "skip = 100\n",
        "P = torch.zeros((steps,N,N)) # storage for frames for animation\n",
        "#This section initializes parameters and grids for a reaction-diffusion\n",
        "#simulation representing Zebrafish, adds disturbances and noise to the chemical\n",
        "#concentrations, converts them to PyTorch tensors on the GPU, and sets up storage for animation frames over 2000 steps."
      ]
    },
    {
      "cell_type": "code",
      "execution_count": null,
      "metadata": {
        "id": "N4wWh13XDeRg"
      },
      "outputs": [],
      "source": [
        "j = 0\n",
        "for i in range(steps*skip):\n",
        "\n",
        "    U += ( Du*laplacian(U) - U*V**2 +  F   *(1-U) )\n",
        "    V += ( Dv*laplacian(V) + U*V**2 - (F+k)*V     )\n",
        "\n",
        "    if i % skip == 0:\n",
        "        P[j] = U\n",
        "        j += 1\n",
        "#This loop iterates through a large number of simulation steps, updating the concentrations of chemicals U and V according to reaction-diffusion equations in a Zebrafish model. It stores frames of chemical U's concentration every 100 steps for animation."
      ]
    },
    {
      "cell_type": "code",
      "execution_count": null,
      "metadata": {
        "colab": {
          "background_save": true
        },
        "id": "pk7tCuvHDeRi"
      },
      "outputs": [],
      "source": [
        "make_ani(P)"
      ]
    },
    {
      "cell_type": "code",
      "execution_count": null,
      "metadata": {
        "colab": {
          "background_save": true
        },
        "id": "hoQU0BSXD5Xh"
      },
      "outputs": [],
      "source": []
    },
    {
      "cell_type": "code",
      "execution_count": null,
      "metadata": {
        "colab": {
          "background_save": true
        },
        "id": "fKk4EC3TEjZa"
      },
      "outputs": [],
      "source": []
    },
    {
      "cell_type": "code",
      "execution_count": null,
      "metadata": {
        "colab": {
          "background_save": true
        },
        "id": "MtwLCqO-Ejbi"
      },
      "outputs": [],
      "source": []
    },
    {
      "cell_type": "code",
      "execution_count": null,
      "metadata": {
        "colab": {
          "background_save": true
        },
        "id": "lAImyJ6cEjdh"
      },
      "outputs": [],
      "source": []
    },
    {
      "cell_type": "code",
      "execution_count": null,
      "metadata": {
        "colab": {
          "background_save": true
        },
        "id": "eP1M9zDfEj2Z"
      },
      "outputs": [],
      "source": [
        "# (Du, Dv, F, k) = ((0.16, 0.08, 0.035, 0.065)) # Bacteria 1\n",
        "# (Du, Dv, F, k) = ((0.14, 0.06, 0.035, 0.065)) # Bacteria 2\n",
        "(Du, Dv, F, k) = ((0.16, 0.08, 0.060, 0.062)) # Coral\n",
        "# (Du, Dv, F, k) = ((0.19, 0.05, 0.060, 0.062)) # Fingerprint\n",
        "# (Du, Dv, F, k) = ((0.10, 0.10, 0.018, 0.050)) # Spirals\n",
        "# (Du, Dv, F, k) = ((0.12, 0.08, 0.020, 0.050)) # Spirals Dense\n",
        "# (Du, Dv, F, k) = ((0.10, 0.16, 0.020, 0.050)) # Spirals Fast\n",
        "# (Du, Dv, F, k) = ((0.16, 0.08, 0.020, 0.055)) # Unstable\n",
        "# (Du, Dv, F, k) = ((0.16, 0.08, 0.050, 0.065)) # Worms 1\n",
        "# (Du, Dv, F, k) = ((0.16, 0.08, 0.054, 0.063)) # Worms 2\n",
        "# (Du, Dv, F, k) = ((0.16, 0.08, 0.035, 0.060)) # Zebrafish\n",
        "\n",
        "N = 256\n",
        "\n",
        "U = np.zeros((N,N)) # Clear Chemicals\n",
        "V = np.zeros((N,N))\n",
        "\n",
        "U = U + 1.0\n",
        "r = 5\n",
        "U[N//2-r:N//2+r,N//2-r:N//2+r] = 0.50 # Add Disturbance in Center Square Radius r\n",
        "V[N//2-r:N//2+r,N//2-r:N//2+r] = 0.25\n",
        "\n",
        "U += 0.05*np.random.random((N,N)) # Add Noise to Chemicals\n",
        "V += 0.05*np.random.random((N,N))\n",
        "\n",
        "U = torch.from_numpy(U)[None,None,:,:].type(torch.float).cuda()\n",
        "V = torch.from_numpy(V)[None,None,:,:].type(torch.float).cuda()\n",
        "\n",
        "steps = 8000\n",
        "skip = 100\n",
        "P = torch.zeros((steps,N,N)) # storage for frames for animation\n",
        "#This section initializes parameters and grids for a reaction-diffusion\n",
        "#simulation representing Coral, adds disturbances and noise to the chemical\n",
        "#concentrations, converts them to PyTorch tensors on the GPU, and sets up storage for animation frames over 8000 steps."
      ]
    },
    {
      "cell_type": "code",
      "execution_count": null,
      "metadata": {
        "id": "XPrvkqwOEj2f"
      },
      "outputs": [],
      "source": [
        "j = 0\n",
        "for i in range(steps*skip):\n",
        "\n",
        "    U += ( Du*laplacian(U) - U*V**2 +  F   *(1-U) )\n",
        "    V += ( Dv*laplacian(V) + U*V**2 - (F+k)*V     )\n",
        "\n",
        "    if i % skip == 0:\n",
        "        P[j] = U\n",
        "        j += 1\n",
        "#This loop iterates through a large number of simulation steps, updating the\n",
        "#concentrations of chemicals U and V according to reaction-diffusion equations in a Coral model.\n",
        "#It stores frames of chemical U's concentration every 100 steps for animation."
      ]
    },
    {
      "cell_type": "code",
      "execution_count": null,
      "metadata": {
        "colab": {
          "background_save": true
        },
        "id": "4dvKRFCrEj2i"
      },
      "outputs": [],
      "source": [
        "make_ani(P)"
      ]
    },
    {
      "cell_type": "code",
      "execution_count": null,
      "metadata": {
        "colab": {
          "background_save": true
        },
        "id": "D7JBr9lNEmSw"
      },
      "outputs": [],
      "source": []
    }
  ],
  "metadata": {
    "accelerator": "GPU",
    "colab": {
      "machine_shape": "hm",
      "provenance": []
    },
    "kernelspec": {
      "display_name": "Python 3",
      "name": "python3"
    }
  },
  "nbformat": 4,
  "nbformat_minor": 0
}