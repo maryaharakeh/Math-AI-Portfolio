{
  "nbformat": 4,
  "nbformat_minor": 0,
  "metadata": {
    "colab": {
      "provenance": []
    },
    "kernelspec": {
      "name": "python3",
      "display_name": "Python 3"
    },
    "language_info": {
      "name": "python"
    }
  },
  "cells": [
    {
      "cell_type": "code",
      "execution_count": null,
      "metadata": {
        "colab": {
          "base_uri": "https://localhost:8080/"
        },
        "id": "7hgcQpv0RWRB",
        "outputId": "a1695f46-acc2-4eec-95db-96934031fafb"
      },
      "outputs": [
        {
          "output_type": "execute_result",
          "data": {
            "text/plain": [
              "(torch.Size([60000, 28, 28]), torch.Size([60000]))"
            ]
          },
          "metadata": {},
          "execution_count": 23
        }
      ],
      "source": [
        "import torch\n",
        "#Imports the PyTorch library, enabling the use of its functions and classes in the code.\n",
        "from torchvision import datasets, transforms\n",
        "#Imports specific modules (datasets and transforms) from the torchvision package. datasets contains pre-built datasets like MNIST, and transforms provides functions for data preprocessing.\n",
        "import numpy as np\n",
        "#Imports the NumPy library and assigns it the alias np. NumPy is commonly used for numerical computations in Python.\n",
        "\n",
        "# Define a transform to normalize the data\n",
        "transform = transforms.Compose([transforms.ToTensor()])\n",
        "# Defines a data transformation pipeline using transforms.Compose. In this case, it consists of a single transformation, transforms.ToTensor(), which converts PIL images or numpy arrays into PyTorch tensors.\n",
        "\n",
        "# Download and load the MNIST training data\n",
        "train_data = datasets.MNIST(root='./data', train=True, download=True, transform=transform)\n",
        "#Downloads and loads the MNIST training dataset using the datasets.MNIST class. It specifies the root directory to save the data (./data), sets train=True to load the training set, download=True to download the dataset if it's not already available locally, and applies the previously defined transformation (transform=transform).\n",
        "\n",
        "# Extracting the data and targets as tensors\n",
        "train_images = train_data.data\n",
        "#Extracts the images from the MNIST training dataset and assigns them to the variable train_images. The images are stored as torch tensors.\n",
        "train_labels = train_data.targets\n",
        "#Extracts the corresponding labels (targets) from the MNIST training dataset and assigns them to the variable train_labels. The labels are also stored as torch tensors.\n",
        "train_images.shape, train_labels.shape\n",
        "#Outputs the shapes of the train_images tensor and the train_labels tensor, respectively, providing information about the dimensions of the data.\n",
        "\n",
        "#In summary, this code downloads the MNIST dataset, consisting of handwritten digit images and their corresponding labels, and prepares them for training a machine learning model by converting them into PyTorch tensors."
      ]
    },
    {
      "cell_type": "code",
      "source": [
        "import matplotlib.pyplot as plt #imports library"
      ],
      "metadata": {
        "id": "Pbf8_IHNRtNA"
      },
      "execution_count": null,
      "outputs": []
    },
    {
      "cell_type": "code",
      "source": [
        "28*28 #product: The significance of \"28*28\" lies in its association with the MNIST dataset, where each image is represented as a 28x28 grid of pixels. This size, 28x28, defines the dimensions of each image in the dataset. In machine learning tasks using MNIST, this size is crucial for tasks such as data preprocessing, model input shape specification, and understanding the complexity of the dataset."
      ],
      "metadata": {
        "colab": {
          "base_uri": "https://localhost:8080/"
        },
        "id": "QAdnI0j8T3QK",
        "outputId": "bd983ac4-7bef-492a-8fb0-f4495074fb55"
      },
      "execution_count": null,
      "outputs": [
        {
          "output_type": "execute_result",
          "data": {
            "text/plain": [
              "784"
            ]
          },
          "metadata": {},
          "execution_count": 13
        }
      ]
    },
    {
      "cell_type": "code",
      "source": [
        "train_images[0,:,:] #This line selects the first image from the train_images tensor along the first dimension (index 0), returning all rows and columns of the image."
      ],
      "metadata": {
        "id": "OnzkHg7HSLQ8"
      },
      "execution_count": null,
      "outputs": []
    },
    {
      "cell_type": "code",
      "source": [
        "x = train_images[0,:,:] #This line selects the first image from the `train_images` tensor and assigns it to a variable"
      ],
      "metadata": {
        "id": "pIfJV1IJSRUo"
      },
      "execution_count": null,
      "outputs": []
    },
    {
      "cell_type": "code",
      "source": [
        "plt.imshow(x) #`plt.imshow(x)` displays the image represented by the numpy array or tensor `x` using Matplotlib."
      ],
      "metadata": {
        "id": "A_R5R-6BSVOn"
      },
      "execution_count": null,
      "outputs": []
    },
    {
      "cell_type": "code",
      "source": [
        "train_labels[0] #It accesses the first label in the `train_labels` tensor."
      ],
      "metadata": {
        "colab": {
          "base_uri": "https://localhost:8080/"
        },
        "id": "s6u78OlNSXAU",
        "outputId": "30b7530e-b66c-4e42-98d4-1018b0a05513"
      },
      "execution_count": null,
      "outputs": [
        {
          "output_type": "execute_result",
          "data": {
            "text/plain": [
              "tensor(5)"
            ]
          },
          "metadata": {},
          "execution_count": 46
        }
      ]
    },
    {
      "cell_type": "code",
      "source": [
        "x.shape #Returns the shape (dimensions) of tensor \\( x \\)."
      ],
      "metadata": {
        "colab": {
          "base_uri": "https://localhost:8080/"
        },
        "id": "5HhI_OTdSibN",
        "outputId": "47037a5f-fcb9-4aa9-f841-5f4f18eb3893"
      },
      "execution_count": null,
      "outputs": [
        {
          "output_type": "execute_result",
          "data": {
            "text/plain": [
              "torch.Size([28, 28])"
            ]
          },
          "metadata": {},
          "execution_count": 47
        }
      ]
    },
    {
      "cell_type": "code",
      "source": [
        "x.flatten() #This line flattens the tensor `x`, converting it from a multi-dimensional array to a one-dimensional array."
      ],
      "metadata": {
        "id": "wwWDJuPtUHuA"
      },
      "execution_count": null,
      "outputs": []
    },
    {
      "cell_type": "code",
      "source": [
        "x = x.flatten() #assigns to a variable"
      ],
      "metadata": {
        "id": "c9xWQJoZUJ0y"
      },
      "execution_count": null,
      "outputs": []
    },
    {
      "cell_type": "code",
      "source": [
        "x.shape #This retrieves the shape of the tensor `x`, providing information about its dimensions."
      ],
      "metadata": {
        "colab": {
          "base_uri": "https://localhost:8080/"
        },
        "id": "cRnyzFjQUqOC",
        "outputId": "017e7cd4-0b1a-46d6-9d8d-d996cff27e85"
      },
      "execution_count": null,
      "outputs": [
        {
          "output_type": "execute_result",
          "data": {
            "text/plain": [
              "torch.Size([784])"
            ]
          },
          "metadata": {},
          "execution_count": 50
        }
      ]
    },
    {
      "cell_type": "code",
      "source": [
        "x = x.reshape(28,28) #This reshapes the tensor `x` into a 28x28 matrix."
      ],
      "metadata": {
        "id": "6P847sd4UrZj"
      },
      "execution_count": null,
      "outputs": []
    },
    {
      "cell_type": "code",
      "source": [
        "x.shape #gives dimensions"
      ],
      "metadata": {
        "colab": {
          "base_uri": "https://localhost:8080/"
        },
        "id": "cX6zb9FSUu8_",
        "outputId": "550313cb-2d53-452d-a564-4f67a717e338"
      },
      "execution_count": null,
      "outputs": [
        {
          "output_type": "execute_result",
          "data": {
            "text/plain": [
              "torch.Size([28, 28])"
            ]
          },
          "metadata": {},
          "execution_count": 52
        }
      ]
    },
    {
      "cell_type": "code",
      "source": [
        "m = torch.rand(10,784) #This creates a PyTorch tensor `m` of size 10x784 filled with random numbers sampled from a uniform distribution between 0 and 1."
      ],
      "metadata": {
        "id": "hybDXX2gUzPY"
      },
      "execution_count": null,
      "outputs": []
    },
    {
      "cell_type": "code",
      "source": [
        "m #displays"
      ],
      "metadata": {
        "id": "4jtW-Hg4X8hX"
      },
      "execution_count": null,
      "outputs": []
    },
    {
      "cell_type": "code",
      "source": [
        "m.shape #This retrieves the shape of the tensor `m`, indicating it has 10 rows and 784 columns."
      ],
      "metadata": {
        "colab": {
          "base_uri": "https://localhost:8080/"
        },
        "id": "88lsibjqXSXM",
        "outputId": "f41bd765-f861-430a-de54-516280987ba8"
      },
      "execution_count": null,
      "outputs": [
        {
          "output_type": "execute_result",
          "data": {
            "text/plain": [
              "torch.Size([10, 784])"
            ]
          },
          "metadata": {},
          "execution_count": 55
        }
      ]
    },
    {
      "cell_type": "code",
      "source": [
        "x = x.flatten() #This line flattens the tensor `x`, converting it from a multi-dimensional array to a one-dimensional array."
      ],
      "metadata": {
        "id": "cNn7kpMdXemx"
      },
      "execution_count": null,
      "outputs": []
    },
    {
      "cell_type": "code",
      "source": [
        "x = x/255.0 #This line scales the values of tensor `x` to a range between 0 and 1 by dividing each element by 255.0."
      ],
      "metadata": {
        "id": "nec5TuEQX4MK"
      },
      "execution_count": null,
      "outputs": []
    },
    {
      "cell_type": "code",
      "source": [
        "x #displays new tensor"
      ],
      "metadata": {
        "id": "HhsqCX84YoTL"
      },
      "execution_count": null,
      "outputs": []
    },
    {
      "cell_type": "code",
      "source": [
        "m.shape,x.shape #gives tensor dimensions"
      ],
      "metadata": {
        "id": "5HgSoF3pXXRu"
      },
      "execution_count": null,
      "outputs": []
    },
    {
      "cell_type": "code",
      "source": [
        "m@x #This performs matrix multiplication between tensors `m` and `x`."
      ],
      "metadata": {
        "id": "c8qJZstIXaqW"
      },
      "execution_count": null,
      "outputs": []
    },
    {
      "cell_type": "code",
      "source": [
        "y = torch.matmul(m,x) #This computes the matrix multiplication of tensors `m` and `x`, resulting in tensor `y`."
      ],
      "metadata": {
        "id": "1qdbtf0PX2Qe"
      },
      "execution_count": null,
      "outputs": []
    },
    {
      "cell_type": "code",
      "source": [
        "y #displays tensor y"
      ],
      "metadata": {
        "id": "O8QJ0Za1YPbK"
      },
      "execution_count": null,
      "outputs": []
    },
    {
      "cell_type": "code",
      "source": [
        "torch.max(y) #This returns the maximum value contained within tensor `y`."
      ],
      "metadata": {
        "colab": {
          "base_uri": "https://localhost:8080/"
        },
        "id": "LRgRV4g1ZjSL",
        "outputId": "4741c5bd-981d-4b77-c7fd-74291fc19a27"
      },
      "execution_count": null,
      "outputs": [
        {
          "output_type": "execute_result",
          "data": {
            "text/plain": [
              "tensor(57.2089)"
            ]
          },
          "metadata": {},
          "execution_count": 67
        }
      ]
    },
    {
      "cell_type": "code",
      "source": [
        "torch.argmax(y) #This returns the index of the maximum value in tensor `y`."
      ],
      "metadata": {
        "colab": {
          "base_uri": "https://localhost:8080/"
        },
        "id": "DCKabh6EZomv",
        "outputId": "bc17406e-c04a-457e-c95e-78fd95148428"
      },
      "execution_count": null,
      "outputs": [
        {
          "output_type": "execute_result",
          "data": {
            "text/plain": [
              "tensor(5)"
            ]
          },
          "metadata": {},
          "execution_count": 68
        }
      ]
    },
    {
      "cell_type": "code",
      "source": [
        "x = train_images[0:25,:,:]/255.0 #This line scales and selects the first 25 images from the MNIST training dataset, converting their pixel values to a range between 0 and 1."
      ],
      "metadata": {
        "id": "odpJ6O3gZycR"
      },
      "execution_count": null,
      "outputs": []
    },
    {
      "cell_type": "code",
      "source": [
        "x.shape #This retrieves the shape of the tensor `x`, indicating it contains 25 images with dimensions 28x28 each."
      ],
      "metadata": {
        "colab": {
          "base_uri": "https://localhost:8080/"
        },
        "id": "1giRzDM6afmN",
        "outputId": "20c36d62-f5ce-4e85-f86a-9b1ebc25a665"
      },
      "execution_count": null,
      "outputs": [
        {
          "output_type": "execute_result",
          "data": {
            "text/plain": [
              "torch.Size([25, 28, 28])"
            ]
          },
          "metadata": {},
          "execution_count": 77
        }
      ]
    },
    {
      "cell_type": "code",
      "source": [
        "x = x.reshape(25,784) #This reshapes the tensor `x` into a 2D tensor with 25 rows and 784 columns, essentially flattening each image into a single row."
      ],
      "metadata": {
        "id": "rACrXIODagdn"
      },
      "execution_count": null,
      "outputs": []
    },
    {
      "cell_type": "code",
      "source": [
        "x.shape #gives tensor dimensions"
      ],
      "metadata": {
        "colab": {
          "base_uri": "https://localhost:8080/"
        },
        "id": "5nCNSnOcamYj",
        "outputId": "12b7a92a-3681-4607-b93a-99132e15a376"
      },
      "execution_count": null,
      "outputs": [
        {
          "output_type": "execute_result",
          "data": {
            "text/plain": [
              "torch.Size([25, 784])"
            ]
          },
          "metadata": {},
          "execution_count": 79
        }
      ]
    },
    {
      "cell_type": "code",
      "source": [
        "x  = x.T #This line transposes the tensor `x`, swapping its dimensions."
      ],
      "metadata": {
        "id": "ufx1iJ_IanQR"
      },
      "execution_count": null,
      "outputs": []
    },
    {
      "cell_type": "code",
      "source": [
        "x.shape #gives tensor dimensions"
      ],
      "metadata": {
        "colab": {
          "base_uri": "https://localhost:8080/"
        },
        "id": "pyTMtZeJasox",
        "outputId": "b19838cb-32f4-4914-aab9-d346250bc833"
      },
      "execution_count": null,
      "outputs": [
        {
          "output_type": "execute_result",
          "data": {
            "text/plain": [
              "torch.Size([784, 25])"
            ]
          },
          "metadata": {},
          "execution_count": 81
        }
      ]
    },
    {
      "cell_type": "code",
      "source": [
        "y = m@x #This line computes the matrix multiplication of tensors `m` and `x`, resulting in tensor `y`."
      ],
      "metadata": {
        "id": "UvoW2g0-at06"
      },
      "execution_count": null,
      "outputs": []
    },
    {
      "cell_type": "code",
      "source": [
        "y.shape #This retrieves the shape of the tensor `y`, indicating its dimensions."
      ],
      "metadata": {
        "colab": {
          "base_uri": "https://localhost:8080/"
        },
        "id": "kPL59VF-a7Oe",
        "outputId": "4274388a-c77c-47c9-8389-b4b343cf8e0c"
      },
      "execution_count": null,
      "outputs": [
        {
          "output_type": "execute_result",
          "data": {
            "text/plain": [
              "torch.Size([10, 25])"
            ]
          },
          "metadata": {},
          "execution_count": 84
        }
      ]
    },
    {
      "cell_type": "code",
      "source": [
        "plt.imshow(y) #This line displays the image represented by tensor `y` using matplotlib's imshow function."
      ],
      "metadata": {
        "colab": {
          "base_uri": "https://localhost:8080/",
          "height": 276
        },
        "id": "Y_JaBHfKbBB-",
        "outputId": "76b9e927-4e0c-40d2-9837-1c998d31c1db"
      },
      "execution_count": null,
      "outputs": [
        {
          "output_type": "execute_result",
          "data": {
            "text/plain": [
              "<matplotlib.image.AxesImage at 0x7dac2b3ab0a0>"
            ]
          },
          "metadata": {},
          "execution_count": 85
        },
        {
          "output_type": "display_data",
          "data": {
            "text/plain": [
              "<Figure size 640x480 with 1 Axes>"
            ],
            "image/png": "[encoded data removed]"
          },
          "metadata": {}
        }
      ]
    },
    {
      "cell_type": "code",
      "source": [],
      "metadata": {
        "id": "hey79wS9bEKe"
      },
      "execution_count": null,
      "outputs": []
    }
  ]
}